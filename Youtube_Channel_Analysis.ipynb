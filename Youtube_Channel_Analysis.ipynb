{
 "cells": [
  {
   "cell_type": "markdown",
   "metadata": {
    "colab_type": "text",
    "id": "hEzXnJYSSEBf"
   },
   "source": [
    "# Youtube Channel Analysis"
   ]
  },
  {
   "cell_type": "code",
   "execution_count": null,
   "metadata": {
    "colab": {},
    "colab_type": "code",
    "id": "xrpTduP6RwZf"
   },
   "outputs": [],
   "source": [
    "import pandas as pd\n",
    "import numpy as np\n",
    "import json\n",
    "import re\n",
    "from datetime import datetime\n",
    "\n",
    "from apiclient.discovery import build\n",
    "\n",
    "import matplotlib.pyplot as plt\n",
    "import seaborn as sns\n",
    "from IPython.core.display import display, HTML\n",
    "\n",
    "import warnings\n",
    "warnings.filterwarnings('ignore')"
   ]
  },
  {
   "cell_type": "code",
   "execution_count": null,
   "metadata": {
    "colab": {},
    "colab_type": "code",
    "id": "_o0ai3PZOgOd"
   },
   "outputs": [],
   "source": [
    "# Uility functions\n",
    "\n",
    "def parse_date(datestring):\n",
    "    return datetime.strptime(datestring, \"%Y-%m-%dT%H:%M:%S.%fZ\")\n",
    "  \n",
    "def parse_duration(duration):\n",
    "    \"\"\" Return seconds from the duration string in iso8601 format\n",
    "        Simple conversion that does not cover the date parts of the ISO format\n",
    "    \"\"\"\n",
    "    m = re.search(r'(\\d+)H', duration)\n",
    "    dh = int(m.group(1)) if m else 0\n",
    "    \n",
    "    m = re.search(r'(\\d+)M', duration)\n",
    "    dm = int(m.group(1)) if m else 0\n",
    "    \n",
    "    m = re.search(r'(\\d+)S', duration)\n",
    "    ds = int(m.group(1)) if m else 0\n",
    "    \n",
    "    return dh*3600 + dm*60 + ds"
   ]
  },
  {
   "cell_type": "code",
   "execution_count": null,
   "metadata": {
    "colab": {},
    "colab_type": "code",
    "id": "5mbgKvsMTurq"
   },
   "outputs": [],
   "source": [
    "# Load Youtube API Key from config.json\n",
    "with open('./config.json') as f:\n",
    "    config = json.load(f)\n",
    "    \n",
    "api_key = config['youtube']['api_key'] # or your api key\n",
    "\n",
    "channel_username = \"PewDiePie\" \n"
   ]
  },
  {
   "cell_type": "markdown",
   "metadata": {
    "colab_type": "text",
    "id": "m_V7vZR4RpfB"
   },
   "source": [
    "## Creating a Youtube service client"
   ]
  },
  {
   "cell_type": "code",
   "execution_count": null,
   "metadata": {
    "colab": {},
    "colab_type": "code",
    "id": "WqrxBOuphgYl"
   },
   "outputs": [],
   "source": [
    "# Creating the client\n",
    "client = build('youtube', 'v3', developerKey=api_key)"
   ]
  },
  {
   "cell_type": "markdown",
   "metadata": {
    "colab_type": "text",
    "id": "HlyY7QI6Rzk9"
   },
   "source": [
    "## Channel Information\n",
    "Channel info can be retrieved using channel ID or Youtube username.\n",
    "\n",
    "**Reference:** https://developers.google.com/youtube/v3/docs/channels/list\n"
   ]
  },
  {
   "cell_type": "code",
   "execution_count": null,
   "metadata": {
    "colab": {},
    "colab_type": "code",
    "id": "evYqP-bCR38d"
   },
   "outputs": [],
   "source": [
    "# api call: channel list\n",
    "res = client.channels().list(\n",
    "    part='snippet,contentDetails,statistics',\n",
    "    forUsername=channel_username\n",
    ").execute()\n",
    "#res"
   ]
  },
  {
   "cell_type": "code",
   "execution_count": 6,
   "metadata": {
    "colab": {
     "base_uri": "https://localhost:8080/",
     "height": 241
    },
    "colab_type": "code",
    "id": "mmi-_h7lOmit",
    "outputId": "58446253-58eb-406d-a617-53e5a2bd935c"
   },
   "outputs": [
    {
     "data": {
      "text/html": [
       "\n",
       "<table>\n",
       "<tr><td></td><td><img src=\"https://yt3.ggpht.com/a-/AAuE7mAPBVgUYqlLw9SvJyKAVWmgkQ2-KrkgSv4_5A=s88-mo-c-c0xffffffff-rj-k-no\"/></td></tr>\n",
       "<tr><td style=\"font-weight:bold\">Channel</td><td>PewDiePie</td></tr>\n",
       "<tr><td style=\"font-weight:bold\">Description</td><td>I make videos.</td></tr>\n",
       "<tr><td style=\"font-weight:bold\">Published Date</td><td>Apr 29, 2010</td></tr>\n",
       "<tr><td style=\"font-weight:bold\">Subscribers</td><td>89,295,964</td></tr>\n",
       "<tr><td style=\"font-weight:bold\">Total View</td><td>20,712,939,823</td></tr>\n",
       "<tr><td style=\"font-weight:bold\">Videos</td><td>3,773</td></tr>\n",
       "</table>\n"
      ],
      "text/plain": [
       "<IPython.core.display.HTML object>"
      ]
     },
     "metadata": {
      "tags": []
     },
     "output_type": "display_data"
    }
   ],
   "source": [
    "# extract channel informatio\n",
    "channel_id = res['items'][0]['id']\n",
    "  \n",
    "title = res['items'][0]['snippet']['title']\n",
    "description = res['items'][0]['snippet']['description']\n",
    "publishedAt = parse_date(res['items'][0]['snippet']['publishedAt'])\n",
    "imgurl = res['items'][0]['snippet']['thumbnails']['default']['url']\n",
    "region = res['items'][0]['snippet']['country']\n",
    "\n",
    "all_playlist_id = res['items'][0]['contentDetails']['relatedPlaylists']['uploads']\n",
    "\n",
    "viewCount = int(res['items'][0]['statistics']['viewCount'])\n",
    "subscriberCount = int(res['items'][0]['statistics']['subscriberCount'])\n",
    "videoCount = int(res['items'][0]['statistics']['videoCount'])\n",
    "\n",
    "# display channel information\n",
    "html = \"\"\"\n",
    "<table>\n",
    "<tr><td></td><td><img src=\"{0}\"/></td></tr>\n",
    "<tr><td style=\"font-weight:bold\">Channel</td><td>{1}</td></tr>\n",
    "<tr><td style=\"font-weight:bold\">Description</td><td>{2}</td></tr>\n",
    "<tr><td style=\"font-weight:bold\">Published Date</td><td>{3}</td></tr>\n",
    "<tr><td style=\"font-weight:bold\">Subscribers</td><td>{4:,}</td></tr>\n",
    "<tr><td style=\"font-weight:bold\">Total View</td><td>{5:,}</td></tr>\n",
    "<tr><td style=\"font-weight:bold\">Videos</td><td>{6:,}</td></tr>\n",
    "</table>\n",
    "\"\"\".format(imgurl, title, description, datetime.strftime(publishedAt, '%b %d, %Y'), \n",
    "           subscriberCount, viewCount, videoCount)\n",
    "\n",
    "display(HTML(html))"
   ]
  },
  {
   "cell_type": "markdown",
   "metadata": {
    "colab_type": "text",
    "id": "YvCoyG7lPN1j"
   },
   "source": [
    "## Video Category Labels\n",
    "Video category id & title mapping\n",
    "\n",
    "**Reference:** https://developers.google.com/youtube/v3/docs/videoCategories/list"
   ]
  },
  {
   "cell_type": "code",
   "execution_count": 7,
   "metadata": {
    "colab": {
     "base_uri": "https://localhost:8080/",
     "height": 593
    },
    "colab_type": "code",
    "id": "8CjcZ2pbHItn",
    "outputId": "8ff1a162-883c-442b-a651-3df353299419"
   },
   "outputs": [
    {
     "data": {
      "text/plain": [
       "{'1': 'Film & Animation',\n",
       " '10': 'Music',\n",
       " '15': 'Pets & Animals',\n",
       " '17': 'Sports',\n",
       " '18': 'Short Movies',\n",
       " '19': 'Travel & Events',\n",
       " '2': 'Autos & Vehicles',\n",
       " '20': 'Gaming',\n",
       " '21': 'Videoblogging',\n",
       " '22': 'People & Blogs',\n",
       " '23': 'Comedy',\n",
       " '24': 'Entertainment',\n",
       " '25': 'News & Politics',\n",
       " '26': 'Howto & Style',\n",
       " '27': 'Education',\n",
       " '28': 'Science & Technology',\n",
       " '29': 'Nonprofits & Activism',\n",
       " '30': 'Movies',\n",
       " '31': 'Anime/Animation',\n",
       " '32': 'Action/Adventure',\n",
       " '33': 'Classics',\n",
       " '34': 'Comedy',\n",
       " '35': 'Documentary',\n",
       " '36': 'Drama',\n",
       " '37': 'Family',\n",
       " '38': 'Foreign',\n",
       " '39': 'Horror',\n",
       " '40': 'Sci-Fi/Fantasy',\n",
       " '41': 'Thriller',\n",
       " '42': 'Shorts',\n",
       " '43': 'Shows',\n",
       " '44': 'Trailers'}"
      ]
     },
     "execution_count": 7,
     "metadata": {
      "tags": []
     },
     "output_type": "execute_result"
    }
   ],
   "source": [
    "res = client.videoCategories().list(part='snippet', regionCode=region).execute()\n",
    "categories = {}\n",
    "for item in res['items']:\n",
    "    categories[item['id']] = item['snippet']['title']\n",
    "categories\n"
   ]
  },
  {
   "cell_type": "markdown",
   "metadata": {
    "colab_type": "text",
    "id": "BLLA_3XLQP_e"
   },
   "source": [
    "## Retrieve all Video IDs from the channel\n",
    "\n",
    "You can get the list of all video ids of a channel by getting the playlist items of the 'uploads' playlist previously retrieved from the channel info\n",
    "\n",
    "**Reference:** https://developers.google.com/youtube/v3/docs/playlistItems/list"
   ]
  },
  {
   "cell_type": "code",
   "execution_count": 8,
   "metadata": {
    "colab": {
     "base_uri": "https://localhost:8080/",
     "height": 35
    },
    "colab_type": "code",
    "id": "5DqZOaOpPnCw",
    "outputId": "16edb872-e23e-4bec-84a8-339a7b98e6aa"
   },
   "outputs": [
    {
     "name": "stdout",
     "output_type": "stream",
     "text": [
      "Video count: 3774\n"
     ]
    }
   ],
   "source": [
    "def get_youtube_items(resource, part, **kwargs):\n",
    "    \"\"\" \n",
    "    Call list() method of the designated resource param (e.g. playlistItems(), videos(), etc.)\n",
    "    Then iterate through the entire paginated result set using pageToken parameter.\n",
    "    Extract and accumulate the content inside the 'items' key.\n",
    "    \"\"\"\n",
    "    res = resource.list(part=part, maxResults=50, **kwargs).execute()\n",
    "    items = res['items']\n",
    "    nextPageToken = res.get('nextPageToken','')\n",
    "    while nextPageToken:\n",
    "        res = resource.list(part=part, maxResults=50, \n",
    "                            pageToken=nextPageToken, **kwargs).execute()\n",
    "        items = items + res['items']\n",
    "        nextPageToken = res.get('nextPageToken','')\n",
    "    return items\n",
    "  \n",
    "\n",
    "## Retrieve playlist items from the 'uploads' playlist\n",
    "items = get_youtube_items(client.playlistItems(), part='snippet', playlistId=all_playlist_id)\n",
    "print('Video count: {}'.format(len(items)))"
   ]
  },
  {
   "cell_type": "code",
   "execution_count": null,
   "metadata": {
    "colab": {},
    "colab_type": "code",
    "id": "FDgm2jWtQr6I"
   },
   "outputs": [],
   "source": [
    "# get video id list\n",
    "video_ids = []\n",
    "\n",
    "for item in items:\n",
    "    video_ids.append(item['snippet']['resourceId']['videoId'])"
   ]
  },
  {
   "cell_type": "markdown",
   "metadata": {
    "colab_type": "text",
    "id": "axMf6T0QQ-12"
   },
   "source": [
    "## Retrieve video information and statistics\n",
    "We'll pass multiple video ids to get their info and statistics through videos().list() instead of calling it individually to reduce the consumption of API quota.\n",
    "\n",
    "**Reference:** https://developers.google.com/youtube/v3/docs/videos/list"
   ]
  },
  {
   "cell_type": "code",
   "execution_count": 10,
   "metadata": {
    "colab": {
     "base_uri": "https://localhost:8080/",
     "height": 35
    },
    "colab_type": "code",
    "id": "O6D0apceRGkP",
    "outputId": "7f1804a8-7ebe-4313-be57-ffee6b3c9ae2"
   },
   "outputs": [
    {
     "name": "stdout",
     "output_type": "stream",
     "text": [
      "Video info retreived: 3774\n"
     ]
    }
   ],
   "source": [
    "BATCH_SIZE = 35\n",
    "\n",
    "items = []\n",
    "curr_idx = 0\n",
    "\n",
    "# Get video info in batch\n",
    "while curr_idx <= len(video_ids):\n",
    "    ids = ','.join(video_ids[curr_idx:curr_idx+BATCH_SIZE])\n",
    "\n",
    "    res = client.videos().list(\n",
    "        part='snippet,contentDetails,statistics',\n",
    "        id=ids\n",
    "    ).execute()\n",
    "    items = items + res['items']\n",
    "    curr_idx = curr_idx + BATCH_SIZE\n",
    "\n",
    "print('Video info retreived: {}'.format(len(items)))"
   ]
  },
  {
   "cell_type": "code",
   "execution_count": 11,
   "metadata": {
    "colab": {
     "base_uri": "https://localhost:8080/",
     "height": 323
    },
    "colab_type": "code",
    "id": "y6GbHKvSSTjy",
    "outputId": "68db6144-ac99-4a7d-e3c2-bffb42e1f1fd"
   },
   "outputs": [
    {
     "name": "stdout",
     "output_type": "stream",
     "text": [
      "<class 'pandas.core.frame.DataFrame'>\n",
      "RangeIndex: 3774 entries, 0 to 3773\n",
      "Data columns (total 12 columns):\n",
      "categoryId       3774 non-null object\n",
      "comment          3682 non-null object\n",
      "description      3774 non-null object\n",
      "dislike          3765 non-null object\n",
      "duration         3774 non-null object\n",
      "id               3774 non-null object\n",
      "image            3774 non-null object\n",
      "like             3765 non-null object\n",
      "publishedDate    3774 non-null object\n",
      "tags             3703 non-null object\n",
      "title            3774 non-null object\n",
      "view             3764 non-null object\n",
      "dtypes: object(12)\n",
      "memory usage: 353.9+ KB\n"
     ]
    }
   ],
   "source": [
    "videos = []\n",
    "for v in items:\n",
    "    videos.append({\n",
    "        'id': v['id'],\n",
    "        'title': v['snippet'].get('title', np.nan),\n",
    "        'description': v['snippet'].get('description', np.nan),\n",
    "        'publishedDate': v['snippet'].get('publishedAt', np.nan),\n",
    "        'image': v['snippet']['thumbnails']['default']['url'],\n",
    "        'tags': v['snippet'].get('tags', np.nan),\n",
    "        'categoryId': v['snippet'].get('categoryId', np.nan),\n",
    "#         'liveBroadcastContent': v['snippet'].get('liveBroadcastContent',np.nan),\n",
    "        \n",
    "        'duration': v['contentDetails'].get('duration', np.nan),\n",
    "#         'licensedContent': v['contentDetails'].get('licensedContent',np.nan),\n",
    "                \n",
    "        'view': v['statistics'].get('viewCount', np.nan),\n",
    "        'like': v['statistics'].get('likeCount', np.nan),\n",
    "        'dislike': v['statistics'].get('dislikeCount', np.nan),\n",
    "        'comment': v['statistics'].get('commentCount', np.nan)\n",
    "        \n",
    "    })\n",
    "\n",
    "videos = pd.DataFrame(videos)\n",
    "videos.info()"
   ]
  },
  {
   "cell_type": "markdown",
   "metadata": {
    "colab_type": "text",
    "id": "PqRZVt1E0VAB"
   },
   "source": [
    "## Data cleansing and processing"
   ]
  },
  {
   "cell_type": "code",
   "execution_count": 12,
   "metadata": {
    "colab": {
     "base_uri": "https://localhost:8080/",
     "height": 251
    },
    "colab_type": "code",
    "id": "sh65GmU3nUgk",
    "outputId": "8cc3007b-e0f8-4819-de7d-a504e7b93d4e"
   },
   "outputs": [
    {
     "data": {
      "text/plain": [
       "categoryId        0\n",
       "comment          83\n",
       "description       0\n",
       "dislike           0\n",
       "duration          0\n",
       "id                0\n",
       "image             0\n",
       "like              0\n",
       "publishedDate     0\n",
       "tags             71\n",
       "title             0\n",
       "view              0\n",
       "dtype: int64"
      ]
     },
     "execution_count": 12,
     "metadata": {
      "tags": []
     },
     "output_type": "execute_result"
    }
   ],
   "source": [
    "videos = videos[~videos['view'].isnull()]\n",
    "videos.isnull().sum()"
   ]
  },
  {
   "cell_type": "code",
   "execution_count": 13,
   "metadata": {
    "colab": {
     "base_uri": "https://localhost:8080/",
     "height": 413
    },
    "colab_type": "code",
    "id": "DQMeGZj6myWE",
    "outputId": "74014ebc-7a7c-4c54-9dc3-23bc83ca5115"
   },
   "outputs": [
    {
     "name": "stdout",
     "output_type": "stream",
     "text": [
      "<class 'pandas.core.frame.DataFrame'>\n",
      "Int64Index: 3764 entries, 0 to 3773\n",
      "Data columns (total 17 columns):\n",
      "id                 3764 non-null object\n",
      "title              3764 non-null object\n",
      "description        3764 non-null object\n",
      "image              3764 non-null object\n",
      "category           3764 non-null object\n",
      "publishedDate      3764 non-null datetime64[ns]\n",
      "duration           3764 non-null float64\n",
      "view               3764 non-null int64\n",
      "like               3764 non-null int64\n",
      "like_pct           3764 non-null float64\n",
      "dislike            3764 non-null int64\n",
      "dislike_pct        3764 non-null float64\n",
      "comment            3764 non-null int64\n",
      "comment_allowed    3764 non-null bool\n",
      "comment_pct        3764 non-null float64\n",
      "age                3764 non-null int64\n",
      "tags               3693 non-null object\n",
      "dtypes: bool(1), datetime64[ns](1), float64(4), int64(5), object(6)\n",
      "memory usage: 503.6+ KB\n"
     ]
    }
   ],
   "source": [
    "# Transform\n",
    "videos = videos.assign(\n",
    "          title=videos['title'].str.strip(),\n",
    "          description=videos['description'].str.strip(),\n",
    "\n",
    "          # mapping category titles\n",
    "          category=videos['categoryId'].map(categories),\n",
    "    \n",
    "          # duration in minute\n",
    "          duration=videos['duration'].apply(parse_duration)/60,\n",
    "    \n",
    "          # type conversions\n",
    "          view=videos['view'].astype(int, errors='ignore'),\n",
    "          like=videos['like'].astype(int, errors='ignore'),\n",
    "          dislike=videos['dislike'].astype(int, errors='ignore'),\n",
    "    \n",
    "          publishedDate=videos['publishedDate'].apply(parse_date)\n",
    ")\n",
    "\n",
    "videos['comment_allowed'] = ~videos['comment'].isnull()\n",
    "videos['comment'] = videos['comment'].fillna(0)\n",
    "videos['comment'] = videos['comment'].astype(int)\n",
    "\n",
    "videos['like_pct'] = videos['like']/videos['view']\n",
    "videos['dislike_pct'] = videos['dislike']/videos['view']\n",
    "videos['comment_pct'] = videos['comment']/videos['view']\n",
    "\n",
    "now = datetime.now()\n",
    "videos['age'] = videos['publishedDate'].apply(lambda x: (now - x).days)\n",
    "\n",
    "videos.to_csv('videos.csv', encoding='utf-8', index=False)\n",
    "\n",
    "\n",
    "cols = ['id','title','description','image','category','publishedDate','duration', \n",
    " 'view','like','like_pct','dislike','dislike_pct',\n",
    " 'comment','comment_allowed','comment_pct','age','tags'\n",
    "]\n",
    "videos = videos[cols]\n",
    "videos.info()"
   ]
  },
  {
   "cell_type": "code",
   "execution_count": null,
   "metadata": {
    "colab": {},
    "colab_type": "code",
    "id": "m-2KVqX0vfN-"
   },
   "outputs": [],
   "source": [
    "videos.to_csv('videos.csv', encoding='utf-8', index=False)"
   ]
  },
  {
   "cell_type": "markdown",
   "metadata": {
    "colab_type": "text",
    "id": "_16KlTIzPOIA"
   },
   "source": [
    "## Exploratory Data Analysis"
   ]
  },
  {
   "cell_type": "markdown",
   "metadata": {
    "colab_type": "text",
    "id": "685eZBcxPESP"
   },
   "source": [
    "### Top 10 - Most viewed"
   ]
  },
  {
   "cell_type": "code",
   "execution_count": 15,
   "metadata": {
    "colab": {
     "base_uri": "https://localhost:8080/",
     "height": 856
    },
    "colab_type": "code",
    "id": "b_LA5FsGsoja",
    "outputId": "b20569a0-7284-400b-9704-19b9a3a3a500"
   },
   "outputs": [
    {
     "data": {
      "text/html": [
       "<style  type=\"text/css\" >\n",
       "    #T_b0effca6_4617_11e9_b957_0242ac1c0002 th {\n",
       "          padding: 4px 4px;\n",
       "          font-weight: bold;\n",
       "          color: #6d6d6d;\n",
       "          background-color: #f7f7f9;\n",
       "    }    #T_b0effca6_4617_11e9_b957_0242ac1c0002 td {\n",
       "          padding: 2px 4px;\n",
       "          font-size: smaller;\n",
       "    }    #T_b0effca6_4617_11e9_b957_0242ac1c0002 img {\n",
       "          width: auto;\n",
       "          height: 80%;\n",
       "    }    #T_b0effca6_4617_11e9_b957_0242ac1c0002 tr:nth-child(even) {\n",
       "          background: #f7f7f9;\n",
       "    }</style>  \n",
       "<table id=\"T_b0effca6_4617_11e9_b957_0242ac1c0002\" > \n",
       "<thead>    <tr> \n",
       "        <th class=\"blank level0\" ></th> \n",
       "        <th class=\"col_heading level0 col0\" >Image</th> \n",
       "        <th class=\"col_heading level0 col1\" >Title</th> \n",
       "        <th class=\"col_heading level0 col2\" >View</th> \n",
       "        <th class=\"col_heading level0 col3\" >Category</th> \n",
       "        <th class=\"col_heading level0 col4\" >% Liked</th> \n",
       "        <th class=\"col_heading level0 col5\" >% Disliked</th> \n",
       "        <th class=\"col_heading level0 col6\" >% Commented</th> \n",
       "        <th class=\"col_heading level0 col7\" >Published Date</th> \n",
       "    </tr></thead> \n",
       "<tbody>    <tr> \n",
       "        <th id=\"T_b0effca6_4617_11e9_b957_0242ac1c0002level0_row0\" class=\"row_heading level0 row0\" >1</th> \n",
       "        <td id=\"T_b0effca6_4617_11e9_b957_0242ac1c0002row0_col0\" class=\"data row0 col0\" ><img src=\"https://i.ytimg.com/vi/6Dh-RL__uN4/default.jpg\"/></td> \n",
       "        <td id=\"T_b0effca6_4617_11e9_b957_0242ac1c0002row0_col1\" class=\"data row0 col1\" >bitch lasagna</td> \n",
       "        <td id=\"T_b0effca6_4617_11e9_b957_0242ac1c0002row0_col2\" class=\"data row0 col2\" >151,766,417</td> \n",
       "        <td id=\"T_b0effca6_4617_11e9_b957_0242ac1c0002row0_col3\" class=\"data row0 col3\" >Music</td> \n",
       "        <td id=\"T_b0effca6_4617_11e9_b957_0242ac1c0002row0_col4\" class=\"data row0 col4\" >4.76%</td> \n",
       "        <td id=\"T_b0effca6_4617_11e9_b957_0242ac1c0002row0_col5\" class=\"data row0 col5\" >0.48%</td> \n",
       "        <td id=\"T_b0effca6_4617_11e9_b957_0242ac1c0002row0_col6\" class=\"data row0 col6\" >0.67%</td> \n",
       "        <td id=\"T_b0effca6_4617_11e9_b957_0242ac1c0002row0_col7\" class=\"data row0 col7\" >2018-10-05 17:16:40</td> \n",
       "    </tr>    <tr> \n",
       "        <th id=\"T_b0effca6_4617_11e9_b957_0242ac1c0002level0_row1\" class=\"row_heading level0 row1\" >2</th> \n",
       "        <td id=\"T_b0effca6_4617_11e9_b957_0242ac1c0002row1_col0\" class=\"data row1 col0\" ><img src=\"https://i.ytimg.com/vi/gRyPjRrjS34/default.jpg\"/></td> \n",
       "        <td id=\"T_b0effca6_4617_11e9_b957_0242ac1c0002row1_col1\" class=\"data row1 col1\" >A Funny Montage</td> \n",
       "        <td id=\"T_b0effca6_4617_11e9_b957_0242ac1c0002row1_col2\" class=\"data row1 col2\" >86,296,683</td> \n",
       "        <td id=\"T_b0effca6_4617_11e9_b957_0242ac1c0002row1_col3\" class=\"data row1 col3\" >Comedy</td> \n",
       "        <td id=\"T_b0effca6_4617_11e9_b957_0242ac1c0002row1_col4\" class=\"data row1 col4\" >1.94%</td> \n",
       "        <td id=\"T_b0effca6_4617_11e9_b957_0242ac1c0002row1_col5\" class=\"data row1 col5\" >0.05%</td> \n",
       "        <td id=\"T_b0effca6_4617_11e9_b957_0242ac1c0002row1_col6\" class=\"data row1 col6\" >0.00%</td> \n",
       "        <td id=\"T_b0effca6_4617_11e9_b957_0242ac1c0002row1_col7\" class=\"data row1 col7\" >2013-06-04 15:30:10</td> \n",
       "    </tr>    <tr> \n",
       "        <th id=\"T_b0effca6_4617_11e9_b957_0242ac1c0002level0_row2\" class=\"row_heading level0 row2\" >3</th> \n",
       "        <td id=\"T_b0effca6_4617_11e9_b957_0242ac1c0002row2_col0\" class=\"data row2 col0\" ><img src=\"https://i.ytimg.com/vi/MsplPPW7tFo/default.jpg\"/></td> \n",
       "        <td id=\"T_b0effca6_4617_11e9_b957_0242ac1c0002row2_col1\" class=\"data row2 col1\" >LEVEL 7 | I’M NOT CRAZY  (OUTLAST IRL GAMEPLAY)</td> \n",
       "        <td id=\"T_b0effca6_4617_11e9_b957_0242ac1c0002row2_col2\" class=\"data row2 col2\" >70,781,800</td> \n",
       "        <td id=\"T_b0effca6_4617_11e9_b957_0242ac1c0002row2_col3\" class=\"data row2 col3\" >Gaming</td> \n",
       "        <td id=\"T_b0effca6_4617_11e9_b957_0242ac1c0002row2_col4\" class=\"data row2 col4\" >2.08%</td> \n",
       "        <td id=\"T_b0effca6_4617_11e9_b957_0242ac1c0002row2_col5\" class=\"data row2 col5\" >0.13%</td> \n",
       "        <td id=\"T_b0effca6_4617_11e9_b957_0242ac1c0002row2_col6\" class=\"data row2 col6\" >0.16%</td> \n",
       "        <td id=\"T_b0effca6_4617_11e9_b957_0242ac1c0002row2_col7\" class=\"data row2 col7\" >2016-02-10 09:25:07</td> \n",
       "    </tr>    <tr> \n",
       "        <th id=\"T_b0effca6_4617_11e9_b957_0242ac1c0002level0_row3\" class=\"row_heading level0 row3\" >4</th> \n",
       "        <td id=\"T_b0effca6_4617_11e9_b957_0242ac1c0002row3_col0\" class=\"data row3 col0\" ><img src=\"https://i.ytimg.com/vi/MkXVM6ad9nI/default.jpg\"/></td> \n",
       "        <td id=\"T_b0effca6_4617_11e9_b957_0242ac1c0002row3_col1\" class=\"data row3 col1\" >FUNNY MONTAGE.. #2</td> \n",
       "        <td id=\"T_b0effca6_4617_11e9_b957_0242ac1c0002row3_col2\" class=\"data row3 col2\" >70,326,733</td> \n",
       "        <td id=\"T_b0effca6_4617_11e9_b957_0242ac1c0002row3_col3\" class=\"data row3 col3\" >Gaming</td> \n",
       "        <td id=\"T_b0effca6_4617_11e9_b957_0242ac1c0002row3_col4\" class=\"data row3 col4\" >1.74%</td> \n",
       "        <td id=\"T_b0effca6_4617_11e9_b957_0242ac1c0002row3_col5\" class=\"data row3 col5\" >0.03%</td> \n",
       "        <td id=\"T_b0effca6_4617_11e9_b957_0242ac1c0002row3_col6\" class=\"data row3 col6\" >0.00%</td> \n",
       "        <td id=\"T_b0effca6_4617_11e9_b957_0242ac1c0002row3_col7\" class=\"data row3 col7\" >2014-04-05 23:52:20</td> \n",
       "    </tr>    <tr> \n",
       "        <th id=\"T_b0effca6_4617_11e9_b957_0242ac1c0002level0_row4\" class=\"row_heading level0 row4\" >5</th> \n",
       "        <td id=\"T_b0effca6_4617_11e9_b957_0242ac1c0002row4_col0\" class=\"data row4 col0\" ><img src=\"https://i.ytimg.com/vi/7Vj5M0qKh8g/default.jpg\"/></td> \n",
       "        <td id=\"T_b0effca6_4617_11e9_b957_0242ac1c0002row4_col1\" class=\"data row4 col1\" >THE RUBY PLAYBUTTON / YouTube 50 Mil Sub Reward Unbox</td> \n",
       "        <td id=\"T_b0effca6_4617_11e9_b957_0242ac1c0002row4_col2\" class=\"data row4 col2\" >64,116,712</td> \n",
       "        <td id=\"T_b0effca6_4617_11e9_b957_0242ac1c0002row4_col3\" class=\"data row4 col3\" >Entertainment</td> \n",
       "        <td id=\"T_b0effca6_4617_11e9_b957_0242ac1c0002row4_col4\" class=\"data row4 col4\" >6.94%</td> \n",
       "        <td id=\"T_b0effca6_4617_11e9_b957_0242ac1c0002row4_col5\" class=\"data row4 col5\" >0.24%</td> \n",
       "        <td id=\"T_b0effca6_4617_11e9_b957_0242ac1c0002row4_col6\" class=\"data row4 col6\" >0.97%</td> \n",
       "        <td id=\"T_b0effca6_4617_11e9_b957_0242ac1c0002row4_col7\" class=\"data row4 col7\" >2016-12-18 16:04:54</td> \n",
       "    </tr>    <tr> \n",
       "        <th id=\"T_b0effca6_4617_11e9_b957_0242ac1c0002level0_row5\" class=\"row_heading level0 row5\" >6</th> \n",
       "        <td id=\"T_b0effca6_4617_11e9_b957_0242ac1c0002row5_col0\" class=\"data row5 col0\" ><img src=\"https://i.ytimg.com/vi/lxw3C5HJ2XU/default.jpg\"/></td> \n",
       "        <td id=\"T_b0effca6_4617_11e9_b957_0242ac1c0002row5_col1\" class=\"data row5 col1\" >Jabba the Hutt (PewDiePie Song) by Schmoyoho</td> \n",
       "        <td id=\"T_b0effca6_4617_11e9_b957_0242ac1c0002row5_col2\" class=\"data row5 col2\" >62,578,750</td> \n",
       "        <td id=\"T_b0effca6_4617_11e9_b957_0242ac1c0002row5_col3\" class=\"data row5 col3\" >Music</td> \n",
       "        <td id=\"T_b0effca6_4617_11e9_b957_0242ac1c0002row5_col4\" class=\"data row5 col4\" >2.33%</td> \n",
       "        <td id=\"T_b0effca6_4617_11e9_b957_0242ac1c0002row5_col5\" class=\"data row5 col5\" >0.03%</td> \n",
       "        <td id=\"T_b0effca6_4617_11e9_b957_0242ac1c0002row5_col6\" class=\"data row5 col6\" >0.34%</td> \n",
       "        <td id=\"T_b0effca6_4617_11e9_b957_0242ac1c0002row5_col7\" class=\"data row5 col7\" >2013-09-14 18:00:16</td> \n",
       "    </tr>    <tr> \n",
       "        <th id=\"T_b0effca6_4617_11e9_b957_0242ac1c0002level0_row6\" class=\"row_heading level0 row6\" >7</th> \n",
       "        <td id=\"T_b0effca6_4617_11e9_b957_0242ac1c0002row6_col0\" class=\"data row6 col0\" ><img src=\"https://i.ytimg.com/vi/By_Cn5ixYLg/default.jpg\"/></td> \n",
       "        <td id=\"T_b0effca6_4617_11e9_b957_0242ac1c0002row6_col1\" class=\"data row6 col1\" >YouTube Rewind 2018 but it's actually good</td> \n",
       "        <td id=\"T_b0effca6_4617_11e9_b957_0242ac1c0002row6_col2\" class=\"data row6 col2\" >51,676,938</td> \n",
       "        <td id=\"T_b0effca6_4617_11e9_b957_0242ac1c0002row6_col3\" class=\"data row6 col3\" >Entertainment</td> \n",
       "        <td id=\"T_b0effca6_4617_11e9_b957_0242ac1c0002row6_col4\" class=\"data row6 col4\" >15.34%</td> \n",
       "        <td id=\"T_b0effca6_4617_11e9_b957_0242ac1c0002row6_col5\" class=\"data row6 col5\" >0.16%</td> \n",
       "        <td id=\"T_b0effca6_4617_11e9_b957_0242ac1c0002row6_col6\" class=\"data row6 col6\" >1.39%</td> \n",
       "        <td id=\"T_b0effca6_4617_11e9_b957_0242ac1c0002row6_col7\" class=\"data row6 col7\" >2018-12-27 17:30:00</td> \n",
       "    </tr>    <tr> \n",
       "        <th id=\"T_b0effca6_4617_11e9_b957_0242ac1c0002level0_row7\" class=\"row_heading level0 row7\" >8</th> \n",
       "        <td id=\"T_b0effca6_4617_11e9_b957_0242ac1c0002row7_col0\" class=\"data row7 col0\" ><img src=\"https://i.ytimg.com/vi/rc1XYAJCZ80/default.jpg\"/></td> \n",
       "        <td id=\"T_b0effca6_4617_11e9_b957_0242ac1c0002row7_col1\" class=\"data row7 col1\" >FUNNY GAMING MONTAGE!</td> \n",
       "        <td id=\"T_b0effca6_4617_11e9_b957_0242ac1c0002row7_col2\" class=\"data row7 col2\" >49,840,879</td> \n",
       "        <td id=\"T_b0effca6_4617_11e9_b957_0242ac1c0002row7_col3\" class=\"data row7 col3\" >Gaming</td> \n",
       "        <td id=\"T_b0effca6_4617_11e9_b957_0242ac1c0002row7_col4\" class=\"data row7 col4\" >1.70%</td> \n",
       "        <td id=\"T_b0effca6_4617_11e9_b957_0242ac1c0002row7_col5\" class=\"data row7 col5\" >0.03%</td> \n",
       "        <td id=\"T_b0effca6_4617_11e9_b957_0242ac1c0002row7_col6\" class=\"data row7 col6\" >0.00%</td> \n",
       "        <td id=\"T_b0effca6_4617_11e9_b957_0242ac1c0002row7_col7\" class=\"data row7 col7\" >2012-10-28 19:00:12</td> \n",
       "    </tr>    <tr> \n",
       "        <th id=\"T_b0effca6_4617_11e9_b957_0242ac1c0002level0_row8\" class=\"row_heading level0 row8\" >9</th> \n",
       "        <td id=\"T_b0effca6_4617_11e9_b957_0242ac1c0002row8_col0\" class=\"data row8 col0\" ><img src=\"https://i.ytimg.com/vi/z-3xIw730pg/default.jpg\"/></td> \n",
       "        <td id=\"T_b0effca6_4617_11e9_b957_0242ac1c0002row8_col1\" class=\"data row8 col1\" >WORLDS MOST OFFENSIVE GAME? - (Fridays With PewDiePie - Part 73)</td> \n",
       "        <td id=\"T_b0effca6_4617_11e9_b957_0242ac1c0002row8_col2\" class=\"data row8 col2\" >40,587,788</td> \n",
       "        <td id=\"T_b0effca6_4617_11e9_b957_0242ac1c0002row8_col3\" class=\"data row8 col3\" >Entertainment</td> \n",
       "        <td id=\"T_b0effca6_4617_11e9_b957_0242ac1c0002row8_col4\" class=\"data row8 col4\" >2.00%</td> \n",
       "        <td id=\"T_b0effca6_4617_11e9_b957_0242ac1c0002row8_col5\" class=\"data row8 col5\" >0.04%</td> \n",
       "        <td id=\"T_b0effca6_4617_11e9_b957_0242ac1c0002row8_col6\" class=\"data row8 col6\" >0.17%</td> \n",
       "        <td id=\"T_b0effca6_4617_11e9_b957_0242ac1c0002row8_col7\" class=\"data row8 col7\" >2013-11-24 01:46:35</td> \n",
       "    </tr>    <tr> \n",
       "        <th id=\"T_b0effca6_4617_11e9_b957_0242ac1c0002level0_row9\" class=\"row_heading level0 row9\" >10</th> \n",
       "        <td id=\"T_b0effca6_4617_11e9_b957_0242ac1c0002row9_col0\" class=\"data row9 col0\" ><img src=\"https://i.ytimg.com/vi/nxQO53J2_OQ/default.jpg\"/></td> \n",
       "        <td id=\"T_b0effca6_4617_11e9_b957_0242ac1c0002row9_col1\" class=\"data row9 col1\" >FUNNY MONTAGE #3</td> \n",
       "        <td id=\"T_b0effca6_4617_11e9_b957_0242ac1c0002row9_col2\" class=\"data row9 col2\" >40,160,701</td> \n",
       "        <td id=\"T_b0effca6_4617_11e9_b957_0242ac1c0002row9_col3\" class=\"data row9 col3\" >Gaming</td> \n",
       "        <td id=\"T_b0effca6_4617_11e9_b957_0242ac1c0002row9_col4\" class=\"data row9 col4\" >2.17%</td> \n",
       "        <td id=\"T_b0effca6_4617_11e9_b957_0242ac1c0002row9_col5\" class=\"data row9 col5\" >0.02%</td> \n",
       "        <td id=\"T_b0effca6_4617_11e9_b957_0242ac1c0002row9_col6\" class=\"data row9 col6\" >0.00%</td> \n",
       "        <td id=\"T_b0effca6_4617_11e9_b957_0242ac1c0002row9_col7\" class=\"data row9 col7\" >2014-10-25 16:59:29</td> \n",
       "    </tr></tbody> \n",
       "</table> "
      ],
      "text/plain": [
       "<IPython.core.display.HTML object>"
      ]
     },
     "metadata": {
      "tags": []
     },
     "output_type": "display_data"
    }
   ],
   "source": [
    "pd.set_option('display.max_colwidth', -1)\n",
    "\n",
    "\n",
    "th_props = [\n",
    "  ('padding','4px 4px'),\n",
    "  ('font-weight', 'bold'),\n",
    "  ('color', '#6d6d6d'),\n",
    "  ('background-color', '#f7f7f9')\n",
    "]\n",
    "\n",
    "td_props = [\n",
    "    ('padding','2px 4px'),\n",
    "    ('font-size','smaller')\n",
    "]\n",
    "img_props = [\n",
    "    ('width','auto'),\n",
    "    ('height','80%')\n",
    "]\n",
    "styles = [\n",
    "    dict(selector='th', props=th_props),\n",
    "    dict(selector='td', props=td_props),\n",
    "    dict(selector='img', props=img_props),\n",
    "    dict(selector='tr:nth-child(even)', props=[('background','#f7f7f9')])\n",
    "]\n",
    "\n",
    "# subsetting for ranking\n",
    "df = videos[['image','title','view','category','like_pct','dislike_pct',\n",
    "             'comment_pct','publishedDate']]\n",
    "\n",
    "df.columns = ['Image','Title','View','Category',\n",
    "              '% Liked','% Disliked','% Commented','Published Date']\n",
    "\n",
    "\n",
    "# Top Views\n",
    "data = df.sort_values('View', ascending=False).head(10)\n",
    "data.index = np.arange(1, data.shape[0]+1)\n",
    "\n",
    "# Render table in html\n",
    "display(HTML(\n",
    "    data.style\n",
    "        .format({'View': '{:,}','Image':'<img src=\"{}\"/>',\n",
    "                '% Liked': '{:.2%}', '% Disliked': '{:.2%}', \n",
    "                '% Commented': '{:.2%}'})\n",
    "        .set_table_styles(styles)\n",
    "        .render()\n",
    "))"
   ]
  },
  {
   "cell_type": "markdown",
   "metadata": {
    "colab_type": "text",
    "id": "gc_pym8KP2pB"
   },
   "source": [
    "### Top 10 - Most liked"
   ]
  },
  {
   "cell_type": "code",
   "execution_count": 16,
   "metadata": {
    "colab": {
     "base_uri": "https://localhost:8080/",
     "height": 856
    },
    "colab_type": "code",
    "id": "UCt0xKg1HyUG",
    "outputId": "fb837464-6de2-42e6-be32-a320ed1c1c27"
   },
   "outputs": [
    {
     "data": {
      "text/html": [
       "<style  type=\"text/css\" >\n",
       "    #T_be1e7dc6_4617_11e9_b957_0242ac1c0002 th {\n",
       "          padding: 4px 4px;\n",
       "          font-weight: bold;\n",
       "          color: #6d6d6d;\n",
       "          background-color: #f7f7f9;\n",
       "    }    #T_be1e7dc6_4617_11e9_b957_0242ac1c0002 td {\n",
       "          padding: 2px 4px;\n",
       "          font-size: smaller;\n",
       "    }    #T_be1e7dc6_4617_11e9_b957_0242ac1c0002 img {\n",
       "          width: auto;\n",
       "          height: 80%;\n",
       "    }    #T_be1e7dc6_4617_11e9_b957_0242ac1c0002 tr:nth-child(even) {\n",
       "          background: #f7f7f9;\n",
       "    }</style>  \n",
       "<table id=\"T_be1e7dc6_4617_11e9_b957_0242ac1c0002\" > \n",
       "<thead>    <tr> \n",
       "        <th class=\"blank level0\" ></th> \n",
       "        <th class=\"col_heading level0 col0\" >Image</th> \n",
       "        <th class=\"col_heading level0 col1\" >Title</th> \n",
       "        <th class=\"col_heading level0 col2\" >View</th> \n",
       "        <th class=\"col_heading level0 col3\" >Category</th> \n",
       "        <th class=\"col_heading level0 col4\" >% Liked</th> \n",
       "        <th class=\"col_heading level0 col5\" >% Disliked</th> \n",
       "        <th class=\"col_heading level0 col6\" >% Commented</th> \n",
       "        <th class=\"col_heading level0 col7\" >Published Date</th> \n",
       "    </tr></thead> \n",
       "<tbody>    <tr> \n",
       "        <th id=\"T_be1e7dc6_4617_11e9_b957_0242ac1c0002level0_row0\" class=\"row_heading level0 row0\" >1</th> \n",
       "        <td id=\"T_be1e7dc6_4617_11e9_b957_0242ac1c0002row0_col0\" class=\"data row0 col0\" ><img src=\"https://i.ytimg.com/vi/hHR9aM494rs/default.jpg\"/></td> \n",
       "        <td id=\"T_be1e7dc6_4617_11e9_b957_0242ac1c0002row0_col1\" class=\"data row0 col1\" >Can this video hit 1 million likes?</td> \n",
       "        <td id=\"T_be1e7dc6_4617_11e9_b957_0242ac1c0002row0_col2\" class=\"data row0 col2\" >24,874,440</td> \n",
       "        <td id=\"T_be1e7dc6_4617_11e9_b957_0242ac1c0002row0_col3\" class=\"data row0 col3\" >Gaming</td> \n",
       "        <td id=\"T_be1e7dc6_4617_11e9_b957_0242ac1c0002row0_col4\" class=\"data row0 col4\" >17.81%</td> \n",
       "        <td id=\"T_be1e7dc6_4617_11e9_b957_0242ac1c0002row0_col5\" class=\"data row0 col5\" >0.43%</td> \n",
       "        <td id=\"T_be1e7dc6_4617_11e9_b957_0242ac1c0002row0_col6\" class=\"data row0 col6\" >0.52%</td> \n",
       "        <td id=\"T_be1e7dc6_4617_11e9_b957_0242ac1c0002row0_col7\" class=\"data row0 col7\" >2016-12-10 20:00:54</td> \n",
       "    </tr>    <tr> \n",
       "        <th id=\"T_be1e7dc6_4617_11e9_b957_0242ac1c0002level0_row1\" class=\"row_heading level0 row1\" >2</th> \n",
       "        <td id=\"T_be1e7dc6_4617_11e9_b957_0242ac1c0002row1_col0\" class=\"data row1 col0\" ><img src=\"https://i.ytimg.com/vi/sBBP0hW-ZCM/default.jpg\"/></td> \n",
       "        <td id=\"T_be1e7dc6_4617_11e9_b957_0242ac1c0002row1_col1\" class=\"data row1 col1\" >IF THIS VIDEO GETS 500K LIKES....</td> \n",
       "        <td id=\"T_be1e7dc6_4617_11e9_b957_0242ac1c0002row1_col2\" class=\"data row1 col2\" >4,104,913</td> \n",
       "        <td id=\"T_be1e7dc6_4617_11e9_b957_0242ac1c0002row1_col3\" class=\"data row1 col3\" >Entertainment</td> \n",
       "        <td id=\"T_be1e7dc6_4617_11e9_b957_0242ac1c0002row1_col4\" class=\"data row1 col4\" >17.34%</td> \n",
       "        <td id=\"T_be1e7dc6_4617_11e9_b957_0242ac1c0002row1_col5\" class=\"data row1 col5\" >0.14%</td> \n",
       "        <td id=\"T_be1e7dc6_4617_11e9_b957_0242ac1c0002row1_col6\" class=\"data row1 col6\" >0.57%</td> \n",
       "        <td id=\"T_be1e7dc6_4617_11e9_b957_0242ac1c0002row1_col7\" class=\"data row1 col7\" >2018-05-07 16:03:24</td> \n",
       "    </tr>    <tr> \n",
       "        <th id=\"T_be1e7dc6_4617_11e9_b957_0242ac1c0002level0_row2\" class=\"row_heading level0 row2\" >3</th> \n",
       "        <td id=\"T_be1e7dc6_4617_11e9_b957_0242ac1c0002row2_col0\" class=\"data row2 col0\" ><img src=\"https://i.ytimg.com/vi/By_Cn5ixYLg/default.jpg\"/></td> \n",
       "        <td id=\"T_be1e7dc6_4617_11e9_b957_0242ac1c0002row2_col1\" class=\"data row2 col1\" >YouTube Rewind 2018 but it's actually good</td> \n",
       "        <td id=\"T_be1e7dc6_4617_11e9_b957_0242ac1c0002row2_col2\" class=\"data row2 col2\" >51,676,938</td> \n",
       "        <td id=\"T_be1e7dc6_4617_11e9_b957_0242ac1c0002row2_col3\" class=\"data row2 col3\" >Entertainment</td> \n",
       "        <td id=\"T_be1e7dc6_4617_11e9_b957_0242ac1c0002row2_col4\" class=\"data row2 col4\" >15.34%</td> \n",
       "        <td id=\"T_be1e7dc6_4617_11e9_b957_0242ac1c0002row2_col5\" class=\"data row2 col5\" >0.16%</td> \n",
       "        <td id=\"T_be1e7dc6_4617_11e9_b957_0242ac1c0002row2_col6\" class=\"data row2 col6\" >1.39%</td> \n",
       "        <td id=\"T_be1e7dc6_4617_11e9_b957_0242ac1c0002row2_col7\" class=\"data row2 col7\" >2018-12-27 17:30:00</td> \n",
       "    </tr>    <tr> \n",
       "        <th id=\"T_be1e7dc6_4617_11e9_b957_0242ac1c0002level0_row3\" class=\"row_heading level0 row3\" >4</th> \n",
       "        <td id=\"T_be1e7dc6_4617_11e9_b957_0242ac1c0002row3_col0\" class=\"data row3 col0\" ><img src=\"https://i.ytimg.com/vi/8n5XNYSLSag/default.jpg\"/></td> \n",
       "        <td id=\"T_be1e7dc6_4617_11e9_b957_0242ac1c0002row3_col1\" class=\"data row3 col1\" >THIS VIDEO HAS NO MEMES - LWIAY #0043</td> \n",
       "        <td id=\"T_be1e7dc6_4617_11e9_b957_0242ac1c0002row3_col2\" class=\"data row3 col2\" >4,808,751</td> \n",
       "        <td id=\"T_be1e7dc6_4617_11e9_b957_0242ac1c0002row3_col3\" class=\"data row3 col3\" >Entertainment</td> \n",
       "        <td id=\"T_be1e7dc6_4617_11e9_b957_0242ac1c0002row3_col4\" class=\"data row3 col4\" >14.96%</td> \n",
       "        <td id=\"T_be1e7dc6_4617_11e9_b957_0242ac1c0002row3_col5\" class=\"data row3 col5\" >0.08%</td> \n",
       "        <td id=\"T_be1e7dc6_4617_11e9_b957_0242ac1c0002row3_col6\" class=\"data row3 col6\" >0.63%</td> \n",
       "        <td id=\"T_be1e7dc6_4617_11e9_b957_0242ac1c0002row3_col7\" class=\"data row3 col7\" >2018-07-27 17:39:08</td> \n",
       "    </tr>    <tr> \n",
       "        <th id=\"T_be1e7dc6_4617_11e9_b957_0242ac1c0002level0_row4\" class=\"row_heading level0 row4\" >5</th> \n",
       "        <td id=\"T_be1e7dc6_4617_11e9_b957_0242ac1c0002row4_col0\" class=\"data row4 col0\" ><img src=\"https://i.ytimg.com/vi/g50y_Jz7G8U/default.jpg\"/></td> \n",
       "        <td id=\"T_be1e7dc6_4617_11e9_b957_0242ac1c0002row4_col1\" class=\"data row4 col1\" >My fans have turned against me... LWIAY #0041</td> \n",
       "        <td id=\"T_be1e7dc6_4617_11e9_b957_0242ac1c0002row4_col2\" class=\"data row4 col2\" >6,736,838</td> \n",
       "        <td id=\"T_be1e7dc6_4617_11e9_b957_0242ac1c0002row4_col3\" class=\"data row4 col3\" >Entertainment</td> \n",
       "        <td id=\"T_be1e7dc6_4617_11e9_b957_0242ac1c0002row4_col4\" class=\"data row4 col4\" >14.03%</td> \n",
       "        <td id=\"T_be1e7dc6_4617_11e9_b957_0242ac1c0002row4_col5\" class=\"data row4 col5\" >0.16%</td> \n",
       "        <td id=\"T_be1e7dc6_4617_11e9_b957_0242ac1c0002row4_col6\" class=\"data row4 col6\" >0.56%</td> \n",
       "        <td id=\"T_be1e7dc6_4617_11e9_b957_0242ac1c0002row4_col7\" class=\"data row4 col7\" >2018-07-20 19:54:36</td> \n",
       "    </tr>    <tr> \n",
       "        <th id=\"T_be1e7dc6_4617_11e9_b957_0242ac1c0002level0_row5\" class=\"row_heading level0 row5\" >6</th> \n",
       "        <td id=\"T_be1e7dc6_4617_11e9_b957_0242ac1c0002row5_col0\" class=\"data row5 col0\" ><img src=\"https://i.ytimg.com/vi/K5owJ0Wg7PI/default.jpg\"/></td> \n",
       "        <td id=\"T_be1e7dc6_4617_11e9_b957_0242ac1c0002row5_col1\" class=\"data row5 col1\" >Can You Melt Obsidian and Cast a Sword? LWIAY #0045</td> \n",
       "        <td id=\"T_be1e7dc6_4617_11e9_b957_0242ac1c0002row5_col2\" class=\"data row5 col2\" >5,257,224</td> \n",
       "        <td id=\"T_be1e7dc6_4617_11e9_b957_0242ac1c0002row5_col3\" class=\"data row5 col3\" >Entertainment</td> \n",
       "        <td id=\"T_be1e7dc6_4617_11e9_b957_0242ac1c0002row5_col4\" class=\"data row5 col4\" >13.83%</td> \n",
       "        <td id=\"T_be1e7dc6_4617_11e9_b957_0242ac1c0002row5_col5\" class=\"data row5 col5\" >0.10%</td> \n",
       "        <td id=\"T_be1e7dc6_4617_11e9_b957_0242ac1c0002row5_col6\" class=\"data row5 col6\" >2.04%</td> \n",
       "        <td id=\"T_be1e7dc6_4617_11e9_b957_0242ac1c0002row5_col7\" class=\"data row5 col7\" >2018-08-10 18:14:30</td> \n",
       "    </tr>    <tr> \n",
       "        <th id=\"T_be1e7dc6_4617_11e9_b957_0242ac1c0002level0_row6\" class=\"row_heading level0 row6\" >7</th> \n",
       "        <td id=\"T_be1e7dc6_4617_11e9_b957_0242ac1c0002row6_col0\" class=\"data row6 col0\" ><img src=\"https://i.ytimg.com/vi/cdKLib5m4ZQ/default.jpg\"/></td> \n",
       "        <td id=\"T_be1e7dc6_4617_11e9_b957_0242ac1c0002row6_col1\" class=\"data row6 col1\" >MY GIRLFRIEND'S FAVOURITE GAME</td> \n",
       "        <td id=\"T_be1e7dc6_4617_11e9_b957_0242ac1c0002row6_col2\" class=\"data row6 col2\" >3,356,202</td> \n",
       "        <td id=\"T_be1e7dc6_4617_11e9_b957_0242ac1c0002row6_col3\" class=\"data row6 col3\" >Gaming</td> \n",
       "        <td id=\"T_be1e7dc6_4617_11e9_b957_0242ac1c0002row6_col4\" class=\"data row6 col4\" >13.17%</td> \n",
       "        <td id=\"T_be1e7dc6_4617_11e9_b957_0242ac1c0002row6_col5\" class=\"data row6 col5\" >0.13%</td> \n",
       "        <td id=\"T_be1e7dc6_4617_11e9_b957_0242ac1c0002row6_col6\" class=\"data row6 col6\" >0.87%</td> \n",
       "        <td id=\"T_be1e7dc6_4617_11e9_b957_0242ac1c0002row6_col7\" class=\"data row6 col7\" >2018-09-18 16:15:00</td> \n",
       "    </tr>    <tr> \n",
       "        <th id=\"T_be1e7dc6_4617_11e9_b957_0242ac1c0002level0_row7\" class=\"row_heading level0 row7\" >8</th> \n",
       "        <td id=\"T_be1e7dc6_4617_11e9_b957_0242ac1c0002row7_col0\" class=\"data row7 col0\" ><img src=\"https://i.ytimg.com/vi/Ud3N7BFsDG0/default.jpg\"/></td> \n",
       "        <td id=\"T_be1e7dc6_4617_11e9_b957_0242ac1c0002row7_col1\" class=\"data row7 col1\" >DONT GIF THIS - LWIAY - #0048</td> \n",
       "        <td id=\"T_be1e7dc6_4617_11e9_b957_0242ac1c0002row7_col2\" class=\"data row7 col2\" >4,663,728</td> \n",
       "        <td id=\"T_be1e7dc6_4617_11e9_b957_0242ac1c0002row7_col3\" class=\"data row7 col3\" >Entertainment</td> \n",
       "        <td id=\"T_be1e7dc6_4617_11e9_b957_0242ac1c0002row7_col4\" class=\"data row7 col4\" >13.13%</td> \n",
       "        <td id=\"T_be1e7dc6_4617_11e9_b957_0242ac1c0002row7_col5\" class=\"data row7 col5\" >0.10%</td> \n",
       "        <td id=\"T_be1e7dc6_4617_11e9_b957_0242ac1c0002row7_col6\" class=\"data row7 col6\" >0.70%</td> \n",
       "        <td id=\"T_be1e7dc6_4617_11e9_b957_0242ac1c0002row7_col7\" class=\"data row7 col7\" >2018-09-13 19:19:42</td> \n",
       "    </tr>    <tr> \n",
       "        <th id=\"T_be1e7dc6_4617_11e9_b957_0242ac1c0002level0_row8\" class=\"row_heading level0 row8\" >9</th> \n",
       "        <td id=\"T_be1e7dc6_4617_11e9_b957_0242ac1c0002row8_col0\" class=\"data row8 col0\" ><img src=\"https://i.ytimg.com/vi/p8L-LjWHpjw/default.jpg\"/></td> \n",
       "        <td id=\"T_be1e7dc6_4617_11e9_b957_0242ac1c0002row8_col1\" class=\"data row8 col1\" >This is getting out of control...</td> \n",
       "        <td id=\"T_be1e7dc6_4617_11e9_b957_0242ac1c0002row8_col2\" class=\"data row8 col2\" >9,890,903</td> \n",
       "        <td id=\"T_be1e7dc6_4617_11e9_b957_0242ac1c0002row8_col3\" class=\"data row8 col3\" >Entertainment</td> \n",
       "        <td id=\"T_be1e7dc6_4617_11e9_b957_0242ac1c0002row8_col4\" class=\"data row8 col4\" >10.97%</td> \n",
       "        <td id=\"T_be1e7dc6_4617_11e9_b957_0242ac1c0002row8_col5\" class=\"data row8 col5\" >0.72%</td> \n",
       "        <td id=\"T_be1e7dc6_4617_11e9_b957_0242ac1c0002row8_col6\" class=\"data row8 col6\" >1.28%</td> \n",
       "        <td id=\"T_be1e7dc6_4617_11e9_b957_0242ac1c0002row8_col7\" class=\"data row8 col7\" >2018-12-03 17:44:48</td> \n",
       "    </tr>    <tr> \n",
       "        <th id=\"T_be1e7dc6_4617_11e9_b957_0242ac1c0002level0_row9\" class=\"row_heading level0 row9\" >10</th> \n",
       "        <td id=\"T_be1e7dc6_4617_11e9_b957_0242ac1c0002row9_col0\" class=\"data row9 col0\" ><img src=\"https://i.ytimg.com/vi/OC9_1UwzWlQ/default.jpg\"/></td> \n",
       "        <td id=\"T_be1e7dc6_4617_11e9_b957_0242ac1c0002row9_col1\" class=\"data row9 col1\" >NO, IM NOT INSANE.!!!!!!!!!             !!!!!!!!!!! / Getting Over It / #6</td> \n",
       "        <td id=\"T_be1e7dc6_4617_11e9_b957_0242ac1c0002row9_col2\" class=\"data row9 col2\" >5,738,143</td> \n",
       "        <td id=\"T_be1e7dc6_4617_11e9_b957_0242ac1c0002row9_col3\" class=\"data row9 col3\" >Gaming</td> \n",
       "        <td id=\"T_be1e7dc6_4617_11e9_b957_0242ac1c0002row9_col4\" class=\"data row9 col4\" >10.74%</td> \n",
       "        <td id=\"T_be1e7dc6_4617_11e9_b957_0242ac1c0002row9_col5\" class=\"data row9 col5\" >0.08%</td> \n",
       "        <td id=\"T_be1e7dc6_4617_11e9_b957_0242ac1c0002row9_col6\" class=\"data row9 col6\" >0.47%</td> \n",
       "        <td id=\"T_be1e7dc6_4617_11e9_b957_0242ac1c0002row9_col7\" class=\"data row9 col7\" >2017-12-10 16:23:41</td> \n",
       "    </tr></tbody> \n",
       "</table> "
      ],
      "text/plain": [
       "<IPython.core.display.HTML object>"
      ]
     },
     "metadata": {
      "tags": []
     },
     "output_type": "display_data"
    }
   ],
   "source": [
    "# Top % Liked\n",
    "data = df.sort_values('% Liked', ascending=False).head(10)\n",
    "data.index = np.arange(1, data.shape[0]+1)\n",
    "\n",
    "# Render table in html\n",
    "display(HTML(\n",
    "    data.style\n",
    "        .format({'View': '{:,}','Image':'<img src=\"{}\"/>',\n",
    "                '% Liked': '{:.2%}', '% Disliked': '{:.2%}', \n",
    "                '% Commented': '{:.2%}'})\n",
    "        .set_table_styles(styles)\n",
    "        .render()\n",
    "))"
   ]
  },
  {
   "cell_type": "markdown",
   "metadata": {
    "colab_type": "text",
    "id": "_myPiDMxP7Px"
   },
   "source": [
    "### Top 10 - Most disliked"
   ]
  },
  {
   "cell_type": "code",
   "execution_count": 17,
   "metadata": {
    "colab": {
     "base_uri": "https://localhost:8080/",
     "height": 856
    },
    "colab_type": "code",
    "id": "U9AAxNO1zpQF",
    "outputId": "3985bc37-4e4d-43ba-b643-a847cbdb8261"
   },
   "outputs": [
    {
     "data": {
      "text/html": [
       "<style  type=\"text/css\" >\n",
       "    #T_c6b798b4_4617_11e9_b957_0242ac1c0002 th {\n",
       "          padding: 4px 4px;\n",
       "          font-weight: bold;\n",
       "          color: #6d6d6d;\n",
       "          background-color: #f7f7f9;\n",
       "    }    #T_c6b798b4_4617_11e9_b957_0242ac1c0002 td {\n",
       "          padding: 2px 4px;\n",
       "          font-size: smaller;\n",
       "    }    #T_c6b798b4_4617_11e9_b957_0242ac1c0002 img {\n",
       "          width: auto;\n",
       "          height: 80%;\n",
       "    }    #T_c6b798b4_4617_11e9_b957_0242ac1c0002 tr:nth-child(even) {\n",
       "          background: #f7f7f9;\n",
       "    }</style>  \n",
       "<table id=\"T_c6b798b4_4617_11e9_b957_0242ac1c0002\" > \n",
       "<thead>    <tr> \n",
       "        <th class=\"blank level0\" ></th> \n",
       "        <th class=\"col_heading level0 col0\" >Image</th> \n",
       "        <th class=\"col_heading level0 col1\" >Title</th> \n",
       "        <th class=\"col_heading level0 col2\" >View</th> \n",
       "        <th class=\"col_heading level0 col3\" >Category</th> \n",
       "        <th class=\"col_heading level0 col4\" >% Liked</th> \n",
       "        <th class=\"col_heading level0 col5\" >% Disliked</th> \n",
       "        <th class=\"col_heading level0 col6\" >% Commented</th> \n",
       "        <th class=\"col_heading level0 col7\" >Published Date</th> \n",
       "    </tr></thead> \n",
       "<tbody>    <tr> \n",
       "        <th id=\"T_c6b798b4_4617_11e9_b957_0242ac1c0002level0_row0\" class=\"row_heading level0 row0\" >1</th> \n",
       "        <td id=\"T_c6b798b4_4617_11e9_b957_0242ac1c0002row0_col0\" class=\"data row0 col0\" ><img src=\"https://i.ytimg.com/vi/wx9Jv5uxfac/default.jpg\"/></td> \n",
       "        <td id=\"T_c6b798b4_4617_11e9_b957_0242ac1c0002row0_col1\" class=\"data row0 col1\" >Can this video get 1 million dislikes?</td> \n",
       "        <td id=\"T_c6b798b4_4617_11e9_b957_0242ac1c0002row0_col2\" class=\"data row0 col2\" >16,361,211</td> \n",
       "        <td id=\"T_c6b798b4_4617_11e9_b957_0242ac1c0002row0_col3\" class=\"data row0 col3\" >Entertainment</td> \n",
       "        <td id=\"T_c6b798b4_4617_11e9_b957_0242ac1c0002row0_col4\" class=\"data row0 col4\" >1.56%</td> \n",
       "        <td id=\"T_c6b798b4_4617_11e9_b957_0242ac1c0002row0_col5\" class=\"data row0 col5\" >24.59%</td> \n",
       "        <td id=\"T_c6b798b4_4617_11e9_b957_0242ac1c0002row0_col6\" class=\"data row0 col6\" >0.72%</td> \n",
       "        <td id=\"T_c6b798b4_4617_11e9_b957_0242ac1c0002row0_col7\" class=\"data row0 col7\" >2016-12-24 16:01:38</td> \n",
       "    </tr>    <tr> \n",
       "        <th id=\"T_c6b798b4_4617_11e9_b957_0242ac1c0002level0_row1\" class=\"row_heading level0 row1\" >2</th> \n",
       "        <td id=\"T_c6b798b4_4617_11e9_b957_0242ac1c0002row1_col0\" class=\"data row1 col0\" ><img src=\"https://i.ytimg.com/vi/pYS8Av10B00/default.jpg\"/></td> \n",
       "        <td id=\"T_c6b798b4_4617_11e9_b957_0242ac1c0002row1_col1\" class=\"data row1 col1\" >Can this video get same likes and dislikes?</td> \n",
       "        <td id=\"T_c6b798b4_4617_11e9_b957_0242ac1c0002row1_col2\" class=\"data row1 col2\" >9,271,236</td> \n",
       "        <td id=\"T_c6b798b4_4617_11e9_b957_0242ac1c0002row1_col3\" class=\"data row1 col3\" >Comedy</td> \n",
       "        <td id=\"T_c6b798b4_4617_11e9_b957_0242ac1c0002row1_col4\" class=\"data row1 col4\" >10.61%</td> \n",
       "        <td id=\"T_c6b798b4_4617_11e9_b957_0242ac1c0002row1_col5\" class=\"data row1 col5\" >10.71%</td> \n",
       "        <td id=\"T_c6b798b4_4617_11e9_b957_0242ac1c0002row1_col6\" class=\"data row1 col6\" >1.17%</td> \n",
       "        <td id=\"T_c6b798b4_4617_11e9_b957_0242ac1c0002row1_col7\" class=\"data row1 col7\" >2017-03-24 17:26:23</td> \n",
       "    </tr>    <tr> \n",
       "        <th id=\"T_c6b798b4_4617_11e9_b957_0242ac1c0002level0_row2\" class=\"row_heading level0 row2\" >3</th> \n",
       "        <td id=\"T_c6b798b4_4617_11e9_b957_0242ac1c0002row2_col0\" class=\"data row2 col0\" ><img src=\"https://i.ytimg.com/vi/Zv7mc3TygO4/default.jpg\"/></td> \n",
       "        <td id=\"T_c6b798b4_4617_11e9_b957_0242ac1c0002row2_col1\" class=\"data row2 col1\" >I DON'T LIKE MARVEL MOVIES</td> \n",
       "        <td id=\"T_c6b798b4_4617_11e9_b957_0242ac1c0002row2_col2\" class=\"data row2 col2\" >4,408,277</td> \n",
       "        <td id=\"T_c6b798b4_4617_11e9_b957_0242ac1c0002row2_col3\" class=\"data row2 col3\" >Entertainment</td> \n",
       "        <td id=\"T_c6b798b4_4617_11e9_b957_0242ac1c0002row2_col4\" class=\"data row2 col4\" >7.79%</td> \n",
       "        <td id=\"T_c6b798b4_4617_11e9_b957_0242ac1c0002row2_col5\" class=\"data row2 col5\" >1.75%</td> \n",
       "        <td id=\"T_c6b798b4_4617_11e9_b957_0242ac1c0002row2_col6\" class=\"data row2 col6\" >2.72%</td> \n",
       "        <td id=\"T_c6b798b4_4617_11e9_b957_0242ac1c0002row2_col7\" class=\"data row2 col7\" >2018-05-04 17:03:17</td> \n",
       "    </tr>    <tr> \n",
       "        <th id=\"T_c6b798b4_4617_11e9_b957_0242ac1c0002level0_row3\" class=\"row_heading level0 row3\" >4</th> \n",
       "        <td id=\"T_c6b798b4_4617_11e9_b957_0242ac1c0002row3_col0\" class=\"data row3 col0\" ><img src=\"https://i.ytimg.com/vi/Q6M255BZ0HU/default.jpg\"/></td> \n",
       "        <td id=\"T_c6b798b4_4617_11e9_b957_0242ac1c0002row3_col1\" class=\"data row3 col1\" >YOU INDIA YOU LOSE  - YLYL #0026</td> \n",
       "        <td id=\"T_c6b798b4_4617_11e9_b957_0242ac1c0002row3_col2\" class=\"data row3 col2\" >13,864,533</td> \n",
       "        <td id=\"T_c6b798b4_4617_11e9_b957_0242ac1c0002row3_col3\" class=\"data row3 col3\" >Entertainment</td> \n",
       "        <td id=\"T_c6b798b4_4617_11e9_b957_0242ac1c0002row3_col4\" class=\"data row3 col4\" >4.73%</td> \n",
       "        <td id=\"T_c6b798b4_4617_11e9_b957_0242ac1c0002row3_col5\" class=\"data row3 col5\" >1.35%</td> \n",
       "        <td id=\"T_c6b798b4_4617_11e9_b957_0242ac1c0002row3_col6\" class=\"data row3 col6\" >1.04%</td> \n",
       "        <td id=\"T_c6b798b4_4617_11e9_b957_0242ac1c0002row3_col7\" class=\"data row3 col7\" >2018-05-11 17:22:37</td> \n",
       "    </tr>    <tr> \n",
       "        <th id=\"T_c6b798b4_4617_11e9_b957_0242ac1c0002level0_row4\" class=\"row_heading level0 row4\" >5</th> \n",
       "        <td id=\"T_c6b798b4_4617_11e9_b957_0242ac1c0002row4_col0\" class=\"data row4 col0\" ><img src=\"https://i.ytimg.com/vi/Y39LE5ZoKjw/default.jpg\"/></td> \n",
       "        <td id=\"T_c6b798b4_4617_11e9_b957_0242ac1c0002row4_col1\" class=\"data row4 col1\" >DELETING MY CHANNEL</td> \n",
       "        <td id=\"T_c6b798b4_4617_11e9_b957_0242ac1c0002row4_col2\" class=\"data row4 col2\" >35,177,373</td> \n",
       "        <td id=\"T_c6b798b4_4617_11e9_b957_0242ac1c0002row4_col3\" class=\"data row4 col3\" >Gaming</td> \n",
       "        <td id=\"T_c6b798b4_4617_11e9_b957_0242ac1c0002row4_col4\" class=\"data row4 col4\" >4.93%</td> \n",
       "        <td id=\"T_c6b798b4_4617_11e9_b957_0242ac1c0002row4_col5\" class=\"data row4 col5\" >0.74%</td> \n",
       "        <td id=\"T_c6b798b4_4617_11e9_b957_0242ac1c0002row4_col6\" class=\"data row4 col6\" >0.63%</td> \n",
       "        <td id=\"T_c6b798b4_4617_11e9_b957_0242ac1c0002row4_col7\" class=\"data row4 col7\" >2016-12-09 16:06:33</td> \n",
       "    </tr>    <tr> \n",
       "        <th id=\"T_c6b798b4_4617_11e9_b957_0242ac1c0002level0_row5\" class=\"row_heading level0 row5\" >6</th> \n",
       "        <td id=\"T_c6b798b4_4617_11e9_b957_0242ac1c0002row5_col0\" class=\"data row5 col0\" ><img src=\"https://i.ytimg.com/vi/p8L-LjWHpjw/default.jpg\"/></td> \n",
       "        <td id=\"T_c6b798b4_4617_11e9_b957_0242ac1c0002row5_col1\" class=\"data row5 col1\" >This is getting out of control...</td> \n",
       "        <td id=\"T_c6b798b4_4617_11e9_b957_0242ac1c0002row5_col2\" class=\"data row5 col2\" >9,890,903</td> \n",
       "        <td id=\"T_c6b798b4_4617_11e9_b957_0242ac1c0002row5_col3\" class=\"data row5 col3\" >Entertainment</td> \n",
       "        <td id=\"T_c6b798b4_4617_11e9_b957_0242ac1c0002row5_col4\" class=\"data row5 col4\" >10.97%</td> \n",
       "        <td id=\"T_c6b798b4_4617_11e9_b957_0242ac1c0002row5_col5\" class=\"data row5 col5\" >0.72%</td> \n",
       "        <td id=\"T_c6b798b4_4617_11e9_b957_0242ac1c0002row5_col6\" class=\"data row5 col6\" >1.28%</td> \n",
       "        <td id=\"T_c6b798b4_4617_11e9_b957_0242ac1c0002row5_col7\" class=\"data row5 col7\" >2018-12-03 17:44:48</td> \n",
       "    </tr>    <tr> \n",
       "        <th id=\"T_c6b798b4_4617_11e9_b957_0242ac1c0002level0_row6\" class=\"row_heading level0 row6\" >7</th> \n",
       "        <td id=\"T_c6b798b4_4617_11e9_b957_0242ac1c0002row6_col0\" class=\"data row6 col0\" ><img src=\"https://i.ytimg.com/vi/dJY8iT341F4/default.jpg\"/></td> \n",
       "        <td id=\"T_c6b798b4_4617_11e9_b957_0242ac1c0002row6_col1\" class=\"data row6 col1\" >JAI HIND / IM HALF INDIAN!! - LWIAY - #0047</td> \n",
       "        <td id=\"T_c6b798b4_4617_11e9_b957_0242ac1c0002row6_col2\" class=\"data row6 col2\" >6,493,345</td> \n",
       "        <td id=\"T_c6b798b4_4617_11e9_b957_0242ac1c0002row6_col3\" class=\"data row6 col3\" >Entertainment</td> \n",
       "        <td id=\"T_c6b798b4_4617_11e9_b957_0242ac1c0002row6_col4\" class=\"data row6 col4\" >6.82%</td> \n",
       "        <td id=\"T_c6b798b4_4617_11e9_b957_0242ac1c0002row6_col5\" class=\"data row6 col5\" >0.69%</td> \n",
       "        <td id=\"T_c6b798b4_4617_11e9_b957_0242ac1c0002row6_col6\" class=\"data row6 col6\" >0.86%</td> \n",
       "        <td id=\"T_c6b798b4_4617_11e9_b957_0242ac1c0002row6_col7\" class=\"data row6 col7\" >2018-09-06 17:21:39</td> \n",
       "    </tr>    <tr> \n",
       "        <th id=\"T_c6b798b4_4617_11e9_b957_0242ac1c0002level0_row7\" class=\"row_heading level0 row7\" >8</th> \n",
       "        <td id=\"T_c6b798b4_4617_11e9_b957_0242ac1c0002row7_col0\" class=\"data row7 col0\" ><img src=\"https://i.ytimg.com/vi/df4ZYC8MZIA/default.jpg\"/></td> \n",
       "        <td id=\"T_c6b798b4_4617_11e9_b957_0242ac1c0002row7_col1\" class=\"data row7 col1\" >Mobile Ads NEEDS to be Stopped! (#2) (#AD)</td> \n",
       "        <td id=\"T_c6b798b4_4617_11e9_b957_0242ac1c0002row7_col2\" class=\"data row7 col2\" >3,806,389</td> \n",
       "        <td id=\"T_c6b798b4_4617_11e9_b957_0242ac1c0002row7_col3\" class=\"data row7 col3\" >Gaming</td> \n",
       "        <td id=\"T_c6b798b4_4617_11e9_b957_0242ac1c0002row7_col4\" class=\"data row7 col4\" >5.36%</td> \n",
       "        <td id=\"T_c6b798b4_4617_11e9_b957_0242ac1c0002row7_col5\" class=\"data row7 col5\" >0.61%</td> \n",
       "        <td id=\"T_c6b798b4_4617_11e9_b957_0242ac1c0002row7_col6\" class=\"data row7 col6\" >1.01%</td> \n",
       "        <td id=\"T_c6b798b4_4617_11e9_b957_0242ac1c0002row7_col7\" class=\"data row7 col7\" >2019-01-24 17:51:06</td> \n",
       "    </tr>    <tr> \n",
       "        <th id=\"T_c6b798b4_4617_11e9_b957_0242ac1c0002level0_row8\" class=\"row_heading level0 row8\" >9</th> \n",
       "        <td id=\"T_c6b798b4_4617_11e9_b957_0242ac1c0002row8_col0\" class=\"data row8 col0\" ><img src=\"https://i.ytimg.com/vi/bFNKGLzGrQY/default.jpg\"/></td> \n",
       "        <td id=\"T_c6b798b4_4617_11e9_b957_0242ac1c0002row8_col1\" class=\"data row8 col1\" >The New Zelda Game!! (not clickbait)</td> \n",
       "        <td id=\"T_c6b798b4_4617_11e9_b957_0242ac1c0002row8_col2\" class=\"data row8 col2\" >3,936,952</td> \n",
       "        <td id=\"T_c6b798b4_4617_11e9_b957_0242ac1c0002row8_col3\" class=\"data row8 col3\" >Comedy</td> \n",
       "        <td id=\"T_c6b798b4_4617_11e9_b957_0242ac1c0002row8_col4\" class=\"data row8 col4\" >5.63%</td> \n",
       "        <td id=\"T_c6b798b4_4617_11e9_b957_0242ac1c0002row8_col5\" class=\"data row8 col5\" >0.55%</td> \n",
       "        <td id=\"T_c6b798b4_4617_11e9_b957_0242ac1c0002row8_col6\" class=\"data row8 col6\" >0.57%</td> \n",
       "        <td id=\"T_c6b798b4_4617_11e9_b957_0242ac1c0002row8_col7\" class=\"data row8 col7\" >2017-03-04 16:47:54</td> \n",
       "    </tr>    <tr> \n",
       "        <th id=\"T_c6b798b4_4617_11e9_b957_0242ac1c0002level0_row9\" class=\"row_heading level0 row9\" >10</th> \n",
       "        <td id=\"T_c6b798b4_4617_11e9_b957_0242ac1c0002row9_col0\" class=\"data row9 col0\" ><img src=\"https://i.ytimg.com/vi/M6-zP-Wc9Ig/default.jpg\"/></td> \n",
       "        <td id=\"T_c6b798b4_4617_11e9_b957_0242ac1c0002row9_col1\" class=\"data row9 col1\" >PLEASE WATCH ! ! ! ! !</td> \n",
       "        <td id=\"T_c6b798b4_4617_11e9_b957_0242ac1c0002row9_col2\" class=\"data row9 col2\" >4,014,253</td> \n",
       "        <td id=\"T_c6b798b4_4617_11e9_b957_0242ac1c0002row9_col3\" class=\"data row9 col3\" >Comedy</td> \n",
       "        <td id=\"T_c6b798b4_4617_11e9_b957_0242ac1c0002row9_col4\" class=\"data row9 col4\" >10.08%</td> \n",
       "        <td id=\"T_c6b798b4_4617_11e9_b957_0242ac1c0002row9_col5\" class=\"data row9 col5\" >0.55%</td> \n",
       "        <td id=\"T_c6b798b4_4617_11e9_b957_0242ac1c0002row9_col6\" class=\"data row9 col6\" >1.13%</td> \n",
       "        <td id=\"T_c6b798b4_4617_11e9_b957_0242ac1c0002row9_col7\" class=\"data row9 col7\" >2017-05-26 16:21:25</td> \n",
       "    </tr></tbody> \n",
       "</table> "
      ],
      "text/plain": [
       "<IPython.core.display.HTML object>"
      ]
     },
     "metadata": {
      "tags": []
     },
     "output_type": "display_data"
    }
   ],
   "source": [
    "# Top % Disliked\n",
    "data = df.sort_values('% Disliked', ascending=False).head(10)\n",
    "data.index = np.arange(1, data.shape[0]+1)\n",
    "\n",
    "# Render table in html\n",
    "display(HTML(\n",
    "    data.style\n",
    "        .format({'View': '{:,}','Image':'<img src=\"{}\"/>',\n",
    "                '% Liked': '{:.2%}', '% Disliked': '{:.2%}', \n",
    "                '% Commented': '{:.2%}'})\n",
    "        .set_table_styles(styles)\n",
    "        .render()\n",
    "))"
   ]
  },
  {
   "cell_type": "markdown",
   "metadata": {
    "colab_type": "text",
    "id": "UB9YFpK1QA7x"
   },
   "source": [
    "### Top 10 - Most commented"
   ]
  },
  {
   "cell_type": "code",
   "execution_count": 18,
   "metadata": {
    "colab": {
     "base_uri": "https://localhost:8080/",
     "height": 856
    },
    "colab_type": "code",
    "id": "2S0kCrd5Q7aL",
    "outputId": "4b7dc519-b62f-4c45-9a6a-642a92ad22f4"
   },
   "outputs": [
    {
     "data": {
      "text/html": [
       "<style  type=\"text/css\" >\n",
       "    #T_cc2e6a7a_4617_11e9_b957_0242ac1c0002 th {\n",
       "          padding: 4px 4px;\n",
       "          font-weight: bold;\n",
       "          color: #6d6d6d;\n",
       "          background-color: #f7f7f9;\n",
       "    }    #T_cc2e6a7a_4617_11e9_b957_0242ac1c0002 td {\n",
       "          padding: 2px 4px;\n",
       "          font-size: smaller;\n",
       "    }    #T_cc2e6a7a_4617_11e9_b957_0242ac1c0002 img {\n",
       "          width: auto;\n",
       "          height: 80%;\n",
       "    }    #T_cc2e6a7a_4617_11e9_b957_0242ac1c0002 tr:nth-child(even) {\n",
       "          background: #f7f7f9;\n",
       "    }</style>  \n",
       "<table id=\"T_cc2e6a7a_4617_11e9_b957_0242ac1c0002\" > \n",
       "<thead>    <tr> \n",
       "        <th class=\"blank level0\" ></th> \n",
       "        <th class=\"col_heading level0 col0\" >Image</th> \n",
       "        <th class=\"col_heading level0 col1\" >Title</th> \n",
       "        <th class=\"col_heading level0 col2\" >View</th> \n",
       "        <th class=\"col_heading level0 col3\" >Category</th> \n",
       "        <th class=\"col_heading level0 col4\" >% Liked</th> \n",
       "        <th class=\"col_heading level0 col5\" >% Disliked</th> \n",
       "        <th class=\"col_heading level0 col6\" >% Commented</th> \n",
       "        <th class=\"col_heading level0 col7\" >Published Date</th> \n",
       "    </tr></thead> \n",
       "<tbody>    <tr> \n",
       "        <th id=\"T_cc2e6a7a_4617_11e9_b957_0242ac1c0002level0_row0\" class=\"row_heading level0 row0\" >1</th> \n",
       "        <td id=\"T_cc2e6a7a_4617_11e9_b957_0242ac1c0002row0_col0\" class=\"data row0 col0\" ><img src=\"https://i.ytimg.com/vi/TvxkKs2J0Vw/default.jpg\"/></td> \n",
       "        <td id=\"T_cc2e6a7a_4617_11e9_b957_0242ac1c0002row0_col1\" class=\"data row0 col1\" >Can this video get 1 million comments?</td> \n",
       "        <td id=\"T_cc2e6a7a_4617_11e9_b957_0242ac1c0002row0_col2\" class=\"data row0 col2\" >13,082,123</td> \n",
       "        <td id=\"T_cc2e6a7a_4617_11e9_b957_0242ac1c0002row0_col3\" class=\"data row0 col3\" >Comedy</td> \n",
       "        <td id=\"T_cc2e6a7a_4617_11e9_b957_0242ac1c0002row0_col4\" class=\"data row0 col4\" >6.55%</td> \n",
       "        <td id=\"T_cc2e6a7a_4617_11e9_b957_0242ac1c0002row0_col5\" class=\"data row0 col5\" >0.20%</td> \n",
       "        <td id=\"T_cc2e6a7a_4617_11e9_b957_0242ac1c0002row0_col6\" class=\"data row0 col6\" >11.89%</td> \n",
       "        <td id=\"T_cc2e6a7a_4617_11e9_b957_0242ac1c0002row0_col7\" class=\"data row0 col7\" >2017-01-28 18:36:35</td> \n",
       "    </tr>    <tr> \n",
       "        <th id=\"T_cc2e6a7a_4617_11e9_b957_0242ac1c0002level0_row1\" class=\"row_heading level0 row1\" >2</th> \n",
       "        <td id=\"T_cc2e6a7a_4617_11e9_b957_0242ac1c0002row1_col0\" class=\"data row1 col0\" ><img src=\"https://i.ytimg.com/vi/ZuffWCjhxII/default.jpg\"/></td> \n",
       "        <td id=\"T_cc2e6a7a_4617_11e9_b957_0242ac1c0002row1_col1\" class=\"data row1 col1\" >MOVING TO A DIFFERENT COUNTRY! - QnA w/ Pewds</td> \n",
       "        <td id=\"T_cc2e6a7a_4617_11e9_b957_0242ac1c0002row1_col2\" class=\"data row1 col2\" >5,105,559</td> \n",
       "        <td id=\"T_cc2e6a7a_4617_11e9_b957_0242ac1c0002row1_col3\" class=\"data row1 col3\" >Gaming</td> \n",
       "        <td id=\"T_cc2e6a7a_4617_11e9_b957_0242ac1c0002row1_col4\" class=\"data row1 col4\" >4.51%</td> \n",
       "        <td id=\"T_cc2e6a7a_4617_11e9_b957_0242ac1c0002row1_col5\" class=\"data row1 col5\" >0.08%</td> \n",
       "        <td id=\"T_cc2e6a7a_4617_11e9_b957_0242ac1c0002row1_col6\" class=\"data row1 col6\" >4.66%</td> \n",
       "        <td id=\"T_cc2e6a7a_4617_11e9_b957_0242ac1c0002row1_col7\" class=\"data row1 col7\" >2013-06-30 12:52:31</td> \n",
       "    </tr>    <tr> \n",
       "        <th id=\"T_cc2e6a7a_4617_11e9_b957_0242ac1c0002level0_row2\" class=\"row_heading level0 row2\" >3</th> \n",
       "        <td id=\"T_cc2e6a7a_4617_11e9_b957_0242ac1c0002row2_col0\" class=\"data row2 col0\" ><img src=\"https://i.ytimg.com/vi/w9osIOqkzdQ/default.jpg\"/></td> \n",
       "        <td id=\"T_cc2e6a7a_4617_11e9_b957_0242ac1c0002row2_col1\" class=\"data row2 col1\" >THE PEWDIEPIE MOVIE - Teaser Trailer #1</td> \n",
       "        <td id=\"T_cc2e6a7a_4617_11e9_b957_0242ac1c0002row2_col2\" class=\"data row2 col2\" >6,004,005</td> \n",
       "        <td id=\"T_cc2e6a7a_4617_11e9_b957_0242ac1c0002row2_col3\" class=\"data row2 col3\" >People & Blogs</td> \n",
       "        <td id=\"T_cc2e6a7a_4617_11e9_b957_0242ac1c0002row2_col4\" class=\"data row2 col4\" >4.09%</td> \n",
       "        <td id=\"T_cc2e6a7a_4617_11e9_b957_0242ac1c0002row2_col5\" class=\"data row2 col5\" >0.32%</td> \n",
       "        <td id=\"T_cc2e6a7a_4617_11e9_b957_0242ac1c0002row2_col6\" class=\"data row2 col6\" >4.38%</td> \n",
       "        <td id=\"T_cc2e6a7a_4617_11e9_b957_0242ac1c0002row2_col7\" class=\"data row2 col7\" >2016-04-01 09:21:02</td> \n",
       "    </tr>    <tr> \n",
       "        <th id=\"T_cc2e6a7a_4617_11e9_b957_0242ac1c0002level0_row3\" class=\"row_heading level0 row3\" >4</th> \n",
       "        <td id=\"T_cc2e6a7a_4617_11e9_b957_0242ac1c0002row3_col0\" class=\"data row3 col0\" ><img src=\"https://i.ytimg.com/vi/DZrXDDMTg1w/default.jpg\"/></td> \n",
       "        <td id=\"T_cc2e6a7a_4617_11e9_b957_0242ac1c0002row3_col1\" class=\"data row3 col1\" >bad news [MEME REVIEW] 👏 👏#49</td> \n",
       "        <td id=\"T_cc2e6a7a_4617_11e9_b957_0242ac1c0002row3_col2\" class=\"data row3 col2\" >9,431,373</td> \n",
       "        <td id=\"T_cc2e6a7a_4617_11e9_b957_0242ac1c0002row3_col3\" class=\"data row3 col3\" >Entertainment</td> \n",
       "        <td id=\"T_cc2e6a7a_4617_11e9_b957_0242ac1c0002row3_col4\" class=\"data row3 col4\" >7.45%</td> \n",
       "        <td id=\"T_cc2e6a7a_4617_11e9_b957_0242ac1c0002row3_col5\" class=\"data row3 col5\" >0.13%</td> \n",
       "        <td id=\"T_cc2e6a7a_4617_11e9_b957_0242ac1c0002row3_col6\" class=\"data row3 col6\" >4.13%</td> \n",
       "        <td id=\"T_cc2e6a7a_4617_11e9_b957_0242ac1c0002row3_col7\" class=\"data row3 col7\" >2019-02-10 19:15:00</td> \n",
       "    </tr>    <tr> \n",
       "        <th id=\"T_cc2e6a7a_4617_11e9_b957_0242ac1c0002level0_row4\" class=\"row_heading level0 row4\" >5</th> \n",
       "        <td id=\"T_cc2e6a7a_4617_11e9_b957_0242ac1c0002row4_col0\" class=\"data row4 col0\" ><img src=\"https://i.ytimg.com/vi/y3S1qFTsygU/default.jpg\"/></td> \n",
       "        <td id=\"T_cc2e6a7a_4617_11e9_b957_0242ac1c0002row4_col1\" class=\"data row4 col1\" >HELP ME DECIDE BROS! - The Wolf Among Us - Gameplay, Playthrough - Part 3</td> \n",
       "        <td id=\"T_cc2e6a7a_4617_11e9_b957_0242ac1c0002row4_col2\" class=\"data row4 col2\" >2,845,981</td> \n",
       "        <td id=\"T_cc2e6a7a_4617_11e9_b957_0242ac1c0002row4_col3\" class=\"data row4 col3\" >Gaming</td> \n",
       "        <td id=\"T_cc2e6a7a_4617_11e9_b957_0242ac1c0002row4_col4\" class=\"data row4 col4\" >2.81%</td> \n",
       "        <td id=\"T_cc2e6a7a_4617_11e9_b957_0242ac1c0002row4_col5\" class=\"data row4 col5\" >0.03%</td> \n",
       "        <td id=\"T_cc2e6a7a_4617_11e9_b957_0242ac1c0002row4_col6\" class=\"data row4 col6\" >3.21%</td> \n",
       "        <td id=\"T_cc2e6a7a_4617_11e9_b957_0242ac1c0002row4_col7\" class=\"data row4 col7\" >2013-10-13 15:32:54</td> \n",
       "    </tr>    <tr> \n",
       "        <th id=\"T_cc2e6a7a_4617_11e9_b957_0242ac1c0002level0_row5\" class=\"row_heading level0 row5\" >6</th> \n",
       "        <td id=\"T_cc2e6a7a_4617_11e9_b957_0242ac1c0002row5_col0\" class=\"data row5 col0\" ><img src=\"https://i.ytimg.com/vi/e_55DIoF6NA/default.jpg\"/></td> \n",
       "        <td id=\"T_cc2e6a7a_4617_11e9_b957_0242ac1c0002row5_col1\" class=\"data row5 col1\" >CALLING BROS TO VOTE</td> \n",
       "        <td id=\"T_cc2e6a7a_4617_11e9_b957_0242ac1c0002row5_col2\" class=\"data row5 col2\" >1,482,758</td> \n",
       "        <td id=\"T_cc2e6a7a_4617_11e9_b957_0242ac1c0002row5_col3\" class=\"data row5 col3\" >People & Blogs</td> \n",
       "        <td id=\"T_cc2e6a7a_4617_11e9_b957_0242ac1c0002row5_col4\" class=\"data row5 col4\" >3.49%</td> \n",
       "        <td id=\"T_cc2e6a7a_4617_11e9_b957_0242ac1c0002row5_col5\" class=\"data row5 col5\" >0.05%</td> \n",
       "        <td id=\"T_cc2e6a7a_4617_11e9_b957_0242ac1c0002row5_col6\" class=\"data row5 col6\" >3.13%</td> \n",
       "        <td id=\"T_cc2e6a7a_4617_11e9_b957_0242ac1c0002row5_col7\" class=\"data row5 col7\" >2013-04-15 14:00:52</td> \n",
       "    </tr>    <tr> \n",
       "        <th id=\"T_cc2e6a7a_4617_11e9_b957_0242ac1c0002level0_row6\" class=\"row_heading level0 row6\" >7</th> \n",
       "        <td id=\"T_cc2e6a7a_4617_11e9_b957_0242ac1c0002row6_col0\" class=\"data row6 col0\" ><img src=\"https://i.ytimg.com/vi/Zv7mc3TygO4/default.jpg\"/></td> \n",
       "        <td id=\"T_cc2e6a7a_4617_11e9_b957_0242ac1c0002row6_col1\" class=\"data row6 col1\" >I DON'T LIKE MARVEL MOVIES</td> \n",
       "        <td id=\"T_cc2e6a7a_4617_11e9_b957_0242ac1c0002row6_col2\" class=\"data row6 col2\" >4,408,277</td> \n",
       "        <td id=\"T_cc2e6a7a_4617_11e9_b957_0242ac1c0002row6_col3\" class=\"data row6 col3\" >Entertainment</td> \n",
       "        <td id=\"T_cc2e6a7a_4617_11e9_b957_0242ac1c0002row6_col4\" class=\"data row6 col4\" >7.79%</td> \n",
       "        <td id=\"T_cc2e6a7a_4617_11e9_b957_0242ac1c0002row6_col5\" class=\"data row6 col5\" >1.75%</td> \n",
       "        <td id=\"T_cc2e6a7a_4617_11e9_b957_0242ac1c0002row6_col6\" class=\"data row6 col6\" >2.72%</td> \n",
       "        <td id=\"T_cc2e6a7a_4617_11e9_b957_0242ac1c0002row6_col7\" class=\"data row6 col7\" >2018-05-04 17:03:17</td> \n",
       "    </tr>    <tr> \n",
       "        <th id=\"T_cc2e6a7a_4617_11e9_b957_0242ac1c0002level0_row7\" class=\"row_heading level0 row7\" >8</th> \n",
       "        <td id=\"T_cc2e6a7a_4617_11e9_b957_0242ac1c0002row7_col0\" class=\"data row7 col0\" ><img src=\"https://i.ytimg.com/vi/CTKU3nX-vps/default.jpg\"/></td> \n",
       "        <td id=\"T_cc2e6a7a_4617_11e9_b957_0242ac1c0002row7_col1\" class=\"data row7 col1\" >BARRELS... BARRELS EVERYWHERE! - (Sunday With PewDiePie)</td> \n",
       "        <td id=\"T_cc2e6a7a_4617_11e9_b957_0242ac1c0002row7_col2\" class=\"data row7 col2\" >1,168,090</td> \n",
       "        <td id=\"T_cc2e6a7a_4617_11e9_b957_0242ac1c0002row7_col3\" class=\"data row7 col3\" >People & Blogs</td> \n",
       "        <td id=\"T_cc2e6a7a_4617_11e9_b957_0242ac1c0002row7_col4\" class=\"data row7 col4\" >4.64%</td> \n",
       "        <td id=\"T_cc2e6a7a_4617_11e9_b957_0242ac1c0002row7_col5\" class=\"data row7 col5\" >0.05%</td> \n",
       "        <td id=\"T_cc2e6a7a_4617_11e9_b957_0242ac1c0002row7_col6\" class=\"data row7 col6\" >2.69%</td> \n",
       "        <td id=\"T_cc2e6a7a_4617_11e9_b957_0242ac1c0002row7_col7\" class=\"data row7 col7\" >2012-08-19 16:30:12</td> \n",
       "    </tr>    <tr> \n",
       "        <th id=\"T_cc2e6a7a_4617_11e9_b957_0242ac1c0002level0_row8\" class=\"row_heading level0 row8\" >9</th> \n",
       "        <td id=\"T_cc2e6a7a_4617_11e9_b957_0242ac1c0002row8_col0\" class=\"data row8 col0\" ><img src=\"https://i.ytimg.com/vi/6q1weArxFlU/default.jpg\"/></td> \n",
       "        <td id=\"T_cc2e6a7a_4617_11e9_b957_0242ac1c0002row8_col1\" class=\"data row8 col1\" >Thank You</td> \n",
       "        <td id=\"T_cc2e6a7a_4617_11e9_b957_0242ac1c0002row8_col2\" class=\"data row8 col2\" >1,208,272</td> \n",
       "        <td id=\"T_cc2e6a7a_4617_11e9_b957_0242ac1c0002row8_col3\" class=\"data row8 col3\" >People & Blogs</td> \n",
       "        <td id=\"T_cc2e6a7a_4617_11e9_b957_0242ac1c0002row8_col4\" class=\"data row8 col4\" >7.68%</td> \n",
       "        <td id=\"T_cc2e6a7a_4617_11e9_b957_0242ac1c0002row8_col5\" class=\"data row8 col5\" >0.10%</td> \n",
       "        <td id=\"T_cc2e6a7a_4617_11e9_b957_0242ac1c0002row8_col6\" class=\"data row8 col6\" >2.67%</td> \n",
       "        <td id=\"T_cc2e6a7a_4617_11e9_b957_0242ac1c0002row8_col7\" class=\"data row8 col7\" >2013-01-18 20:05:34</td> \n",
       "    </tr>    <tr> \n",
       "        <th id=\"T_cc2e6a7a_4617_11e9_b957_0242ac1c0002level0_row9\" class=\"row_heading level0 row9\" >10</th> \n",
       "        <td id=\"T_cc2e6a7a_4617_11e9_b957_0242ac1c0002row9_col0\" class=\"data row9 col0\" ><img src=\"https://i.ytimg.com/vi/P3nfFpp6uxM/default.jpg\"/></td> \n",
       "        <td id=\"T_cc2e6a7a_4617_11e9_b957_0242ac1c0002row9_col1\" class=\"data row9 col1\" >Sup?</td> \n",
       "        <td id=\"T_cc2e6a7a_4617_11e9_b957_0242ac1c0002row9_col2\" class=\"data row9 col2\" >1,674,632</td> \n",
       "        <td id=\"T_cc2e6a7a_4617_11e9_b957_0242ac1c0002row9_col3\" class=\"data row9 col3\" >People & Blogs</td> \n",
       "        <td id=\"T_cc2e6a7a_4617_11e9_b957_0242ac1c0002row9_col4\" class=\"data row9 col4\" >6.12%</td> \n",
       "        <td id=\"T_cc2e6a7a_4617_11e9_b957_0242ac1c0002row9_col5\" class=\"data row9 col5\" >0.11%</td> \n",
       "        <td id=\"T_cc2e6a7a_4617_11e9_b957_0242ac1c0002row9_col6\" class=\"data row9 col6\" >2.66%</td> \n",
       "        <td id=\"T_cc2e6a7a_4617_11e9_b957_0242ac1c0002row9_col7\" class=\"data row9 col7\" >2013-03-11 22:36:22</td> \n",
       "    </tr></tbody> \n",
       "</table> "
      ],
      "text/plain": [
       "<IPython.core.display.HTML object>"
      ]
     },
     "metadata": {
      "tags": []
     },
     "output_type": "display_data"
    }
   ],
   "source": [
    "# Top % Commented\n",
    "data = df.sort_values('% Commented', ascending=False).head(10)\n",
    "data.index = np.arange(1, data.shape[0]+1)\n",
    "\n",
    "# Render table in html\n",
    "display(HTML(\n",
    "    data.style\n",
    "        .format({'View': '{:,}','Image':'<img src=\"{}\"/>',\n",
    "                '% Liked': '{:.2%}', '% Disliked': '{:.2%}', \n",
    "                '% Commented': '{:.2%}'})\n",
    "        .set_table_styles(styles)\n",
    "        .render()\n",
    "))"
   ]
  },
  {
   "cell_type": "markdown",
   "metadata": {
    "colab_type": "text",
    "id": "10DMBVgQQGfs"
   },
   "source": [
    "### Most recent videos"
   ]
  },
  {
   "cell_type": "code",
   "execution_count": 19,
   "metadata": {
    "colab": {
     "base_uri": "https://localhost:8080/",
     "height": 451
    },
    "colab_type": "code",
    "id": "Ln7UpFck2r60",
    "outputId": "e0bd9ce9-dd3e-4e2f-fdee-c29a850122a1"
   },
   "outputs": [
    {
     "data": {
      "text/html": [
       "<style  type=\"text/css\" >\n",
       "    #T_d11bbd3a_4617_11e9_b957_0242ac1c0002 th {\n",
       "          padding: 4px 4px;\n",
       "          font-weight: bold;\n",
       "          color: #6d6d6d;\n",
       "          background-color: #f7f7f9;\n",
       "    }    #T_d11bbd3a_4617_11e9_b957_0242ac1c0002 td {\n",
       "          padding: 2px 4px;\n",
       "          font-size: smaller;\n",
       "    }    #T_d11bbd3a_4617_11e9_b957_0242ac1c0002 img {\n",
       "          width: auto;\n",
       "          height: 80%;\n",
       "    }    #T_d11bbd3a_4617_11e9_b957_0242ac1c0002 tr:nth-child(even) {\n",
       "          background: #f7f7f9;\n",
       "    }</style>  \n",
       "<table id=\"T_d11bbd3a_4617_11e9_b957_0242ac1c0002\" > \n",
       "<thead>    <tr> \n",
       "        <th class=\"blank level0\" ></th> \n",
       "        <th class=\"col_heading level0 col0\" >Image</th> \n",
       "        <th class=\"col_heading level0 col1\" >Title</th> \n",
       "        <th class=\"col_heading level0 col2\" >View</th> \n",
       "        <th class=\"col_heading level0 col3\" >Category</th> \n",
       "        <th class=\"col_heading level0 col4\" >% Liked</th> \n",
       "        <th class=\"col_heading level0 col5\" >% Disliked</th> \n",
       "        <th class=\"col_heading level0 col6\" >% Commented</th> \n",
       "        <th class=\"col_heading level0 col7\" >Published Date</th> \n",
       "    </tr></thead> \n",
       "<tbody>    <tr> \n",
       "        <th id=\"T_d11bbd3a_4617_11e9_b957_0242ac1c0002level0_row0\" class=\"row_heading level0 row0\" >1</th> \n",
       "        <td id=\"T_d11bbd3a_4617_11e9_b957_0242ac1c0002row0_col0\" class=\"data row0 col0\" ><img src=\"https://i.ytimg.com/vi/0Fy8SLaP-Mc/default.jpg\"/></td> \n",
       "        <td id=\"T_d11bbd3a_4617_11e9_b957_0242ac1c0002row0_col1\" class=\"data row0 col1\" >You Laugh You Lose - Season 3 FINALE</td> \n",
       "        <td id=\"T_d11bbd3a_4617_11e9_b957_0242ac1c0002row0_col2\" class=\"data row0 col2\" >2,435,543</td> \n",
       "        <td id=\"T_d11bbd3a_4617_11e9_b957_0242ac1c0002row0_col3\" class=\"data row0 col3\" >Entertainment</td> \n",
       "        <td id=\"T_d11bbd3a_4617_11e9_b957_0242ac1c0002row0_col4\" class=\"data row0 col4\" >8.71%</td> \n",
       "        <td id=\"T_d11bbd3a_4617_11e9_b957_0242ac1c0002row0_col5\" class=\"data row0 col5\" >0.09%</td> \n",
       "        <td id=\"T_d11bbd3a_4617_11e9_b957_0242ac1c0002row0_col6\" class=\"data row0 col6\" >0.88%</td> \n",
       "        <td id=\"T_d11bbd3a_4617_11e9_b957_0242ac1c0002row0_col7\" class=\"data row0 col7\" >2019-03-13 18:52:24</td> \n",
       "    </tr>    <tr> \n",
       "        <th id=\"T_d11bbd3a_4617_11e9_b957_0242ac1c0002level0_row1\" class=\"row_heading level0 row1\" >2</th> \n",
       "        <td id=\"T_d11bbd3a_4617_11e9_b957_0242ac1c0002row1_col0\" class=\"data row1 col0\" ><img src=\"https://i.ytimg.com/vi/nR3pamVhIMk/default.jpg\"/></td> \n",
       "        <td id=\"T_d11bbd3a_4617_11e9_b957_0242ac1c0002row1_col1\" class=\"data row1 col1\" >Please stop this</td> \n",
       "        <td id=\"T_d11bbd3a_4617_11e9_b957_0242ac1c0002row1_col2\" class=\"data row1 col2\" >5,444,313</td> \n",
       "        <td id=\"T_d11bbd3a_4617_11e9_b957_0242ac1c0002row1_col3\" class=\"data row1 col3\" >Entertainment</td> \n",
       "        <td id=\"T_d11bbd3a_4617_11e9_b957_0242ac1c0002row1_col4\" class=\"data row1 col4\" >6.94%</td> \n",
       "        <td id=\"T_d11bbd3a_4617_11e9_b957_0242ac1c0002row1_col5\" class=\"data row1 col5\" >0.26%</td> \n",
       "        <td id=\"T_d11bbd3a_4617_11e9_b957_0242ac1c0002row1_col6\" class=\"data row1 col6\" >1.14%</td> \n",
       "        <td id=\"T_d11bbd3a_4617_11e9_b957_0242ac1c0002row1_col7\" class=\"data row1 col7\" >2019-03-12 17:41:17</td> \n",
       "    </tr>    <tr> \n",
       "        <th id=\"T_d11bbd3a_4617_11e9_b957_0242ac1c0002level0_row2\" class=\"row_heading level0 row2\" >3</th> \n",
       "        <td id=\"T_d11bbd3a_4617_11e9_b957_0242ac1c0002row2_col0\" class=\"data row2 col0\" ><img src=\"https://i.ytimg.com/vi/edQSVYcLWtY/default.jpg\"/></td> \n",
       "        <td id=\"T_d11bbd3a_4617_11e9_b957_0242ac1c0002row2_col1\" class=\"data row2 col1\" >A Message to Dr Phil Man.. (tik tok is also in this video)</td> \n",
       "        <td id=\"T_d11bbd3a_4617_11e9_b957_0242ac1c0002row2_col2\" class=\"data row2 col2\" >4,502,850</td> \n",
       "        <td id=\"T_d11bbd3a_4617_11e9_b957_0242ac1c0002row2_col3\" class=\"data row2 col3\" >Entertainment</td> \n",
       "        <td id=\"T_d11bbd3a_4617_11e9_b957_0242ac1c0002row2_col4\" class=\"data row2 col4\" >7.63%</td> \n",
       "        <td id=\"T_d11bbd3a_4617_11e9_b957_0242ac1c0002row2_col5\" class=\"data row2 col5\" >0.11%</td> \n",
       "        <td id=\"T_d11bbd3a_4617_11e9_b957_0242ac1c0002row2_col6\" class=\"data row2 col6\" >0.75%</td> \n",
       "        <td id=\"T_d11bbd3a_4617_11e9_b957_0242ac1c0002row2_col7\" class=\"data row2 col7\" >2019-03-11 18:59:43</td> \n",
       "    </tr>    <tr> \n",
       "        <th id=\"T_d11bbd3a_4617_11e9_b957_0242ac1c0002level0_row3\" class=\"row_heading level0 row3\" >4</th> \n",
       "        <td id=\"T_d11bbd3a_4617_11e9_b957_0242ac1c0002row3_col0\" class=\"data row3 col0\" ><img src=\"https://i.ytimg.com/vi/-ChqImO0brY/default.jpg\"/></td> \n",
       "        <td id=\"T_d11bbd3a_4617_11e9_b957_0242ac1c0002row3_col1\" class=\"data row3 col1\" >ALL HAIL CRAB KING</td> \n",
       "        <td id=\"T_d11bbd3a_4617_11e9_b957_0242ac1c0002row3_col2\" class=\"data row3 col2\" >4,177,338</td> \n",
       "        <td id=\"T_d11bbd3a_4617_11e9_b957_0242ac1c0002row3_col3\" class=\"data row3 col3\" >Gaming</td> \n",
       "        <td id=\"T_d11bbd3a_4617_11e9_b957_0242ac1c0002row3_col4\" class=\"data row3 col4\" >6.97%</td> \n",
       "        <td id=\"T_d11bbd3a_4617_11e9_b957_0242ac1c0002row3_col5\" class=\"data row3 col5\" >0.14%</td> \n",
       "        <td id=\"T_d11bbd3a_4617_11e9_b957_0242ac1c0002row3_col6\" class=\"data row3 col6\" >1.48%</td> \n",
       "        <td id=\"T_d11bbd3a_4617_11e9_b957_0242ac1c0002row3_col7\" class=\"data row3 col7\" >2019-03-10 20:27:07</td> \n",
       "    </tr>    <tr> \n",
       "        <th id=\"T_d11bbd3a_4617_11e9_b957_0242ac1c0002level0_row4\" class=\"row_heading level0 row4\" >5</th> \n",
       "        <td id=\"T_d11bbd3a_4617_11e9_b957_0242ac1c0002row4_col0\" class=\"data row4 col0\" ><img src=\"https://i.ytimg.com/vi/qov0ypksviU/default.jpg\"/></td> \n",
       "        <td id=\"T_d11bbd3a_4617_11e9_b957_0242ac1c0002row4_col1\" class=\"data row4 col1\" >What do Indians think of Tseries vs Pewdiepie?</td> \n",
       "        <td id=\"T_d11bbd3a_4617_11e9_b957_0242ac1c0002row4_col2\" class=\"data row4 col2\" >8,344,346</td> \n",
       "        <td id=\"T_d11bbd3a_4617_11e9_b957_0242ac1c0002row4_col3\" class=\"data row4 col3\" >Entertainment</td> \n",
       "        <td id=\"T_d11bbd3a_4617_11e9_b957_0242ac1c0002row4_col4\" class=\"data row4 col4\" >9.20%</td> \n",
       "        <td id=\"T_d11bbd3a_4617_11e9_b957_0242ac1c0002row4_col5\" class=\"data row4 col5\" >0.36%</td> \n",
       "        <td id=\"T_d11bbd3a_4617_11e9_b957_0242ac1c0002row4_col6\" class=\"data row4 col6\" >1.51%</td> \n",
       "        <td id=\"T_d11bbd3a_4617_11e9_b957_0242ac1c0002row4_col7\" class=\"data row4 col7\" >2019-03-09 19:07:39</td> \n",
       "    </tr></tbody> \n",
       "</table> "
      ],
      "text/plain": [
       "<IPython.core.display.HTML object>"
      ]
     },
     "metadata": {
      "tags": []
     },
     "output_type": "display_data"
    }
   ],
   "source": [
    "# Most recent\n",
    "data = df.sort_values('Published Date', ascending=False).head(5)\n",
    "data.index = np.arange(1, data.shape[0]+1)\n",
    "\n",
    "# Render table in html\n",
    "display(HTML(\n",
    "    data.style\n",
    "        .format({'View': '{:,}','Image':'<img src=\"{}\"/>',\n",
    "                '% Liked': '{:.2%}', '% Disliked': '{:.2%}', \n",
    "                '% Commented': '{:.2%}'})\n",
    "        .set_table_styles(styles)\n",
    "        .render()\n",
    "))"
   ]
  },
  {
   "cell_type": "markdown",
   "metadata": {
    "colab_type": "text",
    "id": "hYNrFpRKQgvi"
   },
   "source": [
    "### Video Statistics"
   ]
  },
  {
   "cell_type": "code",
   "execution_count": 20,
   "metadata": {
    "colab": {
     "base_uri": "https://localhost:8080/",
     "height": 297
    },
    "colab_type": "code",
    "id": "HxOJv92HQmXh",
    "outputId": "a2766e97-0010-4665-a64b-b461476abc7a"
   },
   "outputs": [
    {
     "data": {
      "text/html": [
       "<div>\n",
       "<style scoped>\n",
       "    .dataframe tbody tr th:only-of-type {\n",
       "        vertical-align: middle;\n",
       "    }\n",
       "\n",
       "    .dataframe tbody tr th {\n",
       "        vertical-align: top;\n",
       "    }\n",
       "\n",
       "    .dataframe thead th {\n",
       "        text-align: right;\n",
       "    }\n",
       "</style>\n",
       "<table border=\"1\" class=\"dataframe\">\n",
       "  <thead>\n",
       "    <tr style=\"text-align: right;\">\n",
       "      <th></th>\n",
       "      <th>duration</th>\n",
       "      <th>view</th>\n",
       "      <th>like</th>\n",
       "      <th>like_pct</th>\n",
       "      <th>dislike</th>\n",
       "      <th>dislike_pct</th>\n",
       "      <th>comment</th>\n",
       "      <th>comment_pct</th>\n",
       "      <th>age</th>\n",
       "    </tr>\n",
       "  </thead>\n",
       "  <tbody>\n",
       "    <tr>\n",
       "      <th>count</th>\n",
       "      <td>3764.000000</td>\n",
       "      <td>3.764000e+03</td>\n",
       "      <td>3.764000e+03</td>\n",
       "      <td>3764.000000</td>\n",
       "      <td>3.764000e+03</td>\n",
       "      <td>3764.000000</td>\n",
       "      <td>3.764000e+03</td>\n",
       "      <td>3764.000000</td>\n",
       "      <td>3764.000000</td>\n",
       "    </tr>\n",
       "    <tr>\n",
       "      <th>mean</th>\n",
       "      <td>14.141587</td>\n",
       "      <td>5.497897e+06</td>\n",
       "      <td>2.083837e+05</td>\n",
       "      <td>0.036705</td>\n",
       "      <td>5.686892e+03</td>\n",
       "      <td>0.000747</td>\n",
       "      <td>1.867355e+04</td>\n",
       "      <td>0.003726</td>\n",
       "      <td>1559.419501</td>\n",
       "    </tr>\n",
       "    <tr>\n",
       "      <th>std</th>\n",
       "      <td>17.500124</td>\n",
       "      <td>5.635239e+06</td>\n",
       "      <td>2.727243e+05</td>\n",
       "      <td>0.017620</td>\n",
       "      <td>6.908798e+04</td>\n",
       "      <td>0.004411</td>\n",
       "      <td>4.083859e+04</td>\n",
       "      <td>0.003833</td>\n",
       "      <td>778.486960</td>\n",
       "    </tr>\n",
       "    <tr>\n",
       "      <th>min</th>\n",
       "      <td>0.250000</td>\n",
       "      <td>5.436700e+04</td>\n",
       "      <td>1.395000e+03</td>\n",
       "      <td>0.002073</td>\n",
       "      <td>2.300000e+01</td>\n",
       "      <td>0.000086</td>\n",
       "      <td>0.000000e+00</td>\n",
       "      <td>0.000000</td>\n",
       "      <td>0.000000</td>\n",
       "    </tr>\n",
       "    <tr>\n",
       "      <th>25%</th>\n",
       "      <td>7.345833</td>\n",
       "      <td>2.707531e+06</td>\n",
       "      <td>7.162350e+04</td>\n",
       "      <td>0.024000</td>\n",
       "      <td>1.057750e+03</td>\n",
       "      <td>0.000301</td>\n",
       "      <td>3.102500e+03</td>\n",
       "      <td>0.001716</td>\n",
       "      <td>983.750000</td>\n",
       "    </tr>\n",
       "    <tr>\n",
       "      <th>50%</th>\n",
       "      <td>10.991667</td>\n",
       "      <td>4.512576e+06</td>\n",
       "      <td>1.615970e+05</td>\n",
       "      <td>0.033051</td>\n",
       "      <td>2.286500e+03</td>\n",
       "      <td>0.000452</td>\n",
       "      <td>1.151950e+04</td>\n",
       "      <td>0.003272</td>\n",
       "      <td>1599.500000</td>\n",
       "    </tr>\n",
       "    <tr>\n",
       "      <th>75%</th>\n",
       "      <td>14.683333</td>\n",
       "      <td>6.885562e+06</td>\n",
       "      <td>2.701308e+05</td>\n",
       "      <td>0.045837</td>\n",
       "      <td>4.590000e+03</td>\n",
       "      <td>0.000803</td>\n",
       "      <td>2.353175e+04</td>\n",
       "      <td>0.005047</td>\n",
       "      <td>2244.250000</td>\n",
       "    </tr>\n",
       "    <tr>\n",
       "      <th>max</th>\n",
       "      <td>451.466667</td>\n",
       "      <td>1.517664e+08</td>\n",
       "      <td>7.926357e+06</td>\n",
       "      <td>0.178059</td>\n",
       "      <td>4.023140e+06</td>\n",
       "      <td>0.245895</td>\n",
       "      <td>1.555193e+06</td>\n",
       "      <td>0.118879</td>\n",
       "      <td>3084.000000</td>\n",
       "    </tr>\n",
       "  </tbody>\n",
       "</table>\n",
       "</div>"
      ],
      "text/plain": [
       "          duration          view          like     like_pct       dislike  \\\n",
       "count  3764.000000  3.764000e+03  3.764000e+03  3764.000000  3.764000e+03   \n",
       "mean   14.141587    5.497897e+06  2.083837e+05  0.036705     5.686892e+03   \n",
       "std    17.500124    5.635239e+06  2.727243e+05  0.017620     6.908798e+04   \n",
       "min    0.250000     5.436700e+04  1.395000e+03  0.002073     2.300000e+01   \n",
       "25%    7.345833     2.707531e+06  7.162350e+04  0.024000     1.057750e+03   \n",
       "50%    10.991667    4.512576e+06  1.615970e+05  0.033051     2.286500e+03   \n",
       "75%    14.683333    6.885562e+06  2.701308e+05  0.045837     4.590000e+03   \n",
       "max    451.466667   1.517664e+08  7.926357e+06  0.178059     4.023140e+06   \n",
       "\n",
       "       dislike_pct       comment  comment_pct          age  \n",
       "count  3764.000000  3.764000e+03  3764.000000  3764.000000  \n",
       "mean   0.000747     1.867355e+04  0.003726     1559.419501  \n",
       "std    0.004411     4.083859e+04  0.003833     778.486960   \n",
       "min    0.000086     0.000000e+00  0.000000     0.000000     \n",
       "25%    0.000301     3.102500e+03  0.001716     983.750000   \n",
       "50%    0.000452     1.151950e+04  0.003272     1599.500000  \n",
       "75%    0.000803     2.353175e+04  0.005047     2244.250000  \n",
       "max    0.245895     1.555193e+06  0.118879     3084.000000  "
      ]
     },
     "execution_count": 20,
     "metadata": {
      "tags": []
     },
     "output_type": "execute_result"
    }
   ],
   "source": [
    "videos.describe()"
   ]
  },
  {
   "cell_type": "markdown",
   "metadata": {
    "colab_type": "text",
    "id": "_he8HSfUQ4CQ"
   },
   "source": [
    "### Distributions"
   ]
  },
  {
   "cell_type": "code",
   "execution_count": 21,
   "metadata": {
    "colab": {
     "base_uri": "https://localhost:8080/",
     "height": 725
    },
    "colab_type": "code",
    "id": "YKv6cAFGQ7l1",
    "outputId": "ad4865a0-ebeb-4edd-bb38-556c5eeb7728"
   },
   "outputs": [
    {
     "data": {
      "image/png": "[encoded data removed]",
      "text/plain": [
       "<Figure size 864x720 with 6 Axes>"
      ]
     },
     "metadata": {
      "tags": []
     },
     "output_type": "display_data"
    }
   ],
   "source": [
    "sns.set_style('whitegrid')\n",
    "\n",
    "e10_labels = ['1','10','100','1K','10K','100K','1M','10M','100M','1B','10B']\n",
    "\n",
    "# Subplots\n",
    "f, axes = plt.subplots(3,2, figsize=(12,10))\n",
    "kws=dict(edgecolor='white', linewidth=1)\n",
    "\n",
    "# View histogram\n",
    "ax = sns.distplot(np.log10(videos['view']+1), axlabel='View (log10)', \n",
    "                  kde=False, ax=axes[0,0], color='deepskyblue', hist_kws=kws)\n",
    "ax.set_title('View Distribution')\n",
    "ax.set_xticks(np.arange(5,9))\n",
    "ax.set_xticklabels(e10_labels[5:9])\n",
    "\n",
    "# Comment histogram\n",
    "ax = sns.distplot(np.log10(videos['comment']+1), axlabel='Comment (log10)', \n",
    "                  kde=False, ax=axes[0,1], color='orange', hist_kws=kws)\n",
    "ax.set_title('Comment Distribution')\n",
    "ax.set_xticks(np.arange(1,7))\n",
    "ax.set_xticklabels(e10_labels[1:7])\n",
    "\n",
    "# Like histogram\n",
    "ax = sns.distplot(np.log10(videos['like']+1), axlabel='Like (log10)', \n",
    "                  kde=False, ax=axes[1,0], color='green', hist_kws=kws)\n",
    "ax.set_title('Like Distribution')\n",
    "ax.set_xticks(np.arange(3,8))\n",
    "ax.set_xticklabels(e10_labels[3:8])\n",
    "\n",
    "# Dislike histogram\n",
    "ax = sns.distplot(np.log10(videos['dislike']+1), axlabel='Dislike (log10)', \n",
    "                  kde=False, ax=axes[1,1], color='red', hist_kws=kws)\n",
    "ax.set_title('Dislike Distribution')\n",
    "ax.set_xticks(np.arange(2,7))\n",
    "ax.set_xticklabels(e10_labels[2:7])\n",
    "\n",
    "# Duration histogram\n",
    "ax = sns.distplot(videos['duration'], axlabel='Duration (minute)', \n",
    "                  kde=False, ax=axes[2,0], color='purple', hist_kws=kws)\n",
    "ax.set_title('Video Duration Distribution')\n",
    "\n",
    "# Age histogram\n",
    "ax = sns.distplot(videos['age'], axlabel='Age (day)', \n",
    "                  kde=False, ax=axes[2,1], color='c', hist_kws=kws)\n",
    "ax.set_title('Video Aging Distribution')\n",
    "\n",
    "plt.tight_layout();"
   ]
  },
  {
   "cell_type": "code",
   "execution_count": 22,
   "metadata": {
    "colab": {
     "base_uri": "https://localhost:8080/",
     "height": 335
    },
    "colab_type": "code",
    "id": "DQfTcMcrScXZ",
    "outputId": "3bd1ba91-58c6-4169-fc2c-7fcaae3fa0a6"
   },
   "outputs": [
    {
     "data": {
      "image/png": "[encoded data removed]",
      "text/plain": [
       "<Figure size 360x360 with 1 Axes>"
      ]
     },
     "metadata": {
      "tags": []
     },
     "output_type": "display_data"
    }
   ],
   "source": [
    "plt.figure(figsize=(5,5))\n",
    "sns.boxplot(data=videos[['like_pct','dislike_pct','comment_pct']]*100)\n",
    "plt.title('Interaction rate per view')\n",
    "plt.yscale('log');"
   ]
  },
  {
   "cell_type": "code",
   "execution_count": null,
   "metadata": {
    "colab": {},
    "colab_type": "code",
    "id": "0BswhGlD0WmE"
   },
   "outputs": [],
   "source": []
  }
 ],
 "metadata": {
  "colab": {
   "name": "Youtube Channel Analysis.ipynb",
   "provenance": [],
   "toc_visible": true,
   "version": "0.3.2"
  },
  "kernelspec": {
   "display_name": "Python 3",
   "language": "python",
   "name": "python3"
  },
  "language_info": {
   "codemirror_mode": {
    "name": "ipython",
    "version": 3
   },
   "file_extension": ".py",
   "mimetype": "text/x-python",
   "name": "python",
   "nbconvert_exporter": "python",
   "pygments_lexer": "ipython3",
   "version": "3.7.2"
  }
 },
 "nbformat": 4,
 "nbformat_minor": 2
}
