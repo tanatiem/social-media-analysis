{
 "cells": [
  {
   "cell_type": "markdown",
   "metadata": {
    "colab_type": "text",
    "id": "hEzXnJYSSEBf"
   },
   "source": [
    "# Explore the official BNK48 Youtube Channel\n",
    "\n",
    "Explore a youtube channel using Youtube API\n",
    "\n",
    "- [Setup parameters](#Setup-Parameters)\n",
    "- [Creating a Youtube service client](#Creating-a-Youtube-service-client)\n",
    "- [Channel Information](#Channel-Information)\n",
    "- [Video Category Labels](#Video-Category-Labels)\n",
    "- [Retrieve all Video IDs from the channel](#Retrieve-all-Video-IDs-from-the-channel)\n",
    "- [Retrieve video information and statistics](#Retrieve-video-information-and-statistics)\n",
    "- [Data cleansing and processing](#Data-cleansing-and-processing)\n",
    "\n",
    "**Exploratory Data Analysis**\n",
    "- [Top 10 - Most viewed](#Top-10---Most-viewed)\n",
    "- [Top 10 - Most liked](#Top-10---Most-liked)\n",
    "- [Top 10 - Most disliked](#Top-10---Most-disliked)\n",
    "- [Top 10 - Most commented](#Top-10---Most-commented)\n",
    "- [Most recent videos](#Most-recent-videos)\n",
    "- [Video Statistics](#Video-Statistics)\n",
    "- [Distributions](#Distributions)"
   ]
  },
  {
   "cell_type": "code",
   "execution_count": 2,
   "metadata": {
    "colab": {},
    "colab_type": "code",
    "id": "xrpTduP6RwZf"
   },
   "outputs": [],
   "source": [
    "import pandas as pd\n",
    "import numpy as np\n",
    "import json\n",
    "import re\n",
    "from datetime import datetime\n",
    "\n",
    "from apiclient.discovery import build\n",
    "\n",
    "import matplotlib.pyplot as plt\n",
    "import seaborn as sns\n",
    "from IPython.core.display import display, HTML\n",
    "\n",
    "import warnings\n",
    "warnings.filterwarnings('ignore')"
   ]
  },
  {
   "cell_type": "code",
   "execution_count": 3,
   "metadata": {
    "colab": {},
    "colab_type": "code",
    "id": "_o0ai3PZOgOd"
   },
   "outputs": [],
   "source": [
    "# Uility functions\n",
    "\n",
    "def parse_date(datestring):\n",
    "    return datetime.strptime(datestring, \"%Y-%m-%dT%H:%M:%S.%fZ\")\n",
    "  \n",
    "def parse_duration(duration):\n",
    "    \"\"\" Return seconds from the duration string in iso8601 format\n",
    "        Simple conversion that does not cover the date parts of the ISO format\n",
    "    \"\"\"\n",
    "    m = re.search(r'(\\d+)H', duration)\n",
    "    dh = int(m.group(1)) if m else 0\n",
    "    \n",
    "    m = re.search(r'(\\d+)M', duration)\n",
    "    dm = int(m.group(1)) if m else 0\n",
    "    \n",
    "    m = re.search(r'(\\d+)S', duration)\n",
    "    ds = int(m.group(1)) if m else 0\n",
    "    \n",
    "    return dh*3600 + dm*60 + ds"
   ]
  },
  {
   "cell_type": "markdown",
   "metadata": {},
   "source": [
    "## Setup Parameters\n",
    "Youtube API Key and Channel Name"
   ]
  },
  {
   "cell_type": "code",
   "execution_count": 4,
   "metadata": {
    "colab": {},
    "colab_type": "code",
    "id": "5mbgKvsMTurq"
   },
   "outputs": [],
   "source": [
    "# Load Youtube API Key from config.json\n",
    "with open('./config.json') as f:\n",
    "    config = json.load(f)\n",
    "    \n",
    "api_key = config['youtube']['api_key'] # or your api key\n",
    "\n",
    "# channel_username = ''\n",
    "channel_id = 'UClIsaGq7vBEW00ASqwQyzPw'\n"
   ]
  },
  {
   "cell_type": "markdown",
   "metadata": {
    "colab_type": "text",
    "id": "m_V7vZR4RpfB"
   },
   "source": [
    "## Creating a Youtube service client"
   ]
  },
  {
   "cell_type": "code",
   "execution_count": 5,
   "metadata": {
    "colab": {},
    "colab_type": "code",
    "id": "WqrxBOuphgYl"
   },
   "outputs": [],
   "source": [
    "# Creating the client\n",
    "client = build('youtube', 'v3', developerKey=api_key)"
   ]
  },
  {
   "cell_type": "markdown",
   "metadata": {
    "colab_type": "text",
    "id": "HlyY7QI6Rzk9"
   },
   "source": [
    "## Channel Information\n",
    "Channel info can be retrieved using channel ID or Youtube username.\n",
    "\n",
    "**Reference:** https://developers.google.com/youtube/v3/docs/channels/list\n"
   ]
  },
  {
   "cell_type": "code",
   "execution_count": 6,
   "metadata": {
    "colab": {},
    "colab_type": "code",
    "id": "evYqP-bCR38d"
   },
   "outputs": [],
   "source": [
    "# api call: channel list\n",
    "res = client.channels().list(\n",
    "    part='snippet,contentDetails,statistics',\n",
    "#     forUsername=channel_username\n",
    "    id=channel_id\n",
    ").execute()\n",
    "#res"
   ]
  },
  {
   "cell_type": "code",
   "execution_count": 7,
   "metadata": {
    "colab": {
     "base_uri": "https://localhost:8080/",
     "height": 241
    },
    "colab_type": "code",
    "id": "mmi-_h7lOmit",
    "outputId": "58446253-58eb-406d-a617-53e5a2bd935c"
   },
   "outputs": [
    {
     "data": {
      "text/html": [
       "\n",
       "<table>\n",
       "<tr><td></td><td><img src=\"https://yt3.ggpht.com/a-/AAuE7mDHK5CYvgfH-CBdm-Azp1mtArRzWfMxY2bQEA=s88-mo-c-c0xffffffff-rj-k-no\"/></td></tr>\n",
       "<tr><td style=\"font-weight:bold\">Channel</td><td>BNK48</td></tr>\n",
       "<tr><td style=\"font-weight:bold\">Description</td><td>BNK48 Official YouTube Channel</td></tr>\n",
       "<tr><td style=\"font-weight:bold\">Published Date</td><td>Mar 16, 2016</td></tr>\n",
       "<tr><td style=\"font-weight:bold\">Subscribers</td><td>1,665,749</td></tr>\n",
       "<tr><td style=\"font-weight:bold\">Total View</td><td>349,150,461</td></tr>\n",
       "<tr><td style=\"font-weight:bold\">Videos</td><td>351</td></tr>\n",
       "</table>\n"
      ],
      "text/plain": [
       "<IPython.core.display.HTML object>"
      ]
     },
     "metadata": {},
     "output_type": "display_data"
    }
   ],
   "source": [
    "# extract channel informatio\n",
    "channel_id = res['items'][0]['id']\n",
    "  \n",
    "title = res['items'][0]['snippet']['title']\n",
    "description = res['items'][0]['snippet']['description']\n",
    "publishedAt = parse_date(res['items'][0]['snippet']['publishedAt'])\n",
    "imgurl = res['items'][0]['snippet']['thumbnails']['default']['url']\n",
    "region = res['items'][0]['snippet']['country']\n",
    "\n",
    "all_playlist_id = res['items'][0]['contentDetails']['relatedPlaylists']['uploads']\n",
    "\n",
    "viewCount = int(res['items'][0]['statistics']['viewCount'])\n",
    "subscriberCount = int(res['items'][0]['statistics']['subscriberCount'])\n",
    "videoCount = int(res['items'][0]['statistics']['videoCount'])\n",
    "\n",
    "# display channel information\n",
    "html = \"\"\"\n",
    "<table>\n",
    "<tr><td></td><td><img src=\"{0}\"/></td></tr>\n",
    "<tr><td style=\"font-weight:bold\">Channel</td><td>{1}</td></tr>\n",
    "<tr><td style=\"font-weight:bold\">Description</td><td>{2}</td></tr>\n",
    "<tr><td style=\"font-weight:bold\">Published Date</td><td>{3}</td></tr>\n",
    "<tr><td style=\"font-weight:bold\">Subscribers</td><td>{4:,}</td></tr>\n",
    "<tr><td style=\"font-weight:bold\">Total View</td><td>{5:,}</td></tr>\n",
    "<tr><td style=\"font-weight:bold\">Videos</td><td>{6:,}</td></tr>\n",
    "</table>\n",
    "\"\"\".format(imgurl, title, description, datetime.strftime(publishedAt, '%b %d, %Y'), \n",
    "           subscriberCount, viewCount, videoCount)\n",
    "\n",
    "display(HTML(html))"
   ]
  },
  {
   "cell_type": "markdown",
   "metadata": {
    "colab_type": "text",
    "id": "YvCoyG7lPN1j"
   },
   "source": [
    "\n",
    "## Video Category Labels\n",
    "Video category id & title mapping\n",
    "\n",
    "**Reference:** https://developers.google.com/youtube/v3/docs/videoCategories/list"
   ]
  },
  {
   "cell_type": "code",
   "execution_count": 8,
   "metadata": {
    "colab": {
     "base_uri": "https://localhost:8080/",
     "height": 593
    },
    "colab_type": "code",
    "id": "8CjcZ2pbHItn",
    "outputId": "8ff1a162-883c-442b-a651-3df353299419"
   },
   "outputs": [
    {
     "data": {
      "text/plain": [
       "{'1': 'Film & Animation',\n",
       " '2': 'Autos & Vehicles',\n",
       " '10': 'Music',\n",
       " '15': 'Pets & Animals',\n",
       " '17': 'Sports',\n",
       " '18': 'Short Movies',\n",
       " '19': 'Travel & Events',\n",
       " '20': 'Gaming',\n",
       " '21': 'Videoblogging',\n",
       " '22': 'People & Blogs',\n",
       " '23': 'Comedy',\n",
       " '24': 'Entertainment',\n",
       " '25': 'News & Politics',\n",
       " '26': 'Howto & Style',\n",
       " '27': 'Education',\n",
       " '28': 'Science & Technology',\n",
       " '30': 'Movies',\n",
       " '31': 'Anime/Animation',\n",
       " '32': 'Action/Adventure',\n",
       " '33': 'Classics',\n",
       " '34': 'Comedy',\n",
       " '35': 'Documentary',\n",
       " '36': 'Drama',\n",
       " '37': 'Family',\n",
       " '38': 'Foreign',\n",
       " '39': 'Horror',\n",
       " '40': 'Sci-Fi/Fantasy',\n",
       " '41': 'Thriller',\n",
       " '42': 'Shorts',\n",
       " '43': 'Shows',\n",
       " '44': 'Trailers'}"
      ]
     },
     "execution_count": 8,
     "metadata": {},
     "output_type": "execute_result"
    }
   ],
   "source": [
    "res = client.videoCategories().list(part='snippet', regionCode=region).execute()\n",
    "categories = {}\n",
    "for item in res['items']:\n",
    "    categories[item['id']] = item['snippet']['title']\n",
    "categories\n"
   ]
  },
  {
   "cell_type": "markdown",
   "metadata": {
    "colab_type": "text",
    "id": "BLLA_3XLQP_e"
   },
   "source": [
    "## Retrieve all Video IDs from the channel\n",
    "\n",
    "You can get the list of all video ids of a channel by getting the playlist items of the 'uploads' playlist previously retrieved from the channel info\n",
    "\n",
    "**Reference:** https://developers.google.com/youtube/v3/docs/playlistItems/list"
   ]
  },
  {
   "cell_type": "code",
   "execution_count": 9,
   "metadata": {
    "colab": {
     "base_uri": "https://localhost:8080/",
     "height": 35
    },
    "colab_type": "code",
    "id": "5DqZOaOpPnCw",
    "outputId": "16edb872-e23e-4bec-84a8-339a7b98e6aa"
   },
   "outputs": [
    {
     "name": "stdout",
     "output_type": "stream",
     "text": [
      "Video count: 351\n"
     ]
    }
   ],
   "source": [
    "def get_youtube_items(resource, part, **kwargs):\n",
    "    \"\"\" \n",
    "    Call list() method of the designated resource param (e.g. playlistItems(), videos(), etc.)\n",
    "    Then iterate through the entire paginated result set using pageToken parameter.\n",
    "    Extract and accumulate the content inside the 'items' key.\n",
    "    \"\"\"\n",
    "    res = resource.list(part=part, maxResults=50, **kwargs).execute()\n",
    "    items = res['items']\n",
    "    nextPageToken = res.get('nextPageToken','')\n",
    "    while nextPageToken:\n",
    "        res = resource.list(part=part, maxResults=50, \n",
    "                            pageToken=nextPageToken, **kwargs).execute()\n",
    "        items = items + res['items']\n",
    "        nextPageToken = res.get('nextPageToken','')\n",
    "    return items\n",
    "  \n",
    "\n",
    "## Retrieve playlist items from the 'uploads' playlist\n",
    "items = get_youtube_items(client.playlistItems(), part='snippet', playlistId=all_playlist_id)\n",
    "print('Video count: {}'.format(len(items)))"
   ]
  },
  {
   "cell_type": "code",
   "execution_count": 10,
   "metadata": {
    "colab": {},
    "colab_type": "code",
    "id": "FDgm2jWtQr6I"
   },
   "outputs": [],
   "source": [
    "# get video id list\n",
    "video_ids = []\n",
    "\n",
    "for item in items:\n",
    "    video_ids.append(item['snippet']['resourceId']['videoId'])"
   ]
  },
  {
   "cell_type": "markdown",
   "metadata": {
    "colab_type": "text",
    "id": "axMf6T0QQ-12"
   },
   "source": [
    "## Retrieve video information and statistics\n",
    "We'll pass multiple video ids to get their info and statistics through videos().list() instead of calling it individually to reduce the consumption of API quota.\n",
    "\n",
    "**Reference:** https://developers.google.com/youtube/v3/docs/videos/list"
   ]
  },
  {
   "cell_type": "code",
   "execution_count": 11,
   "metadata": {
    "colab": {
     "base_uri": "https://localhost:8080/",
     "height": 35
    },
    "colab_type": "code",
    "id": "O6D0apceRGkP",
    "outputId": "7f1804a8-7ebe-4313-be57-ffee6b3c9ae2"
   },
   "outputs": [
    {
     "name": "stdout",
     "output_type": "stream",
     "text": [
      "Video info retreived: 351\n"
     ]
    }
   ],
   "source": [
    "BATCH_SIZE = 35\n",
    "\n",
    "items = []\n",
    "curr_idx = 0\n",
    "\n",
    "# Get video info in batch\n",
    "while curr_idx <= len(video_ids):\n",
    "    ids = ','.join(video_ids[curr_idx:curr_idx+BATCH_SIZE])\n",
    "\n",
    "    res = client.videos().list(\n",
    "        part='snippet,contentDetails,statistics',\n",
    "        id=ids\n",
    "    ).execute()\n",
    "    items = items + res['items']\n",
    "    curr_idx = curr_idx + BATCH_SIZE\n",
    "\n",
    "print('Video info retreived: {}'.format(len(items)))"
   ]
  },
  {
   "cell_type": "code",
   "execution_count": 12,
   "metadata": {
    "colab": {
     "base_uri": "https://localhost:8080/",
     "height": 323
    },
    "colab_type": "code",
    "id": "y6GbHKvSSTjy",
    "outputId": "68db6144-ac99-4a7d-e3c2-bffb42e1f1fd"
   },
   "outputs": [
    {
     "name": "stdout",
     "output_type": "stream",
     "text": [
      "<class 'pandas.core.frame.DataFrame'>\n",
      "RangeIndex: 351 entries, 0 to 350\n",
      "Data columns (total 12 columns):\n",
      "categoryId       351 non-null object\n",
      "comment          351 non-null object\n",
      "description      351 non-null object\n",
      "dislike          351 non-null object\n",
      "duration         351 non-null object\n",
      "id               351 non-null object\n",
      "image            351 non-null object\n",
      "like             351 non-null object\n",
      "publishedDate    351 non-null object\n",
      "tags             322 non-null object\n",
      "title            351 non-null object\n",
      "view             351 non-null object\n",
      "dtypes: object(12)\n",
      "memory usage: 33.0+ KB\n"
     ]
    }
   ],
   "source": [
    "videos = []\n",
    "for v in items:\n",
    "    videos.append({\n",
    "        'id': v['id'],\n",
    "        'title': v['snippet'].get('title', np.nan),\n",
    "        'description': v['snippet'].get('description', np.nan),\n",
    "        'publishedDate': v['snippet'].get('publishedAt', np.nan),\n",
    "        'image': v['snippet']['thumbnails']['default']['url'],\n",
    "        'tags': v['snippet'].get('tags', np.nan),\n",
    "        'categoryId': v['snippet'].get('categoryId', np.nan),\n",
    "#         'liveBroadcastContent': v['snippet'].get('liveBroadcastContent',np.nan),\n",
    "        \n",
    "        'duration': v['contentDetails'].get('duration', np.nan),\n",
    "#         'licensedContent': v['contentDetails'].get('licensedContent',np.nan),\n",
    "                \n",
    "        'view': v['statistics'].get('viewCount', np.nan),\n",
    "        'like': v['statistics'].get('likeCount', np.nan),\n",
    "        'dislike': v['statistics'].get('dislikeCount', np.nan),\n",
    "        'comment': v['statistics'].get('commentCount', np.nan)\n",
    "        \n",
    "    })\n",
    "\n",
    "videos = pd.DataFrame(videos)\n",
    "videos.info()"
   ]
  },
  {
   "cell_type": "markdown",
   "metadata": {
    "colab_type": "text",
    "id": "PqRZVt1E0VAB"
   },
   "source": [
    "## Data cleansing and processing"
   ]
  },
  {
   "cell_type": "code",
   "execution_count": 13,
   "metadata": {
    "colab": {
     "base_uri": "https://localhost:8080/",
     "height": 251
    },
    "colab_type": "code",
    "id": "sh65GmU3nUgk",
    "outputId": "8cc3007b-e0f8-4819-de7d-a504e7b93d4e"
   },
   "outputs": [
    {
     "data": {
      "text/plain": [
       "categoryId        0\n",
       "comment           0\n",
       "description       0\n",
       "dislike           0\n",
       "duration          0\n",
       "id                0\n",
       "image             0\n",
       "like              0\n",
       "publishedDate     0\n",
       "tags             29\n",
       "title             0\n",
       "view              0\n",
       "dtype: int64"
      ]
     },
     "execution_count": 13,
     "metadata": {},
     "output_type": "execute_result"
    }
   ],
   "source": [
    "videos = videos[~videos['view'].isnull()]\n",
    "videos.isnull().sum()"
   ]
  },
  {
   "cell_type": "code",
   "execution_count": 14,
   "metadata": {
    "colab": {
     "base_uri": "https://localhost:8080/",
     "height": 413
    },
    "colab_type": "code",
    "id": "DQMeGZj6myWE",
    "outputId": "74014ebc-7a7c-4c54-9dc3-23bc83ca5115"
   },
   "outputs": [
    {
     "name": "stdout",
     "output_type": "stream",
     "text": [
      "<class 'pandas.core.frame.DataFrame'>\n",
      "Int64Index: 351 entries, 0 to 350\n",
      "Data columns (total 17 columns):\n",
      "id                 351 non-null object\n",
      "title              351 non-null object\n",
      "description        351 non-null object\n",
      "image              351 non-null object\n",
      "category           351 non-null object\n",
      "publishedDate      351 non-null datetime64[ns]\n",
      "duration           351 non-null float64\n",
      "view               351 non-null int32\n",
      "like               351 non-null int32\n",
      "like_pct           351 non-null float64\n",
      "dislike            351 non-null int32\n",
      "dislike_pct        351 non-null float64\n",
      "comment            351 non-null int32\n",
      "comment_allowed    351 non-null bool\n",
      "comment_pct        351 non-null float64\n",
      "age                351 non-null int64\n",
      "tags               322 non-null object\n",
      "dtypes: bool(1), datetime64[ns](1), float64(4), int32(4), int64(1), object(6)\n",
      "memory usage: 41.5+ KB\n"
     ]
    }
   ],
   "source": [
    "# Transform\n",
    "videos = videos.assign(\n",
    "          title=videos['title'].str.strip(),\n",
    "          description=videos['description'].str.strip(),\n",
    "\n",
    "          # mapping category titles\n",
    "          category=videos['categoryId'].map(categories),\n",
    "    \n",
    "          # duration in minute\n",
    "          duration=videos['duration'].apply(parse_duration)/60,\n",
    "    \n",
    "          # type conversions\n",
    "          view=videos['view'].astype(int, errors='ignore'),\n",
    "          like=videos['like'].astype(int, errors='ignore'),\n",
    "          dislike=videos['dislike'].astype(int, errors='ignore'),\n",
    "    \n",
    "          publishedDate=videos['publishedDate'].apply(parse_date)\n",
    ")\n",
    "\n",
    "videos['comment_allowed'] = ~videos['comment'].isnull()\n",
    "videos['comment'] = videos['comment'].fillna(0)\n",
    "videos['comment'] = videos['comment'].astype(int)\n",
    "\n",
    "videos['like_pct'] = videos['like']/videos['view']\n",
    "videos['dislike_pct'] = videos['dislike']/videos['view']\n",
    "videos['comment_pct'] = videos['comment']/videos['view']\n",
    "\n",
    "now = datetime.now()\n",
    "videos['age'] = videos['publishedDate'].apply(lambda x: (now - x).days)\n",
    "\n",
    "videos.to_csv('videos.csv', encoding='utf-8', index=False)\n",
    "\n",
    "\n",
    "cols = ['id','title','description','image','category','publishedDate','duration', \n",
    " 'view','like','like_pct','dislike','dislike_pct',\n",
    " 'comment','comment_allowed','comment_pct','age','tags'\n",
    "]\n",
    "videos = videos[cols]\n",
    "videos.info()"
   ]
  },
  {
   "cell_type": "code",
   "execution_count": 15,
   "metadata": {
    "colab": {},
    "colab_type": "code",
    "id": "m-2KVqX0vfN-"
   },
   "outputs": [],
   "source": [
    "videos.to_csv('output/bnk48_videos.csv', encoding='utf-8', index=False)"
   ]
  },
  {
   "cell_type": "markdown",
   "metadata": {
    "colab_type": "text",
    "id": "_16KlTIzPOIA"
   },
   "source": [
    "## Exploratory Data Analysis"
   ]
  },
  {
   "cell_type": "markdown",
   "metadata": {
    "colab_type": "text",
    "id": "685eZBcxPESP"
   },
   "source": [
    "### Top 10 - Most viewed"
   ]
  },
  {
   "cell_type": "code",
   "execution_count": 16,
   "metadata": {
    "colab": {
     "base_uri": "https://localhost:8080/",
     "height": 856
    },
    "colab_type": "code",
    "id": "b_LA5FsGsoja",
    "outputId": "b20569a0-7284-400b-9704-19b9a3a3a500"
   },
   "outputs": [
    {
     "data": {
      "text/html": [
       "<style  type=\"text/css\" >\n",
       "    #T_d08c7650_4638_11e9_bcf8_a479cec1d1ad th {\n",
       "          padding: 4px 4px;\n",
       "          font-weight: bold;\n",
       "          color: #6d6d6d;\n",
       "          background-color: #f7f7f9;\n",
       "    }    #T_d08c7650_4638_11e9_bcf8_a479cec1d1ad td {\n",
       "          padding: 2px 4px;\n",
       "          font-size: smaller;\n",
       "    }    #T_d08c7650_4638_11e9_bcf8_a479cec1d1ad img {\n",
       "          width: auto;\n",
       "          height: 80%;\n",
       "    }    #T_d08c7650_4638_11e9_bcf8_a479cec1d1ad tr:nth-child(even) {\n",
       "          background: #f7f7f9;\n",
       "    }</style><table id=\"T_d08c7650_4638_11e9_bcf8_a479cec1d1ad\" ><thead>    <tr>        <th class=\"blank level0\" ></th>        <th class=\"col_heading level0 col0\" >Image</th>        <th class=\"col_heading level0 col1\" >Title</th>        <th class=\"col_heading level0 col2\" >View</th>        <th class=\"col_heading level0 col3\" >Category</th>        <th class=\"col_heading level0 col4\" >% Liked</th>        <th class=\"col_heading level0 col5\" >% Disliked</th>        <th class=\"col_heading level0 col6\" >% Commented</th>        <th class=\"col_heading level0 col7\" >Published Date</th>    </tr></thead><tbody>\n",
       "                <tr>\n",
       "                        <th id=\"T_d08c7650_4638_11e9_bcf8_a479cec1d1adlevel0_row0\" class=\"row_heading level0 row0\" >1</th>\n",
       "                        <td id=\"T_d08c7650_4638_11e9_bcf8_a479cec1d1adrow0_col0\" class=\"data row0 col0\" ><img src=\"https://i.ytimg.com/vi/mfqJyKm20Z4/default.jpg\"/></td>\n",
       "                        <td id=\"T_d08c7650_4638_11e9_bcf8_a479cec1d1adrow0_col1\" class=\"data row0 col1\" >【MV Full】Koisuru Fortune Cookie คุกกี้เสี่ยงทาย / BNK48</td>\n",
       "                        <td id=\"T_d08c7650_4638_11e9_bcf8_a479cec1d1adrow0_col2\" class=\"data row0 col2\" >167,097,282</td>\n",
       "                        <td id=\"T_d08c7650_4638_11e9_bcf8_a479cec1d1adrow0_col3\" class=\"data row0 col3\" >Music</td>\n",
       "                        <td id=\"T_d08c7650_4638_11e9_bcf8_a479cec1d1adrow0_col4\" class=\"data row0 col4\" >0.43%</td>\n",
       "                        <td id=\"T_d08c7650_4638_11e9_bcf8_a479cec1d1adrow0_col5\" class=\"data row0 col5\" >0.04%</td>\n",
       "                        <td id=\"T_d08c7650_4638_11e9_bcf8_a479cec1d1adrow0_col6\" class=\"data row0 col6\" >0.08%</td>\n",
       "                        <td id=\"T_d08c7650_4638_11e9_bcf8_a479cec1d1adrow0_col7\" class=\"data row0 col7\" >2017-11-18 11:11:15</td>\n",
       "            </tr>\n",
       "            <tr>\n",
       "                        <th id=\"T_d08c7650_4638_11e9_bcf8_a479cec1d1adlevel0_row1\" class=\"row_heading level0 row1\" >2</th>\n",
       "                        <td id=\"T_d08c7650_4638_11e9_bcf8_a479cec1d1adrow1_col0\" class=\"data row1 col0\" ><img src=\"https://i.ytimg.com/vi/4TKCbe8jyRI/default.jpg\"/></td>\n",
       "                        <td id=\"T_d08c7650_4638_11e9_bcf8_a479cec1d1adrow1_col1\" class=\"data row1 col1\" >【MV Full】RIVER / BNK48</td>\n",
       "                        <td id=\"T_d08c7650_4638_11e9_bcf8_a479cec1d1adrow1_col2\" class=\"data row1 col2\" >18,876,520</td>\n",
       "                        <td id=\"T_d08c7650_4638_11e9_bcf8_a479cec1d1adrow1_col3\" class=\"data row1 col3\" >Music</td>\n",
       "                        <td id=\"T_d08c7650_4638_11e9_bcf8_a479cec1d1adrow1_col4\" class=\"data row1 col4\" >1.31%</td>\n",
       "                        <td id=\"T_d08c7650_4638_11e9_bcf8_a479cec1d1adrow1_col5\" class=\"data row1 col5\" >0.08%</td>\n",
       "                        <td id=\"T_d08c7650_4638_11e9_bcf8_a479cec1d1adrow1_col6\" class=\"data row1 col6\" >0.26%</td>\n",
       "                        <td id=\"T_d08c7650_4638_11e9_bcf8_a479cec1d1adrow1_col7\" class=\"data row1 col7\" >2018-04-30 15:00:00</td>\n",
       "            </tr>\n",
       "            <tr>\n",
       "                        <th id=\"T_d08c7650_4638_11e9_bcf8_a479cec1d1adlevel0_row2\" class=\"row_heading level0 row2\" >3</th>\n",
       "                        <td id=\"T_d08c7650_4638_11e9_bcf8_a479cec1d1adrow2_col0\" class=\"data row2 col0\" ><img src=\"https://i.ytimg.com/vi/iByxlVvWrww/default.jpg\"/></td>\n",
       "                        <td id=\"T_d08c7650_4638_11e9_bcf8_a479cec1d1adrow2_col1\" class=\"data row2 col1\" >【MV Full】Kimi wa Melody เธอคือ…เมโลดี้ / BNK48</td>\n",
       "                        <td id=\"T_d08c7650_4638_11e9_bcf8_a479cec1d1adrow2_col2\" class=\"data row2 col2\" >18,417,560</td>\n",
       "                        <td id=\"T_d08c7650_4638_11e9_bcf8_a479cec1d1adrow2_col3\" class=\"data row2 col3\" >Music</td>\n",
       "                        <td id=\"T_d08c7650_4638_11e9_bcf8_a479cec1d1adrow2_col4\" class=\"data row2 col4\" >1.43%</td>\n",
       "                        <td id=\"T_d08c7650_4638_11e9_bcf8_a479cec1d1adrow2_col5\" class=\"data row2 col5\" >0.05%</td>\n",
       "                        <td id=\"T_d08c7650_4638_11e9_bcf8_a479cec1d1adrow2_col6\" class=\"data row2 col6\" >0.24%</td>\n",
       "                        <td id=\"T_d08c7650_4638_11e9_bcf8_a479cec1d1adrow2_col7\" class=\"data row2 col7\" >2018-09-15 15:00:04</td>\n",
       "            </tr>\n",
       "            <tr>\n",
       "                        <th id=\"T_d08c7650_4638_11e9_bcf8_a479cec1d1adlevel0_row3\" class=\"row_heading level0 row3\" >4</th>\n",
       "                        <td id=\"T_d08c7650_4638_11e9_bcf8_a479cec1d1adrow3_col0\" class=\"data row3 col0\" ><img src=\"https://i.ytimg.com/vi/A2VrbwgWjT0/default.jpg\"/></td>\n",
       "                        <td id=\"T_d08c7650_4638_11e9_bcf8_a479cec1d1adrow3_col1\" class=\"data row3 col1\" >【MV Full】Tsugi no Season ฤดูใหม่ / BNK48</td>\n",
       "                        <td id=\"T_d08c7650_4638_11e9_bcf8_a479cec1d1adrow3_col2\" class=\"data row3 col2\" >15,156,573</td>\n",
       "                        <td id=\"T_d08c7650_4638_11e9_bcf8_a479cec1d1adrow3_col3\" class=\"data row3 col3\" >Music</td>\n",
       "                        <td id=\"T_d08c7650_4638_11e9_bcf8_a479cec1d1adrow3_col4\" class=\"data row3 col4\" >1.22%</td>\n",
       "                        <td id=\"T_d08c7650_4638_11e9_bcf8_a479cec1d1adrow3_col5\" class=\"data row3 col5\" >0.06%</td>\n",
       "                        <td id=\"T_d08c7650_4638_11e9_bcf8_a479cec1d1adrow3_col6\" class=\"data row3 col6\" >0.21%</td>\n",
       "                        <td id=\"T_d08c7650_4638_11e9_bcf8_a479cec1d1adrow3_col7\" class=\"data row3 col7\" >2018-08-03 13:00:00</td>\n",
       "            </tr>\n",
       "            <tr>\n",
       "                        <th id=\"T_d08c7650_4638_11e9_bcf8_a479cec1d1adlevel0_row4\" class=\"row_heading level0 row4\" >5</th>\n",
       "                        <td id=\"T_d08c7650_4638_11e9_bcf8_a479cec1d1adrow4_col0\" class=\"data row4 col0\" ><img src=\"https://i.ytimg.com/vi/IMx1ojx2fiE/default.jpg\"/></td>\n",
       "                        <td id=\"T_d08c7650_4638_11e9_bcf8_a479cec1d1adrow4_col1\" class=\"data row4 col1\" >【MV Full】Shonichi วันแรก / BNK48</td>\n",
       "                        <td id=\"T_d08c7650_4638_11e9_bcf8_a479cec1d1adrow4_col2\" class=\"data row4 col2\" >10,517,511</td>\n",
       "                        <td id=\"T_d08c7650_4638_11e9_bcf8_a479cec1d1adrow4_col3\" class=\"data row4 col3\" >Music</td>\n",
       "                        <td id=\"T_d08c7650_4638_11e9_bcf8_a479cec1d1adrow4_col4\" class=\"data row4 col4\" >1.44%</td>\n",
       "                        <td id=\"T_d08c7650_4638_11e9_bcf8_a479cec1d1adrow4_col5\" class=\"data row4 col5\" >0.05%</td>\n",
       "                        <td id=\"T_d08c7650_4638_11e9_bcf8_a479cec1d1adrow4_col6\" class=\"data row4 col6\" >0.15%</td>\n",
       "                        <td id=\"T_d08c7650_4638_11e9_bcf8_a479cec1d1adrow4_col7\" class=\"data row4 col7\" >2018-04-10 02:00:00</td>\n",
       "            </tr>\n",
       "            <tr>\n",
       "                        <th id=\"T_d08c7650_4638_11e9_bcf8_a479cec1d1adlevel0_row5\" class=\"row_heading level0 row5\" >6</th>\n",
       "                        <td id=\"T_d08c7650_4638_11e9_bcf8_a479cec1d1adrow5_col0\" class=\"data row5 col0\" ><img src=\"https://i.ytimg.com/vi/mo4l8f_VZXo/default.jpg\"/></td>\n",
       "                        <td id=\"T_d08c7650_4638_11e9_bcf8_a479cec1d1adrow5_col1\" class=\"data row5 col1\" >【MV Full】BNK Festival / BNK48</td>\n",
       "                        <td id=\"T_d08c7650_4638_11e9_bcf8_a479cec1d1adrow5_col2\" class=\"data row5 col2\" >5,674,765</td>\n",
       "                        <td id=\"T_d08c7650_4638_11e9_bcf8_a479cec1d1adrow5_col3\" class=\"data row5 col3\" >Music</td>\n",
       "                        <td id=\"T_d08c7650_4638_11e9_bcf8_a479cec1d1adrow5_col4\" class=\"data row5 col4\" >2.37%</td>\n",
       "                        <td id=\"T_d08c7650_4638_11e9_bcf8_a479cec1d1adrow5_col5\" class=\"data row5 col5\" >0.10%</td>\n",
       "                        <td id=\"T_d08c7650_4638_11e9_bcf8_a479cec1d1adrow5_col6\" class=\"data row5 col6\" >0.36%</td>\n",
       "                        <td id=\"T_d08c7650_4638_11e9_bcf8_a479cec1d1adrow5_col7\" class=\"data row5 col7\" >2018-11-22 13:00:05</td>\n",
       "            </tr>\n",
       "            <tr>\n",
       "                        <th id=\"T_d08c7650_4638_11e9_bcf8_a479cec1d1adlevel0_row6\" class=\"row_heading level0 row6\" >7</th>\n",
       "                        <td id=\"T_d08c7650_4638_11e9_bcf8_a479cec1d1adrow6_col0\" class=\"data row6 col0\" ><img src=\"https://i.ytimg.com/vi/awJd6vaaZlc/default.jpg\"/></td>\n",
       "                        <td id=\"T_d08c7650_4638_11e9_bcf8_a479cec1d1adrow6_col1\" class=\"data row6 col1\" >【MV Full】Anata to Christmas Eve คำสัญญาแห่งคริสต์มาสอีฟ / BNK48</td>\n",
       "                        <td id=\"T_d08c7650_4638_11e9_bcf8_a479cec1d1adrow6_col2\" class=\"data row6 col2\" >4,775,085</td>\n",
       "                        <td id=\"T_d08c7650_4638_11e9_bcf8_a479cec1d1adrow6_col3\" class=\"data row6 col3\" >Music</td>\n",
       "                        <td id=\"T_d08c7650_4638_11e9_bcf8_a479cec1d1adrow6_col4\" class=\"data row6 col4\" >1.72%</td>\n",
       "                        <td id=\"T_d08c7650_4638_11e9_bcf8_a479cec1d1adrow6_col5\" class=\"data row6 col5\" >0.05%</td>\n",
       "                        <td id=\"T_d08c7650_4638_11e9_bcf8_a479cec1d1adrow6_col6\" class=\"data row6 col6\" >0.26%</td>\n",
       "                        <td id=\"T_d08c7650_4638_11e9_bcf8_a479cec1d1adrow6_col7\" class=\"data row6 col7\" >2018-02-26 12:34:44</td>\n",
       "            </tr>\n",
       "            <tr>\n",
       "                        <th id=\"T_d08c7650_4638_11e9_bcf8_a479cec1d1adlevel0_row7\" class=\"row_heading level0 row7\" >8</th>\n",
       "                        <td id=\"T_d08c7650_4638_11e9_bcf8_a479cec1d1adrow7_col0\" class=\"data row7 col0\" ><img src=\"https://i.ytimg.com/vi/IptefJ9C4PY/default.jpg\"/></td>\n",
       "                        <td id=\"T_d08c7650_4638_11e9_bcf8_a479cec1d1adrow7_col1\" class=\"data row7 col1\" >【MV Full】Beginner / BNK48</td>\n",
       "                        <td id=\"T_d08c7650_4638_11e9_bcf8_a479cec1d1adrow7_col2\" class=\"data row7 col2\" >3,351,249</td>\n",
       "                        <td id=\"T_d08c7650_4638_11e9_bcf8_a479cec1d1adrow7_col3\" class=\"data row7 col3\" >Music</td>\n",
       "                        <td id=\"T_d08c7650_4638_11e9_bcf8_a479cec1d1adrow7_col4\" class=\"data row7 col4\" >4.24%</td>\n",
       "                        <td id=\"T_d08c7650_4638_11e9_bcf8_a479cec1d1adrow7_col5\" class=\"data row7 col5\" >0.19%</td>\n",
       "                        <td id=\"T_d08c7650_4638_11e9_bcf8_a479cec1d1adrow7_col6\" class=\"data row7 col6\" >0.80%</td>\n",
       "                        <td id=\"T_d08c7650_4638_11e9_bcf8_a479cec1d1adrow7_col7\" class=\"data row7 col7\" >2019-03-02 15:00:03</td>\n",
       "            </tr>\n",
       "            <tr>\n",
       "                        <th id=\"T_d08c7650_4638_11e9_bcf8_a479cec1d1adlevel0_row8\" class=\"row_heading level0 row8\" >9</th>\n",
       "                        <td id=\"T_d08c7650_4638_11e9_bcf8_a479cec1d1adrow8_col0\" class=\"data row8 col0\" ><img src=\"https://i.ytimg.com/vi/V5TO16lS-iM/default.jpg\"/></td>\n",
       "                        <td id=\"T_d08c7650_4638_11e9_bcf8_a479cec1d1adrow8_col1\" class=\"data row8 col1\" >【Audio Full】Shonichi วันแรก / BNK48</td>\n",
       "                        <td id=\"T_d08c7650_4638_11e9_bcf8_a479cec1d1adrow8_col2\" class=\"data row8 col2\" >3,160,224</td>\n",
       "                        <td id=\"T_d08c7650_4638_11e9_bcf8_a479cec1d1adrow8_col3\" class=\"data row8 col3\" >Music</td>\n",
       "                        <td id=\"T_d08c7650_4638_11e9_bcf8_a479cec1d1adrow8_col4\" class=\"data row8 col4\" >1.45%</td>\n",
       "                        <td id=\"T_d08c7650_4638_11e9_bcf8_a479cec1d1adrow8_col5\" class=\"data row8 col5\" >0.03%</td>\n",
       "                        <td id=\"T_d08c7650_4638_11e9_bcf8_a479cec1d1adrow8_col6\" class=\"data row8 col6\" >0.15%</td>\n",
       "                        <td id=\"T_d08c7650_4638_11e9_bcf8_a479cec1d1adrow8_col7\" class=\"data row8 col7\" >2018-03-29 06:18:25</td>\n",
       "            </tr>\n",
       "            <tr>\n",
       "                        <th id=\"T_d08c7650_4638_11e9_bcf8_a479cec1d1adlevel0_row9\" class=\"row_heading level0 row9\" >10</th>\n",
       "                        <td id=\"T_d08c7650_4638_11e9_bcf8_a479cec1d1adrow9_col0\" class=\"data row9 col0\" ><img src=\"https://i.ytimg.com/vi/8yJmAMP0RP4/default.jpg\"/></td>\n",
       "                        <td id=\"T_d08c7650_4638_11e9_bcf8_a479cec1d1adrow9_col1\" class=\"data row9 col1\" >BNK48 SHOW EP13 (Director's Cut) Break02</td>\n",
       "                        <td id=\"T_d08c7650_4638_11e9_bcf8_a479cec1d1adrow9_col2\" class=\"data row9 col2\" >2,574,053</td>\n",
       "                        <td id=\"T_d08c7650_4638_11e9_bcf8_a479cec1d1adrow9_col3\" class=\"data row9 col3\" >Music</td>\n",
       "                        <td id=\"T_d08c7650_4638_11e9_bcf8_a479cec1d1adrow9_col4\" class=\"data row9 col4\" >0.66%</td>\n",
       "                        <td id=\"T_d08c7650_4638_11e9_bcf8_a479cec1d1adrow9_col5\" class=\"data row9 col5\" >0.03%</td>\n",
       "                        <td id=\"T_d08c7650_4638_11e9_bcf8_a479cec1d1adrow9_col6\" class=\"data row9 col6\" >0.04%</td>\n",
       "                        <td id=\"T_d08c7650_4638_11e9_bcf8_a479cec1d1adrow9_col7\" class=\"data row9 col7\" >2017-12-05 05:00:01</td>\n",
       "            </tr>\n",
       "    </tbody></table>"
      ],
      "text/plain": [
       "<IPython.core.display.HTML object>"
      ]
     },
     "metadata": {},
     "output_type": "display_data"
    }
   ],
   "source": [
    "pd.set_option('display.max_colwidth', -1)\n",
    "\n",
    "\n",
    "th_props = [\n",
    "  ('padding','4px 4px'),\n",
    "  ('font-weight', 'bold'),\n",
    "  ('color', '#6d6d6d'),\n",
    "  ('background-color', '#f7f7f9')\n",
    "]\n",
    "\n",
    "td_props = [\n",
    "    ('padding','2px 4px'),\n",
    "    ('font-size','smaller')\n",
    "]\n",
    "img_props = [\n",
    "    ('width','auto'),\n",
    "    ('height','80%')\n",
    "]\n",
    "styles = [\n",
    "    dict(selector='th', props=th_props),\n",
    "    dict(selector='td', props=td_props),\n",
    "    dict(selector='img', props=img_props),\n",
    "    dict(selector='tr:nth-child(even)', props=[('background','#f7f7f9')])\n",
    "]\n",
    "\n",
    "# subsetting for ranking\n",
    "df = videos[['image','title','view','category','like_pct','dislike_pct',\n",
    "             'comment_pct','publishedDate']]\n",
    "\n",
    "df.columns = ['Image','Title','View','Category',\n",
    "              '% Liked','% Disliked','% Commented','Published Date']\n",
    "\n",
    "\n",
    "# Top Views\n",
    "data = df.sort_values('View', ascending=False).head(10)\n",
    "data.index = np.arange(1, data.shape[0]+1)\n",
    "\n",
    "# Render table in html\n",
    "display(HTML(\n",
    "    data.style\n",
    "        .format({'View': '{:,}','Image':'<img src=\"{}\"/>',\n",
    "                '% Liked': '{:.2%}', '% Disliked': '{:.2%}', \n",
    "                '% Commented': '{:.2%}'})\n",
    "        .set_table_styles(styles)\n",
    "        .render()\n",
    "))"
   ]
  },
  {
   "cell_type": "markdown",
   "metadata": {
    "colab_type": "text",
    "id": "gc_pym8KP2pB"
   },
   "source": [
    "<a id=\"toplikes\"></a>\n",
    "### Top 10 - Most liked"
   ]
  },
  {
   "cell_type": "code",
   "execution_count": 17,
   "metadata": {
    "colab": {
     "base_uri": "https://localhost:8080/",
     "height": 856
    },
    "colab_type": "code",
    "id": "UCt0xKg1HyUG",
    "outputId": "fb837464-6de2-42e6-be32-a320ed1c1c27"
   },
   "outputs": [
    {
     "data": {
      "text/html": [
       "<style  type=\"text/css\" >\n",
       "    #T_dbc740c0_4638_11e9_a4b1_a479cec1d1ad th {\n",
       "          padding: 4px 4px;\n",
       "          font-weight: bold;\n",
       "          color: #6d6d6d;\n",
       "          background-color: #f7f7f9;\n",
       "    }    #T_dbc740c0_4638_11e9_a4b1_a479cec1d1ad td {\n",
       "          padding: 2px 4px;\n",
       "          font-size: smaller;\n",
       "    }    #T_dbc740c0_4638_11e9_a4b1_a479cec1d1ad img {\n",
       "          width: auto;\n",
       "          height: 80%;\n",
       "    }    #T_dbc740c0_4638_11e9_a4b1_a479cec1d1ad tr:nth-child(even) {\n",
       "          background: #f7f7f9;\n",
       "    }</style><table id=\"T_dbc740c0_4638_11e9_a4b1_a479cec1d1ad\" ><thead>    <tr>        <th class=\"blank level0\" ></th>        <th class=\"col_heading level0 col0\" >Image</th>        <th class=\"col_heading level0 col1\" >Title</th>        <th class=\"col_heading level0 col2\" >View</th>        <th class=\"col_heading level0 col3\" >Category</th>        <th class=\"col_heading level0 col4\" >% Liked</th>        <th class=\"col_heading level0 col5\" >% Disliked</th>        <th class=\"col_heading level0 col6\" >% Commented</th>        <th class=\"col_heading level0 col7\" >Published Date</th>    </tr></thead><tbody>\n",
       "                <tr>\n",
       "                        <th id=\"T_dbc740c0_4638_11e9_a4b1_a479cec1d1adlevel0_row0\" class=\"row_heading level0 row0\" >1</th>\n",
       "                        <td id=\"T_dbc740c0_4638_11e9_a4b1_a479cec1d1adrow0_col0\" class=\"data row0 col0\" ><img src=\"https://i.ytimg.com/vi/rajKtMCNEGo/default.jpg\"/></td>\n",
       "                        <td id=\"T_dbc740c0_4638_11e9_a4b1_a479cec1d1adrow0_col1\" class=\"data row0 col1\" >【PV】Yume e no Route หมื่นเส้นทาง (Special Olympics Thailand Collaboration ver.) / BNK48</td>\n",
       "                        <td id=\"T_dbc740c0_4638_11e9_a4b1_a479cec1d1adrow0_col2\" class=\"data row0 col2\" >249,560</td>\n",
       "                        <td id=\"T_dbc740c0_4638_11e9_a4b1_a479cec1d1adrow0_col3\" class=\"data row0 col3\" >Music</td>\n",
       "                        <td id=\"T_dbc740c0_4638_11e9_a4b1_a479cec1d1adrow0_col4\" class=\"data row0 col4\" >5.82%</td>\n",
       "                        <td id=\"T_dbc740c0_4638_11e9_a4b1_a479cec1d1adrow0_col5\" class=\"data row0 col5\" >0.03%</td>\n",
       "                        <td id=\"T_dbc740c0_4638_11e9_a4b1_a479cec1d1adrow0_col6\" class=\"data row0 col6\" >0.39%</td>\n",
       "                        <td id=\"T_dbc740c0_4638_11e9_a4b1_a479cec1d1adrow0_col7\" class=\"data row0 col7\" >2018-10-27 07:48:22</td>\n",
       "            </tr>\n",
       "            <tr>\n",
       "                        <th id=\"T_dbc740c0_4638_11e9_a4b1_a479cec1d1adlevel0_row1\" class=\"row_heading level0 row1\" >2</th>\n",
       "                        <td id=\"T_dbc740c0_4638_11e9_a4b1_a479cec1d1adrow1_col0\" class=\"data row1 col0\" ><img src=\"https://i.ytimg.com/vi/nag9fwxFBAo/default.jpg\"/></td>\n",
       "                        <td id=\"T_dbc740c0_4638_11e9_a4b1_a479cec1d1adrow1_col1\" class=\"data row1 col1\" >【MV Teaser】Kimi wa Melody เธอคือ…เมโลดี้ / BNK48</td>\n",
       "                        <td id=\"T_dbc740c0_4638_11e9_a4b1_a479cec1d1adrow1_col2\" class=\"data row1 col2\" >387,468</td>\n",
       "                        <td id=\"T_dbc740c0_4638_11e9_a4b1_a479cec1d1adrow1_col3\" class=\"data row1 col3\" >Music</td>\n",
       "                        <td id=\"T_dbc740c0_4638_11e9_a4b1_a479cec1d1adrow1_col4\" class=\"data row1 col4\" >5.78%</td>\n",
       "                        <td id=\"T_dbc740c0_4638_11e9_a4b1_a479cec1d1adrow1_col5\" class=\"data row1 col5\" >0.05%</td>\n",
       "                        <td id=\"T_dbc740c0_4638_11e9_a4b1_a479cec1d1adrow1_col6\" class=\"data row1 col6\" >0.74%</td>\n",
       "                        <td id=\"T_dbc740c0_4638_11e9_a4b1_a479cec1d1adrow1_col7\" class=\"data row1 col7\" >2018-09-01 03:00:03</td>\n",
       "            </tr>\n",
       "            <tr>\n",
       "                        <th id=\"T_dbc740c0_4638_11e9_a4b1_a479cec1d1adlevel0_row2\" class=\"row_heading level0 row2\" >3</th>\n",
       "                        <td id=\"T_dbc740c0_4638_11e9_a4b1_a479cec1d1adrow2_col0\" class=\"data row2 col0\" ><img src=\"https://i.ytimg.com/vi/tTcnj4Z9t0M/default.jpg\"/></td>\n",
       "                        <td id=\"T_dbc740c0_4638_11e9_a4b1_a479cec1d1adrow2_col1\" class=\"data row2 col1\" >【MV Teaser】BNK Festival / BNK48</td>\n",
       "                        <td id=\"T_dbc740c0_4638_11e9_a4b1_a479cec1d1adrow2_col2\" class=\"data row2 col2\" >231,888</td>\n",
       "                        <td id=\"T_dbc740c0_4638_11e9_a4b1_a479cec1d1adrow2_col3\" class=\"data row2 col3\" >Music</td>\n",
       "                        <td id=\"T_dbc740c0_4638_11e9_a4b1_a479cec1d1adrow2_col4\" class=\"data row2 col4\" >5.53%</td>\n",
       "                        <td id=\"T_dbc740c0_4638_11e9_a4b1_a479cec1d1adrow2_col5\" class=\"data row2 col5\" >0.05%</td>\n",
       "                        <td id=\"T_dbc740c0_4638_11e9_a4b1_a479cec1d1adrow2_col6\" class=\"data row2 col6\" >0.61%</td>\n",
       "                        <td id=\"T_dbc740c0_4638_11e9_a4b1_a479cec1d1adrow2_col7\" class=\"data row2 col7\" >2018-11-15 13:00:07</td>\n",
       "            </tr>\n",
       "            <tr>\n",
       "                        <th id=\"T_dbc740c0_4638_11e9_a4b1_a479cec1d1adlevel0_row3\" class=\"row_heading level0 row3\" >4</th>\n",
       "                        <td id=\"T_dbc740c0_4638_11e9_a4b1_a479cec1d1adrow3_col0\" class=\"data row3 col0\" ><img src=\"https://i.ytimg.com/vi/sGPvK_XnmAM/default.jpg\"/></td>\n",
       "                        <td id=\"T_dbc740c0_4638_11e9_a4b1_a479cec1d1adrow3_col1\" class=\"data row3 col1\" >BNK48 Team BⅢ｜Milin Dokthian (Namneung)</td>\n",
       "                        <td id=\"T_dbc740c0_4638_11e9_a4b1_a479cec1d1adrow3_col2\" class=\"data row3 col2\" >159,318</td>\n",
       "                        <td id=\"T_dbc740c0_4638_11e9_a4b1_a479cec1d1adrow3_col3\" class=\"data row3 col3\" >Music</td>\n",
       "                        <td id=\"T_dbc740c0_4638_11e9_a4b1_a479cec1d1adrow3_col4\" class=\"data row3 col4\" >5.46%</td>\n",
       "                        <td id=\"T_dbc740c0_4638_11e9_a4b1_a479cec1d1adrow3_col5\" class=\"data row3 col5\" >0.04%</td>\n",
       "                        <td id=\"T_dbc740c0_4638_11e9_a4b1_a479cec1d1adrow3_col6\" class=\"data row3 col6\" >0.72%</td>\n",
       "                        <td id=\"T_dbc740c0_4638_11e9_a4b1_a479cec1d1adrow3_col7\" class=\"data row3 col7\" >2018-11-16 05:45:00</td>\n",
       "            </tr>\n",
       "            <tr>\n",
       "                        <th id=\"T_dbc740c0_4638_11e9_a4b1_a479cec1d1adlevel0_row4\" class=\"row_heading level0 row4\" >5</th>\n",
       "                        <td id=\"T_dbc740c0_4638_11e9_a4b1_a479cec1d1adrow4_col0\" class=\"data row4 col0\" ><img src=\"https://i.ytimg.com/vi/TxI8FViS2GM/default.jpg\"/></td>\n",
       "                        <td id=\"T_dbc740c0_4638_11e9_a4b1_a479cec1d1adrow4_col1\" class=\"data row4 col1\" >Video Messages「Koisuru Fortune Cookie 100,000,000 Views」 / BNK48</td>\n",
       "                        <td id=\"T_dbc740c0_4638_11e9_a4b1_a479cec1d1adrow4_col2\" class=\"data row4 col2\" >171,659</td>\n",
       "                        <td id=\"T_dbc740c0_4638_11e9_a4b1_a479cec1d1adrow4_col3\" class=\"data row4 col3\" >Music</td>\n",
       "                        <td id=\"T_dbc740c0_4638_11e9_a4b1_a479cec1d1adrow4_col4\" class=\"data row4 col4\" >5.41%</td>\n",
       "                        <td id=\"T_dbc740c0_4638_11e9_a4b1_a479cec1d1adrow4_col5\" class=\"data row4 col5\" >0.05%</td>\n",
       "                        <td id=\"T_dbc740c0_4638_11e9_a4b1_a479cec1d1adrow4_col6\" class=\"data row4 col6\" >0.77%</td>\n",
       "                        <td id=\"T_dbc740c0_4638_11e9_a4b1_a479cec1d1adrow4_col7\" class=\"data row4 col7\" >2018-04-02 04:30:07</td>\n",
       "            </tr>\n",
       "            <tr>\n",
       "                        <th id=\"T_dbc740c0_4638_11e9_a4b1_a479cec1d1adlevel0_row5\" class=\"row_heading level0 row5\" >6</th>\n",
       "                        <td id=\"T_dbc740c0_4638_11e9_a4b1_a479cec1d1adrow5_col0\" class=\"data row5 col0\" ><img src=\"https://i.ytimg.com/vi/gTbh_3Mglsc/default.jpg\"/></td>\n",
       "                        <td id=\"T_dbc740c0_4638_11e9_a4b1_a479cec1d1adrow5_col1\" class=\"data row5 col1\" >KhunKai’s Kitchen EP04 : Rainbow Pancake / KaimookBNK48</td>\n",
       "                        <td id=\"T_dbc740c0_4638_11e9_a4b1_a479cec1d1adrow5_col2\" class=\"data row5 col2\" >22,135</td>\n",
       "                        <td id=\"T_dbc740c0_4638_11e9_a4b1_a479cec1d1adrow5_col3\" class=\"data row5 col3\" >Music</td>\n",
       "                        <td id=\"T_dbc740c0_4638_11e9_a4b1_a479cec1d1adrow5_col4\" class=\"data row5 col4\" >5.34%</td>\n",
       "                        <td id=\"T_dbc740c0_4638_11e9_a4b1_a479cec1d1adrow5_col5\" class=\"data row5 col5\" >0.09%</td>\n",
       "                        <td id=\"T_dbc740c0_4638_11e9_a4b1_a479cec1d1adrow5_col6\" class=\"data row5 col6\" >0.36%</td>\n",
       "                        <td id=\"T_dbc740c0_4638_11e9_a4b1_a479cec1d1adrow5_col7\" class=\"data row5 col7\" >2018-09-03 04:41:18</td>\n",
       "            </tr>\n",
       "            <tr>\n",
       "                        <th id=\"T_dbc740c0_4638_11e9_a4b1_a479cec1d1adlevel0_row6\" class=\"row_heading level0 row6\" >7</th>\n",
       "                        <td id=\"T_dbc740c0_4638_11e9_a4b1_a479cec1d1adrow6_col0\" class=\"data row6 col0\" ><img src=\"https://i.ytimg.com/vi/SgbxVmzjC6w/default.jpg\"/></td>\n",
       "                        <td id=\"T_dbc740c0_4638_11e9_a4b1_a479cec1d1adrow6_col1\" class=\"data row6 col1\" >BNK48 Team BⅢ｜Natruja Chutiwansopon (Kaew)</td>\n",
       "                        <td id=\"T_dbc740c0_4638_11e9_a4b1_a479cec1d1adrow6_col2\" class=\"data row6 col2\" >126,327</td>\n",
       "                        <td id=\"T_dbc740c0_4638_11e9_a4b1_a479cec1d1adrow6_col3\" class=\"data row6 col3\" >Music</td>\n",
       "                        <td id=\"T_dbc740c0_4638_11e9_a4b1_a479cec1d1adrow6_col4\" class=\"data row6 col4\" >5.33%</td>\n",
       "                        <td id=\"T_dbc740c0_4638_11e9_a4b1_a479cec1d1adrow6_col5\" class=\"data row6 col5\" >0.04%</td>\n",
       "                        <td id=\"T_dbc740c0_4638_11e9_a4b1_a479cec1d1adrow6_col6\" class=\"data row6 col6\" >0.44%</td>\n",
       "                        <td id=\"T_dbc740c0_4638_11e9_a4b1_a479cec1d1adrow6_col7\" class=\"data row6 col7\" >2018-11-16 05:45:01</td>\n",
       "            </tr>\n",
       "            <tr>\n",
       "                        <th id=\"T_dbc740c0_4638_11e9_a4b1_a479cec1d1adlevel0_row7\" class=\"row_heading level0 row7\" >8</th>\n",
       "                        <td id=\"T_dbc740c0_4638_11e9_a4b1_a479cec1d1adrow7_col0\" class=\"data row7 col0\" ><img src=\"https://i.ytimg.com/vi/xNEuiLFg-oI/default.jpg\"/></td>\n",
       "                        <td id=\"T_dbc740c0_4638_11e9_a4b1_a479cec1d1adrow7_col1\" class=\"data row7 col1\" >KhunKai’s Kitchen EP08 : Ice Cream Homemade / KaimookBNK48</td>\n",
       "                        <td id=\"T_dbc740c0_4638_11e9_a4b1_a479cec1d1adrow7_col2\" class=\"data row7 col2\" >9,812</td>\n",
       "                        <td id=\"T_dbc740c0_4638_11e9_a4b1_a479cec1d1adrow7_col3\" class=\"data row7 col3\" >Music</td>\n",
       "                        <td id=\"T_dbc740c0_4638_11e9_a4b1_a479cec1d1adrow7_col4\" class=\"data row7 col4\" >5.29%</td>\n",
       "                        <td id=\"T_dbc740c0_4638_11e9_a4b1_a479cec1d1adrow7_col5\" class=\"data row7 col5\" >0.17%</td>\n",
       "                        <td id=\"T_dbc740c0_4638_11e9_a4b1_a479cec1d1adrow7_col6\" class=\"data row7 col6\" >0.23%</td>\n",
       "                        <td id=\"T_dbc740c0_4638_11e9_a4b1_a479cec1d1adrow7_col7\" class=\"data row7 col7\" >2018-09-03 04:44:06</td>\n",
       "            </tr>\n",
       "            <tr>\n",
       "                        <th id=\"T_dbc740c0_4638_11e9_a4b1_a479cec1d1adlevel0_row8\" class=\"row_heading level0 row8\" >9</th>\n",
       "                        <td id=\"T_dbc740c0_4638_11e9_a4b1_a479cec1d1adrow8_col0\" class=\"data row8 col0\" ><img src=\"https://i.ytimg.com/vi/nrUwnhKERLw/default.jpg\"/></td>\n",
       "                        <td id=\"T_dbc740c0_4638_11e9_a4b1_a479cec1d1adrow8_col1\" class=\"data row8 col1\" >【MV Teaser】Kimi no Koto ga Suki Dakara ก็เพราะว่าชอบเธอ / BNK48</td>\n",
       "                        <td id=\"T_dbc740c0_4638_11e9_a4b1_a479cec1d1adrow8_col2\" class=\"data row8 col2\" >315,883</td>\n",
       "                        <td id=\"T_dbc740c0_4638_11e9_a4b1_a479cec1d1adrow8_col3\" class=\"data row8 col3\" >Music</td>\n",
       "                        <td id=\"T_dbc740c0_4638_11e9_a4b1_a479cec1d1adrow8_col4\" class=\"data row8 col4\" >5.24%</td>\n",
       "                        <td id=\"T_dbc740c0_4638_11e9_a4b1_a479cec1d1adrow8_col5\" class=\"data row8 col5\" >0.05%</td>\n",
       "                        <td id=\"T_dbc740c0_4638_11e9_a4b1_a479cec1d1adrow8_col6\" class=\"data row8 col6\" >0.55%</td>\n",
       "                        <td id=\"T_dbc740c0_4638_11e9_a4b1_a479cec1d1adrow8_col7\" class=\"data row8 col7\" >2019-02-25 15:00:05</td>\n",
       "            </tr>\n",
       "            <tr>\n",
       "                        <th id=\"T_dbc740c0_4638_11e9_a4b1_a479cec1d1adlevel0_row9\" class=\"row_heading level0 row9\" >10</th>\n",
       "                        <td id=\"T_dbc740c0_4638_11e9_a4b1_a479cec1d1adrow9_col0\" class=\"data row9 col0\" ><img src=\"https://i.ytimg.com/vi/usvrekLfc6M/default.jpg\"/></td>\n",
       "                        <td id=\"T_dbc740c0_4638_11e9_a4b1_a479cec1d1adrow9_col1\" class=\"data row9 col1\" >BNK48 Trainee｜Weeraya Zhang (Wee)</td>\n",
       "                        <td id=\"T_dbc740c0_4638_11e9_a4b1_a479cec1d1adrow9_col2\" class=\"data row9 col2\" >167,964</td>\n",
       "                        <td id=\"T_dbc740c0_4638_11e9_a4b1_a479cec1d1adrow9_col3\" class=\"data row9 col3\" >Music</td>\n",
       "                        <td id=\"T_dbc740c0_4638_11e9_a4b1_a479cec1d1adrow9_col4\" class=\"data row9 col4\" >5.13%</td>\n",
       "                        <td id=\"T_dbc740c0_4638_11e9_a4b1_a479cec1d1adrow9_col5\" class=\"data row9 col5\" >0.10%</td>\n",
       "                        <td id=\"T_dbc740c0_4638_11e9_a4b1_a479cec1d1adrow9_col6\" class=\"data row9 col6\" >0.47%</td>\n",
       "                        <td id=\"T_dbc740c0_4638_11e9_a4b1_a479cec1d1adrow9_col7\" class=\"data row9 col7\" >2018-11-16 05:45:00</td>\n",
       "            </tr>\n",
       "    </tbody></table>"
      ],
      "text/plain": [
       "<IPython.core.display.HTML object>"
      ]
     },
     "metadata": {},
     "output_type": "display_data"
    }
   ],
   "source": [
    "# Top % Liked\n",
    "data = df.sort_values('% Liked', ascending=False).head(10)\n",
    "data.index = np.arange(1, data.shape[0]+1)\n",
    "\n",
    "# Render table in html\n",
    "display(HTML(\n",
    "    data.style\n",
    "        .format({'View': '{:,}','Image':'<img src=\"{}\"/>',\n",
    "                '% Liked': '{:.2%}', '% Disliked': '{:.2%}', \n",
    "                '% Commented': '{:.2%}'})\n",
    "        .set_table_styles(styles)\n",
    "        .render()\n",
    "))"
   ]
  },
  {
   "cell_type": "markdown",
   "metadata": {
    "colab_type": "text",
    "id": "_myPiDMxP7Px"
   },
   "source": [
    "<a id=\"topdislikes\"></a>\n",
    "### Top 10 - Most disliked"
   ]
  },
  {
   "cell_type": "code",
   "execution_count": 18,
   "metadata": {
    "colab": {
     "base_uri": "https://localhost:8080/",
     "height": 856
    },
    "colab_type": "code",
    "id": "U9AAxNO1zpQF",
    "outputId": "3985bc37-4e4d-43ba-b643-a847cbdb8261"
   },
   "outputs": [
    {
     "data": {
      "text/html": [
       "<style  type=\"text/css\" >\n",
       "    #T_e0be8cc0_4638_11e9_8a9b_a479cec1d1ad th {\n",
       "          padding: 4px 4px;\n",
       "          font-weight: bold;\n",
       "          color: #6d6d6d;\n",
       "          background-color: #f7f7f9;\n",
       "    }    #T_e0be8cc0_4638_11e9_8a9b_a479cec1d1ad td {\n",
       "          padding: 2px 4px;\n",
       "          font-size: smaller;\n",
       "    }    #T_e0be8cc0_4638_11e9_8a9b_a479cec1d1ad img {\n",
       "          width: auto;\n",
       "          height: 80%;\n",
       "    }    #T_e0be8cc0_4638_11e9_8a9b_a479cec1d1ad tr:nth-child(even) {\n",
       "          background: #f7f7f9;\n",
       "    }</style><table id=\"T_e0be8cc0_4638_11e9_8a9b_a479cec1d1ad\" ><thead>    <tr>        <th class=\"blank level0\" ></th>        <th class=\"col_heading level0 col0\" >Image</th>        <th class=\"col_heading level0 col1\" >Title</th>        <th class=\"col_heading level0 col2\" >View</th>        <th class=\"col_heading level0 col3\" >Category</th>        <th class=\"col_heading level0 col4\" >% Liked</th>        <th class=\"col_heading level0 col5\" >% Disliked</th>        <th class=\"col_heading level0 col6\" >% Commented</th>        <th class=\"col_heading level0 col7\" >Published Date</th>    </tr></thead><tbody>\n",
       "                <tr>\n",
       "                        <th id=\"T_e0be8cc0_4638_11e9_8a9b_a479cec1d1adlevel0_row0\" class=\"row_heading level0 row0\" >1</th>\n",
       "                        <td id=\"T_e0be8cc0_4638_11e9_8a9b_a479cec1d1adrow0_col0\" class=\"data row0 col0\" ><img src=\"https://i.ytimg.com/vi/O0XTZu0SEj4/default.jpg\"/></td>\n",
       "                        <td id=\"T_e0be8cc0_4638_11e9_8a9b_a479cec1d1adrow0_col1\" class=\"data row0 col1\" >29 Seconds of 29 members #14 : Maysa</td>\n",
       "                        <td id=\"T_e0be8cc0_4638_11e9_8a9b_a479cec1d1adrow0_col2\" class=\"data row0 col2\" >33,400</td>\n",
       "                        <td id=\"T_e0be8cc0_4638_11e9_8a9b_a479cec1d1adrow0_col3\" class=\"data row0 col3\" >Music</td>\n",
       "                        <td id=\"T_e0be8cc0_4638_11e9_8a9b_a479cec1d1adrow0_col4\" class=\"data row0 col4\" >1.69%</td>\n",
       "                        <td id=\"T_e0be8cc0_4638_11e9_8a9b_a479cec1d1adrow0_col5\" class=\"data row0 col5\" >0.43%</td>\n",
       "                        <td id=\"T_e0be8cc0_4638_11e9_8a9b_a479cec1d1adrow0_col6\" class=\"data row0 col6\" >0.07%</td>\n",
       "                        <td id=\"T_e0be8cc0_4638_11e9_8a9b_a479cec1d1adrow0_col7\" class=\"data row0 col7\" >2017-05-01 13:08:41</td>\n",
       "            </tr>\n",
       "            <tr>\n",
       "                        <th id=\"T_e0be8cc0_4638_11e9_8a9b_a479cec1d1adlevel0_row1\" class=\"row_heading level0 row1\" >2</th>\n",
       "                        <td id=\"T_e0be8cc0_4638_11e9_8a9b_a479cec1d1adrow1_col0\" class=\"data row1 col0\" ><img src=\"https://i.ytimg.com/vi/M03mNS6vTjU/default.jpg\"/></td>\n",
       "                        <td id=\"T_e0be8cc0_4638_11e9_8a9b_a479cec1d1adrow1_col1\" class=\"data row1 col1\" >BNK48 Trainee｜Mananya Kaoju (Nink)</td>\n",
       "                        <td id=\"T_e0be8cc0_4638_11e9_8a9b_a479cec1d1adrow1_col2\" class=\"data row1 col2\" >46,098</td>\n",
       "                        <td id=\"T_e0be8cc0_4638_11e9_8a9b_a479cec1d1adrow1_col3\" class=\"data row1 col3\" >Music</td>\n",
       "                        <td id=\"T_e0be8cc0_4638_11e9_8a9b_a479cec1d1adrow1_col4\" class=\"data row1 col4\" >3.41%</td>\n",
       "                        <td id=\"T_e0be8cc0_4638_11e9_8a9b_a479cec1d1adrow1_col5\" class=\"data row1 col5\" >0.25%</td>\n",
       "                        <td id=\"T_e0be8cc0_4638_11e9_8a9b_a479cec1d1adrow1_col6\" class=\"data row1 col6\" >0.34%</td>\n",
       "                        <td id=\"T_e0be8cc0_4638_11e9_8a9b_a479cec1d1adrow1_col7\" class=\"data row1 col7\" >2018-11-16 05:45:01</td>\n",
       "            </tr>\n",
       "            <tr>\n",
       "                        <th id=\"T_e0be8cc0_4638_11e9_8a9b_a479cec1d1adlevel0_row2\" class=\"row_heading level0 row2\" >3</th>\n",
       "                        <td id=\"T_e0be8cc0_4638_11e9_8a9b_a479cec1d1adrow2_col0\" class=\"data row2 col0\" ><img src=\"https://i.ytimg.com/vi/V5ScG-apbSs/default.jpg\"/></td>\n",
       "                        <td id=\"T_e0be8cc0_4638_11e9_8a9b_a479cec1d1adrow2_col1\" class=\"data row2 col1\" >BNK48 Team BⅢ｜Praewa Suthamphong (Music)</td>\n",
       "                        <td id=\"T_e0be8cc0_4638_11e9_8a9b_a479cec1d1adrow2_col2\" class=\"data row2 col2\" >213,250</td>\n",
       "                        <td id=\"T_e0be8cc0_4638_11e9_8a9b_a479cec1d1adrow2_col3\" class=\"data row2 col3\" >Music</td>\n",
       "                        <td id=\"T_e0be8cc0_4638_11e9_8a9b_a479cec1d1adrow2_col4\" class=\"data row2 col4\" >4.61%</td>\n",
       "                        <td id=\"T_e0be8cc0_4638_11e9_8a9b_a479cec1d1adrow2_col5\" class=\"data row2 col5\" >0.22%</td>\n",
       "                        <td id=\"T_e0be8cc0_4638_11e9_8a9b_a479cec1d1adrow2_col6\" class=\"data row2 col6\" >0.62%</td>\n",
       "                        <td id=\"T_e0be8cc0_4638_11e9_8a9b_a479cec1d1adrow2_col7\" class=\"data row2 col7\" >2018-11-16 05:45:00</td>\n",
       "            </tr>\n",
       "            <tr>\n",
       "                        <th id=\"T_e0be8cc0_4638_11e9_8a9b_a479cec1d1adlevel0_row3\" class=\"row_heading level0 row3\" >4</th>\n",
       "                        <td id=\"T_e0be8cc0_4638_11e9_8a9b_a479cec1d1adrow3_col0\" class=\"data row3 col0\" ><img src=\"https://i.ytimg.com/vi/2hHGYO8Klqg/default.jpg\"/></td>\n",
       "                        <td id=\"T_e0be8cc0_4638_11e9_8a9b_a479cec1d1adrow3_col1\" class=\"data row3 col1\" >BNK48 Trainee｜Pimnipa Tungsakul (Deenee)</td>\n",
       "                        <td id=\"T_e0be8cc0_4638_11e9_8a9b_a479cec1d1adrow3_col2\" class=\"data row3 col2\" >35,226</td>\n",
       "                        <td id=\"T_e0be8cc0_4638_11e9_8a9b_a479cec1d1adrow3_col3\" class=\"data row3 col3\" >Music</td>\n",
       "                        <td id=\"T_e0be8cc0_4638_11e9_8a9b_a479cec1d1adrow3_col4\" class=\"data row3 col4\" >3.82%</td>\n",
       "                        <td id=\"T_e0be8cc0_4638_11e9_8a9b_a479cec1d1adrow3_col5\" class=\"data row3 col5\" >0.21%</td>\n",
       "                        <td id=\"T_e0be8cc0_4638_11e9_8a9b_a479cec1d1adrow3_col6\" class=\"data row3 col6\" >0.33%</td>\n",
       "                        <td id=\"T_e0be8cc0_4638_11e9_8a9b_a479cec1d1adrow3_col7\" class=\"data row3 col7\" >2018-11-16 05:45:00</td>\n",
       "            </tr>\n",
       "            <tr>\n",
       "                        <th id=\"T_e0be8cc0_4638_11e9_8a9b_a479cec1d1adlevel0_row4\" class=\"row_heading level0 row4\" >5</th>\n",
       "                        <td id=\"T_e0be8cc0_4638_11e9_8a9b_a479cec1d1adrow4_col0\" class=\"data row4 col0\" ><img src=\"https://i.ytimg.com/vi/IptefJ9C4PY/default.jpg\"/></td>\n",
       "                        <td id=\"T_e0be8cc0_4638_11e9_8a9b_a479cec1d1adrow4_col1\" class=\"data row4 col1\" >【MV Full】Beginner / BNK48</td>\n",
       "                        <td id=\"T_e0be8cc0_4638_11e9_8a9b_a479cec1d1adrow4_col2\" class=\"data row4 col2\" >3,351,249</td>\n",
       "                        <td id=\"T_e0be8cc0_4638_11e9_8a9b_a479cec1d1adrow4_col3\" class=\"data row4 col3\" >Music</td>\n",
       "                        <td id=\"T_e0be8cc0_4638_11e9_8a9b_a479cec1d1adrow4_col4\" class=\"data row4 col4\" >4.24%</td>\n",
       "                        <td id=\"T_e0be8cc0_4638_11e9_8a9b_a479cec1d1adrow4_col5\" class=\"data row4 col5\" >0.19%</td>\n",
       "                        <td id=\"T_e0be8cc0_4638_11e9_8a9b_a479cec1d1adrow4_col6\" class=\"data row4 col6\" >0.80%</td>\n",
       "                        <td id=\"T_e0be8cc0_4638_11e9_8a9b_a479cec1d1adrow4_col7\" class=\"data row4 col7\" >2019-03-02 15:00:03</td>\n",
       "            </tr>\n",
       "            <tr>\n",
       "                        <th id=\"T_e0be8cc0_4638_11e9_8a9b_a479cec1d1adlevel0_row5\" class=\"row_heading level0 row5\" >6</th>\n",
       "                        <td id=\"T_e0be8cc0_4638_11e9_8a9b_a479cec1d1adrow5_col0\" class=\"data row5 col0\" ><img src=\"https://i.ytimg.com/vi/xNEuiLFg-oI/default.jpg\"/></td>\n",
       "                        <td id=\"T_e0be8cc0_4638_11e9_8a9b_a479cec1d1adrow5_col1\" class=\"data row5 col1\" >KhunKai’s Kitchen EP08 : Ice Cream Homemade / KaimookBNK48</td>\n",
       "                        <td id=\"T_e0be8cc0_4638_11e9_8a9b_a479cec1d1adrow5_col2\" class=\"data row5 col2\" >9,812</td>\n",
       "                        <td id=\"T_e0be8cc0_4638_11e9_8a9b_a479cec1d1adrow5_col3\" class=\"data row5 col3\" >Music</td>\n",
       "                        <td id=\"T_e0be8cc0_4638_11e9_8a9b_a479cec1d1adrow5_col4\" class=\"data row5 col4\" >5.29%</td>\n",
       "                        <td id=\"T_e0be8cc0_4638_11e9_8a9b_a479cec1d1adrow5_col5\" class=\"data row5 col5\" >0.17%</td>\n",
       "                        <td id=\"T_e0be8cc0_4638_11e9_8a9b_a479cec1d1adrow5_col6\" class=\"data row5 col6\" >0.23%</td>\n",
       "                        <td id=\"T_e0be8cc0_4638_11e9_8a9b_a479cec1d1adrow5_col7\" class=\"data row5 col7\" >2018-09-03 04:44:06</td>\n",
       "            </tr>\n",
       "            <tr>\n",
       "                        <th id=\"T_e0be8cc0_4638_11e9_8a9b_a479cec1d1adlevel0_row6\" class=\"row_heading level0 row6\" >7</th>\n",
       "                        <td id=\"T_e0be8cc0_4638_11e9_8a9b_a479cec1d1adrow6_col0\" class=\"data row6 col0\" ><img src=\"https://i.ytimg.com/vi/nwRFy64XONU/default.jpg\"/></td>\n",
       "                        <td id=\"T_e0be8cc0_4638_11e9_8a9b_a479cec1d1adrow6_col1\" class=\"data row6 col1\" >29 Seconds of 29 members #25 : Piam</td>\n",
       "                        <td id=\"T_e0be8cc0_4638_11e9_8a9b_a479cec1d1adrow6_col2\" class=\"data row6 col2\" >29,862</td>\n",
       "                        <td id=\"T_e0be8cc0_4638_11e9_8a9b_a479cec1d1adrow6_col3\" class=\"data row6 col3\" >Music</td>\n",
       "                        <td id=\"T_e0be8cc0_4638_11e9_8a9b_a479cec1d1adrow6_col4\" class=\"data row6 col4\" >1.62%</td>\n",
       "                        <td id=\"T_e0be8cc0_4638_11e9_8a9b_a479cec1d1adrow6_col5\" class=\"data row6 col5\" >0.17%</td>\n",
       "                        <td id=\"T_e0be8cc0_4638_11e9_8a9b_a479cec1d1adrow6_col6\" class=\"data row6 col6\" >0.07%</td>\n",
       "                        <td id=\"T_e0be8cc0_4638_11e9_8a9b_a479cec1d1adrow6_col7\" class=\"data row6 col7\" >2017-05-01 13:08:36</td>\n",
       "            </tr>\n",
       "            <tr>\n",
       "                        <th id=\"T_e0be8cc0_4638_11e9_8a9b_a479cec1d1adlevel0_row7\" class=\"row_heading level0 row7\" >8</th>\n",
       "                        <td id=\"T_e0be8cc0_4638_11e9_8a9b_a479cec1d1adrow7_col0\" class=\"data row7 col0\" ><img src=\"https://i.ytimg.com/vi/zHKGQgnLX0U/default.jpg\"/></td>\n",
       "                        <td id=\"T_e0be8cc0_4638_11e9_8a9b_a479cec1d1adrow7_col1\" class=\"data row7 col1\" >BNK48 Trainee｜Rinrada Inthaisong (Piam)</td>\n",
       "                        <td id=\"T_e0be8cc0_4638_11e9_8a9b_a479cec1d1adrow7_col2\" class=\"data row7 col2\" >62,447</td>\n",
       "                        <td id=\"T_e0be8cc0_4638_11e9_8a9b_a479cec1d1adrow7_col3\" class=\"data row7 col3\" >Music</td>\n",
       "                        <td id=\"T_e0be8cc0_4638_11e9_8a9b_a479cec1d1adrow7_col4\" class=\"data row7 col4\" >3.40%</td>\n",
       "                        <td id=\"T_e0be8cc0_4638_11e9_8a9b_a479cec1d1adrow7_col5\" class=\"data row7 col5\" >0.16%</td>\n",
       "                        <td id=\"T_e0be8cc0_4638_11e9_8a9b_a479cec1d1adrow7_col6\" class=\"data row7 col6\" >0.27%</td>\n",
       "                        <td id=\"T_e0be8cc0_4638_11e9_8a9b_a479cec1d1adrow7_col7\" class=\"data row7 col7\" >2018-11-16 05:45:00</td>\n",
       "            </tr>\n",
       "            <tr>\n",
       "                        <th id=\"T_e0be8cc0_4638_11e9_8a9b_a479cec1d1adlevel0_row8\" class=\"row_heading level0 row8\" >9</th>\n",
       "                        <td id=\"T_e0be8cc0_4638_11e9_8a9b_a479cec1d1adrow8_col0\" class=\"data row8 col0\" ><img src=\"https://i.ytimg.com/vi/oZR9Sit2S9Q/default.jpg\"/></td>\n",
       "                        <td id=\"T_e0be8cc0_4638_11e9_8a9b_a479cec1d1adrow8_col1\" class=\"data row8 col1\" >29 Seconds of 29 members #17 : Mobile</td>\n",
       "                        <td id=\"T_e0be8cc0_4638_11e9_8a9b_a479cec1d1adrow8_col2\" class=\"data row8 col2\" >71,562</td>\n",
       "                        <td id=\"T_e0be8cc0_4638_11e9_8a9b_a479cec1d1adrow8_col3\" class=\"data row8 col3\" >Music</td>\n",
       "                        <td id=\"T_e0be8cc0_4638_11e9_8a9b_a479cec1d1adrow8_col4\" class=\"data row8 col4\" >1.99%</td>\n",
       "                        <td id=\"T_e0be8cc0_4638_11e9_8a9b_a479cec1d1adrow8_col5\" class=\"data row8 col5\" >0.13%</td>\n",
       "                        <td id=\"T_e0be8cc0_4638_11e9_8a9b_a479cec1d1adrow8_col6\" class=\"data row8 col6\" >0.16%</td>\n",
       "                        <td id=\"T_e0be8cc0_4638_11e9_8a9b_a479cec1d1adrow8_col7\" class=\"data row8 col7\" >2017-05-01 13:08:44</td>\n",
       "            </tr>\n",
       "            <tr>\n",
       "                        <th id=\"T_e0be8cc0_4638_11e9_8a9b_a479cec1d1adlevel0_row9\" class=\"row_heading level0 row9\" >10</th>\n",
       "                        <td id=\"T_e0be8cc0_4638_11e9_8a9b_a479cec1d1adrow9_col0\" class=\"data row9 col0\" ><img src=\"https://i.ytimg.com/vi/dlSyuTq1ERE/default.jpg\"/></td>\n",
       "                        <td id=\"T_e0be8cc0_4638_11e9_8a9b_a479cec1d1adrow9_col1\" class=\"data row9 col1\" >KhunKai’s Kitchen EP09 : S’more / KaimookBNK48</td>\n",
       "                        <td id=\"T_e0be8cc0_4638_11e9_8a9b_a479cec1d1adrow9_col2\" class=\"data row9 col2\" >14,344</td>\n",
       "                        <td id=\"T_e0be8cc0_4638_11e9_8a9b_a479cec1d1adrow9_col3\" class=\"data row9 col3\" >Music</td>\n",
       "                        <td id=\"T_e0be8cc0_4638_11e9_8a9b_a479cec1d1adrow9_col4\" class=\"data row9 col4\" >5.00%</td>\n",
       "                        <td id=\"T_e0be8cc0_4638_11e9_8a9b_a479cec1d1adrow9_col5\" class=\"data row9 col5\" >0.13%</td>\n",
       "                        <td id=\"T_e0be8cc0_4638_11e9_8a9b_a479cec1d1adrow9_col6\" class=\"data row9 col6\" >0.31%</td>\n",
       "                        <td id=\"T_e0be8cc0_4638_11e9_8a9b_a479cec1d1adrow9_col7\" class=\"data row9 col7\" >2018-09-03 04:44:29</td>\n",
       "            </tr>\n",
       "    </tbody></table>"
      ],
      "text/plain": [
       "<IPython.core.display.HTML object>"
      ]
     },
     "metadata": {},
     "output_type": "display_data"
    }
   ],
   "source": [
    "# Top % Disliked\n",
    "data = df.sort_values('% Disliked', ascending=False).head(10)\n",
    "data.index = np.arange(1, data.shape[0]+1)\n",
    "\n",
    "# Render table in html\n",
    "display(HTML(\n",
    "    data.style\n",
    "        .format({'View': '{:,}','Image':'<img src=\"{}\"/>',\n",
    "                '% Liked': '{:.2%}', '% Disliked': '{:.2%}', \n",
    "                '% Commented': '{:.2%}'})\n",
    "        .set_table_styles(styles)\n",
    "        .render()\n",
    "))"
   ]
  },
  {
   "cell_type": "markdown",
   "metadata": {
    "colab_type": "text",
    "id": "UB9YFpK1QA7x"
   },
   "source": [
    "<a id=\"topcomments\"></a>\n",
    "### Top 10 - Most commented"
   ]
  },
  {
   "cell_type": "code",
   "execution_count": 19,
   "metadata": {
    "colab": {
     "base_uri": "https://localhost:8080/",
     "height": 856
    },
    "colab_type": "code",
    "id": "2S0kCrd5Q7aL",
    "outputId": "4b7dc519-b62f-4c45-9a6a-642a92ad22f4"
   },
   "outputs": [
    {
     "data": {
      "text/html": [
       "<style  type=\"text/css\" >\n",
       "    #T_ed58a61e_4638_11e9_99e6_a479cec1d1ad th {\n",
       "          padding: 4px 4px;\n",
       "          font-weight: bold;\n",
       "          color: #6d6d6d;\n",
       "          background-color: #f7f7f9;\n",
       "    }    #T_ed58a61e_4638_11e9_99e6_a479cec1d1ad td {\n",
       "          padding: 2px 4px;\n",
       "          font-size: smaller;\n",
       "    }    #T_ed58a61e_4638_11e9_99e6_a479cec1d1ad img {\n",
       "          width: auto;\n",
       "          height: 80%;\n",
       "    }    #T_ed58a61e_4638_11e9_99e6_a479cec1d1ad tr:nth-child(even) {\n",
       "          background: #f7f7f9;\n",
       "    }</style><table id=\"T_ed58a61e_4638_11e9_99e6_a479cec1d1ad\" ><thead>    <tr>        <th class=\"blank level0\" ></th>        <th class=\"col_heading level0 col0\" >Image</th>        <th class=\"col_heading level0 col1\" >Title</th>        <th class=\"col_heading level0 col2\" >View</th>        <th class=\"col_heading level0 col3\" >Category</th>        <th class=\"col_heading level0 col4\" >% Liked</th>        <th class=\"col_heading level0 col5\" >% Disliked</th>        <th class=\"col_heading level0 col6\" >% Commented</th>        <th class=\"col_heading level0 col7\" >Published Date</th>    </tr></thead><tbody>\n",
       "                <tr>\n",
       "                        <th id=\"T_ed58a61e_4638_11e9_99e6_a479cec1d1adlevel0_row0\" class=\"row_heading level0 row0\" >1</th>\n",
       "                        <td id=\"T_ed58a61e_4638_11e9_99e6_a479cec1d1adrow0_col0\" class=\"data row0 col0\" ><img src=\"https://i.ytimg.com/vi/0Fna8Uy-R4Y/default.jpg\"/></td>\n",
       "                        <td id=\"T_ed58a61e_4638_11e9_99e6_a479cec1d1adrow0_col1\" class=\"data row0 col1\" >BNK48 6th Single Senbatsu General Election – Preliminary Results Announcement / BNK48</td>\n",
       "                        <td id=\"T_ed58a61e_4638_11e9_99e6_a479cec1d1adrow0_col2\" class=\"data row0 col2\" >343,844</td>\n",
       "                        <td id=\"T_ed58a61e_4638_11e9_99e6_a479cec1d1adrow0_col3\" class=\"data row0 col3\" >Music</td>\n",
       "                        <td id=\"T_ed58a61e_4638_11e9_99e6_a479cec1d1adrow0_col4\" class=\"data row0 col4\" >3.94%</td>\n",
       "                        <td id=\"T_ed58a61e_4638_11e9_99e6_a479cec1d1adrow0_col5\" class=\"data row0 col5\" >0.05%</td>\n",
       "                        <td id=\"T_ed58a61e_4638_11e9_99e6_a479cec1d1adrow0_col6\" class=\"data row0 col6\" >1.00%</td>\n",
       "                        <td id=\"T_ed58a61e_4638_11e9_99e6_a479cec1d1adrow0_col7\" class=\"data row0 col7\" >2018-12-12 13:11:56</td>\n",
       "            </tr>\n",
       "            <tr>\n",
       "                        <th id=\"T_ed58a61e_4638_11e9_99e6_a479cec1d1adlevel0_row1\" class=\"row_heading level0 row1\" >2</th>\n",
       "                        <td id=\"T_ed58a61e_4638_11e9_99e6_a479cec1d1adrow1_col0\" class=\"data row1 col0\" ><img src=\"https://i.ytimg.com/vi/yR76JRVf9SM/default.jpg\"/></td>\n",
       "                        <td id=\"T_ed58a61e_4638_11e9_99e6_a479cec1d1adrow1_col1\" class=\"data row1 col1\" >「Kimi wa Melody –เธอคือ...เมโลดี้–」Senbatsu Members Announcement / BNK48</td>\n",
       "                        <td id=\"T_ed58a61e_4638_11e9_99e6_a479cec1d1adrow1_col2\" class=\"data row1 col2\" >837,979</td>\n",
       "                        <td id=\"T_ed58a61e_4638_11e9_99e6_a479cec1d1adrow1_col3\" class=\"data row1 col3\" >Music</td>\n",
       "                        <td id=\"T_ed58a61e_4638_11e9_99e6_a479cec1d1adrow1_col4\" class=\"data row1 col4\" >3.61%</td>\n",
       "                        <td id=\"T_ed58a61e_4638_11e9_99e6_a479cec1d1adrow1_col5\" class=\"data row1 col5\" >0.06%</td>\n",
       "                        <td id=\"T_ed58a61e_4638_11e9_99e6_a479cec1d1adrow1_col6\" class=\"data row1 col6\" >0.96%</td>\n",
       "                        <td id=\"T_ed58a61e_4638_11e9_99e6_a479cec1d1adrow1_col7\" class=\"data row1 col7\" >2018-08-18 11:15:31</td>\n",
       "            </tr>\n",
       "            <tr>\n",
       "                        <th id=\"T_ed58a61e_4638_11e9_99e6_a479cec1d1adlevel0_row2\" class=\"row_heading level0 row2\" >3</th>\n",
       "                        <td id=\"T_ed58a61e_4638_11e9_99e6_a479cec1d1adrow2_col0\" class=\"data row2 col0\" ><img src=\"https://i.ytimg.com/vi/IptefJ9C4PY/default.jpg\"/></td>\n",
       "                        <td id=\"T_ed58a61e_4638_11e9_99e6_a479cec1d1adrow2_col1\" class=\"data row2 col1\" >【MV Full】Beginner / BNK48</td>\n",
       "                        <td id=\"T_ed58a61e_4638_11e9_99e6_a479cec1d1adrow2_col2\" class=\"data row2 col2\" >3,351,249</td>\n",
       "                        <td id=\"T_ed58a61e_4638_11e9_99e6_a479cec1d1adrow2_col3\" class=\"data row2 col3\" >Music</td>\n",
       "                        <td id=\"T_ed58a61e_4638_11e9_99e6_a479cec1d1adrow2_col4\" class=\"data row2 col4\" >4.24%</td>\n",
       "                        <td id=\"T_ed58a61e_4638_11e9_99e6_a479cec1d1adrow2_col5\" class=\"data row2 col5\" >0.19%</td>\n",
       "                        <td id=\"T_ed58a61e_4638_11e9_99e6_a479cec1d1adrow2_col6\" class=\"data row2 col6\" >0.80%</td>\n",
       "                        <td id=\"T_ed58a61e_4638_11e9_99e6_a479cec1d1adrow2_col7\" class=\"data row2 col7\" >2019-03-02 15:00:03</td>\n",
       "            </tr>\n",
       "            <tr>\n",
       "                        <th id=\"T_ed58a61e_4638_11e9_99e6_a479cec1d1adlevel0_row3\" class=\"row_heading level0 row3\" >4</th>\n",
       "                        <td id=\"T_ed58a61e_4638_11e9_99e6_a479cec1d1adrow3_col0\" class=\"data row3 col0\" ><img src=\"https://i.ytimg.com/vi/bmMAKDC-PZI/default.jpg\"/></td>\n",
       "                        <td id=\"T_ed58a61e_4638_11e9_99e6_a479cec1d1adrow3_col1\" class=\"data row3 col1\" >「Yume e no Route –หมื่นเส้นทาง–」Senbatsu Members Announcement / BNK48</td>\n",
       "                        <td id=\"T_ed58a61e_4638_11e9_99e6_a479cec1d1adrow3_col2\" class=\"data row3 col2\" >399,431</td>\n",
       "                        <td id=\"T_ed58a61e_4638_11e9_99e6_a479cec1d1adrow3_col3\" class=\"data row3 col3\" >Music</td>\n",
       "                        <td id=\"T_ed58a61e_4638_11e9_99e6_a479cec1d1adrow3_col4\" class=\"data row3 col4\" >3.76%</td>\n",
       "                        <td id=\"T_ed58a61e_4638_11e9_99e6_a479cec1d1adrow3_col5\" class=\"data row3 col5\" >0.05%</td>\n",
       "                        <td id=\"T_ed58a61e_4638_11e9_99e6_a479cec1d1adrow3_col6\" class=\"data row3 col6\" >0.78%</td>\n",
       "                        <td id=\"T_ed58a61e_4638_11e9_99e6_a479cec1d1adrow3_col7\" class=\"data row3 col7\" >2018-08-19 12:25:35</td>\n",
       "            </tr>\n",
       "            <tr>\n",
       "                        <th id=\"T_ed58a61e_4638_11e9_99e6_a479cec1d1adlevel0_row4\" class=\"row_heading level0 row4\" >5</th>\n",
       "                        <td id=\"T_ed58a61e_4638_11e9_99e6_a479cec1d1adrow4_col0\" class=\"data row4 col0\" ><img src=\"https://i.ytimg.com/vi/TxI8FViS2GM/default.jpg\"/></td>\n",
       "                        <td id=\"T_ed58a61e_4638_11e9_99e6_a479cec1d1adrow4_col1\" class=\"data row4 col1\" >Video Messages「Koisuru Fortune Cookie 100,000,000 Views」 / BNK48</td>\n",
       "                        <td id=\"T_ed58a61e_4638_11e9_99e6_a479cec1d1adrow4_col2\" class=\"data row4 col2\" >171,659</td>\n",
       "                        <td id=\"T_ed58a61e_4638_11e9_99e6_a479cec1d1adrow4_col3\" class=\"data row4 col3\" >Music</td>\n",
       "                        <td id=\"T_ed58a61e_4638_11e9_99e6_a479cec1d1adrow4_col4\" class=\"data row4 col4\" >5.41%</td>\n",
       "                        <td id=\"T_ed58a61e_4638_11e9_99e6_a479cec1d1adrow4_col5\" class=\"data row4 col5\" >0.05%</td>\n",
       "                        <td id=\"T_ed58a61e_4638_11e9_99e6_a479cec1d1adrow4_col6\" class=\"data row4 col6\" >0.77%</td>\n",
       "                        <td id=\"T_ed58a61e_4638_11e9_99e6_a479cec1d1adrow4_col7\" class=\"data row4 col7\" >2018-04-02 04:30:07</td>\n",
       "            </tr>\n",
       "            <tr>\n",
       "                        <th id=\"T_ed58a61e_4638_11e9_99e6_a479cec1d1adlevel0_row5\" class=\"row_heading level0 row5\" >6</th>\n",
       "                        <td id=\"T_ed58a61e_4638_11e9_99e6_a479cec1d1adrow5_col0\" class=\"data row5 col0\" ><img src=\"https://i.ytimg.com/vi/nag9fwxFBAo/default.jpg\"/></td>\n",
       "                        <td id=\"T_ed58a61e_4638_11e9_99e6_a479cec1d1adrow5_col1\" class=\"data row5 col1\" >【MV Teaser】Kimi wa Melody เธอคือ…เมโลดี้ / BNK48</td>\n",
       "                        <td id=\"T_ed58a61e_4638_11e9_99e6_a479cec1d1adrow5_col2\" class=\"data row5 col2\" >387,468</td>\n",
       "                        <td id=\"T_ed58a61e_4638_11e9_99e6_a479cec1d1adrow5_col3\" class=\"data row5 col3\" >Music</td>\n",
       "                        <td id=\"T_ed58a61e_4638_11e9_99e6_a479cec1d1adrow5_col4\" class=\"data row5 col4\" >5.78%</td>\n",
       "                        <td id=\"T_ed58a61e_4638_11e9_99e6_a479cec1d1adrow5_col5\" class=\"data row5 col5\" >0.05%</td>\n",
       "                        <td id=\"T_ed58a61e_4638_11e9_99e6_a479cec1d1adrow5_col6\" class=\"data row5 col6\" >0.74%</td>\n",
       "                        <td id=\"T_ed58a61e_4638_11e9_99e6_a479cec1d1adrow5_col7\" class=\"data row5 col7\" >2018-09-01 03:00:03</td>\n",
       "            </tr>\n",
       "            <tr>\n",
       "                        <th id=\"T_ed58a61e_4638_11e9_99e6_a479cec1d1adlevel0_row6\" class=\"row_heading level0 row6\" >7</th>\n",
       "                        <td id=\"T_ed58a61e_4638_11e9_99e6_a479cec1d1adrow6_col0\" class=\"data row6 col0\" ><img src=\"https://i.ytimg.com/vi/e2uw8PBZBY0/default.jpg\"/></td>\n",
       "                        <td id=\"T_ed58a61e_4638_11e9_99e6_a479cec1d1adrow6_col1\" class=\"data row6 col1\" >【MV Teaser】Beginner / BNK48</td>\n",
       "                        <td id=\"T_ed58a61e_4638_11e9_99e6_a479cec1d1adrow6_col2\" class=\"data row6 col2\" >724,161</td>\n",
       "                        <td id=\"T_ed58a61e_4638_11e9_99e6_a479cec1d1adrow6_col3\" class=\"data row6 col3\" >Music</td>\n",
       "                        <td id=\"T_ed58a61e_4638_11e9_99e6_a479cec1d1adrow6_col4\" class=\"data row6 col4\" >4.44%</td>\n",
       "                        <td id=\"T_ed58a61e_4638_11e9_99e6_a479cec1d1adrow6_col5\" class=\"data row6 col5\" >0.07%</td>\n",
       "                        <td id=\"T_ed58a61e_4638_11e9_99e6_a479cec1d1adrow6_col6\" class=\"data row6 col6\" >0.74%</td>\n",
       "                        <td id=\"T_ed58a61e_4638_11e9_99e6_a479cec1d1adrow6_col7\" class=\"data row6 col7\" >2019-02-17 15:36:24</td>\n",
       "            </tr>\n",
       "            <tr>\n",
       "                        <th id=\"T_ed58a61e_4638_11e9_99e6_a479cec1d1adlevel0_row7\" class=\"row_heading level0 row7\" >8</th>\n",
       "                        <td id=\"T_ed58a61e_4638_11e9_99e6_a479cec1d1adrow7_col0\" class=\"data row7 col0\" ><img src=\"https://i.ytimg.com/vi/Q49T77N9Jns/default.jpg\"/></td>\n",
       "                        <td id=\"T_ed58a61e_4638_11e9_99e6_a479cec1d1adrow7_col1\" class=\"data row7 col1\" >BNK48 5th Single「BNK Festival」Senbatsu Members Announcement / BNK48</td>\n",
       "                        <td id=\"T_ed58a61e_4638_11e9_99e6_a479cec1d1adrow7_col2\" class=\"data row7 col2\" >351,841</td>\n",
       "                        <td id=\"T_ed58a61e_4638_11e9_99e6_a479cec1d1adrow7_col3\" class=\"data row7 col3\" >Music</td>\n",
       "                        <td id=\"T_ed58a61e_4638_11e9_99e6_a479cec1d1adrow7_col4\" class=\"data row7 col4\" >3.10%</td>\n",
       "                        <td id=\"T_ed58a61e_4638_11e9_99e6_a479cec1d1adrow7_col5\" class=\"data row7 col5\" >0.04%</td>\n",
       "                        <td id=\"T_ed58a61e_4638_11e9_99e6_a479cec1d1adrow7_col6\" class=\"data row7 col6\" >0.74%</td>\n",
       "                        <td id=\"T_ed58a61e_4638_11e9_99e6_a479cec1d1adrow7_col7\" class=\"data row7 col7\" >2018-09-30 14:57:44</td>\n",
       "            </tr>\n",
       "            <tr>\n",
       "                        <th id=\"T_ed58a61e_4638_11e9_99e6_a479cec1d1adlevel0_row8\" class=\"row_heading level0 row8\" >9</th>\n",
       "                        <td id=\"T_ed58a61e_4638_11e9_99e6_a479cec1d1adrow8_col0\" class=\"data row8 col0\" ><img src=\"https://i.ytimg.com/vi/sGPvK_XnmAM/default.jpg\"/></td>\n",
       "                        <td id=\"T_ed58a61e_4638_11e9_99e6_a479cec1d1adrow8_col1\" class=\"data row8 col1\" >BNK48 Team BⅢ｜Milin Dokthian (Namneung)</td>\n",
       "                        <td id=\"T_ed58a61e_4638_11e9_99e6_a479cec1d1adrow8_col2\" class=\"data row8 col2\" >159,318</td>\n",
       "                        <td id=\"T_ed58a61e_4638_11e9_99e6_a479cec1d1adrow8_col3\" class=\"data row8 col3\" >Music</td>\n",
       "                        <td id=\"T_ed58a61e_4638_11e9_99e6_a479cec1d1adrow8_col4\" class=\"data row8 col4\" >5.46%</td>\n",
       "                        <td id=\"T_ed58a61e_4638_11e9_99e6_a479cec1d1adrow8_col5\" class=\"data row8 col5\" >0.04%</td>\n",
       "                        <td id=\"T_ed58a61e_4638_11e9_99e6_a479cec1d1adrow8_col6\" class=\"data row8 col6\" >0.72%</td>\n",
       "                        <td id=\"T_ed58a61e_4638_11e9_99e6_a479cec1d1adrow8_col7\" class=\"data row8 col7\" >2018-11-16 05:45:00</td>\n",
       "            </tr>\n",
       "            <tr>\n",
       "                        <th id=\"T_ed58a61e_4638_11e9_99e6_a479cec1d1adlevel0_row9\" class=\"row_heading level0 row9\" >10</th>\n",
       "                        <td id=\"T_ed58a61e_4638_11e9_99e6_a479cec1d1adrow9_col0\" class=\"data row9 col0\" ><img src=\"https://i.ytimg.com/vi/QkYPSuLYXpM/default.jpg\"/></td>\n",
       "                        <td id=\"T_ed58a61e_4638_11e9_99e6_a479cec1d1adrow9_col1\" class=\"data row9 col1\" >「BNK48 6th Single Senbatsu General Election」Announcement / BNK48</td>\n",
       "                        <td id=\"T_ed58a61e_4638_11e9_99e6_a479cec1d1adrow9_col2\" class=\"data row9 col2\" >403,885</td>\n",
       "                        <td id=\"T_ed58a61e_4638_11e9_99e6_a479cec1d1adrow9_col3\" class=\"data row9 col3\" >Music</td>\n",
       "                        <td id=\"T_ed58a61e_4638_11e9_99e6_a479cec1d1adrow9_col4\" class=\"data row9 col4\" >3.28%</td>\n",
       "                        <td id=\"T_ed58a61e_4638_11e9_99e6_a479cec1d1adrow9_col5\" class=\"data row9 col5\" >0.04%</td>\n",
       "                        <td id=\"T_ed58a61e_4638_11e9_99e6_a479cec1d1adrow9_col6\" class=\"data row9 col6\" >0.71%</td>\n",
       "                        <td id=\"T_ed58a61e_4638_11e9_99e6_a479cec1d1adrow9_col7\" class=\"data row9 col7\" >2018-09-30 15:00:07</td>\n",
       "            </tr>\n",
       "    </tbody></table>"
      ],
      "text/plain": [
       "<IPython.core.display.HTML object>"
      ]
     },
     "metadata": {},
     "output_type": "display_data"
    }
   ],
   "source": [
    "# Top % Commented\n",
    "data = df.sort_values('% Commented', ascending=False).head(10)\n",
    "data.index = np.arange(1, data.shape[0]+1)\n",
    "\n",
    "# Render table in html\n",
    "display(HTML(\n",
    "    data.style\n",
    "        .format({'View': '{:,}','Image':'<img src=\"{}\"/>',\n",
    "                '% Liked': '{:.2%}', '% Disliked': '{:.2%}', \n",
    "                '% Commented': '{:.2%}'})\n",
    "        .set_table_styles(styles)\n",
    "        .render()\n",
    "))"
   ]
  },
  {
   "cell_type": "markdown",
   "metadata": {
    "colab_type": "text",
    "id": "10DMBVgQQGfs"
   },
   "source": [
    "<a id=\"mostrecent\"></a>\n",
    "### Most recent videos"
   ]
  },
  {
   "cell_type": "code",
   "execution_count": 20,
   "metadata": {
    "colab": {
     "base_uri": "https://localhost:8080/",
     "height": 451
    },
    "colab_type": "code",
    "id": "Ln7UpFck2r60",
    "outputId": "e0bd9ce9-dd3e-4e2f-fdee-c29a850122a1"
   },
   "outputs": [
    {
     "data": {
      "text/html": [
       "<style  type=\"text/css\" >\n",
       "    #T_f6fa4430_4638_11e9_9fa4_a479cec1d1ad th {\n",
       "          padding: 4px 4px;\n",
       "          font-weight: bold;\n",
       "          color: #6d6d6d;\n",
       "          background-color: #f7f7f9;\n",
       "    }    #T_f6fa4430_4638_11e9_9fa4_a479cec1d1ad td {\n",
       "          padding: 2px 4px;\n",
       "          font-size: smaller;\n",
       "    }    #T_f6fa4430_4638_11e9_9fa4_a479cec1d1ad img {\n",
       "          width: auto;\n",
       "          height: 80%;\n",
       "    }    #T_f6fa4430_4638_11e9_9fa4_a479cec1d1ad tr:nth-child(even) {\n",
       "          background: #f7f7f9;\n",
       "    }</style><table id=\"T_f6fa4430_4638_11e9_9fa4_a479cec1d1ad\" ><thead>    <tr>        <th class=\"blank level0\" ></th>        <th class=\"col_heading level0 col0\" >Image</th>        <th class=\"col_heading level0 col1\" >Title</th>        <th class=\"col_heading level0 col2\" >View</th>        <th class=\"col_heading level0 col3\" >Category</th>        <th class=\"col_heading level0 col4\" >% Liked</th>        <th class=\"col_heading level0 col5\" >% Disliked</th>        <th class=\"col_heading level0 col6\" >% Commented</th>        <th class=\"col_heading level0 col7\" >Published Date</th>    </tr></thead><tbody>\n",
       "                <tr>\n",
       "                        <th id=\"T_f6fa4430_4638_11e9_9fa4_a479cec1d1adlevel0_row0\" class=\"row_heading level0 row0\" >1</th>\n",
       "                        <td id=\"T_f6fa4430_4638_11e9_9fa4_a479cec1d1adrow0_col0\" class=\"data row0 col0\" ><img src=\"https://i.ytimg.com/vi/i75C1fcyWwI/default.jpg\"/></td>\n",
       "                        <td id=\"T_f6fa4430_4638_11e9_9fa4_a479cec1d1adrow0_col1\" class=\"data row0 col1\" >「ស្នេហ៍ឆ្លងវេហា (Sneha Chlong Veha) –รักข้ามขอบฟ้า–」from BNK48 Hello Cambodia / BNK48</td>\n",
       "                        <td id=\"T_f6fa4430_4638_11e9_9fa4_a479cec1d1adrow0_col2\" class=\"data row0 col2\" >152,446</td>\n",
       "                        <td id=\"T_f6fa4430_4638_11e9_9fa4_a479cec1d1adrow0_col3\" class=\"data row0 col3\" >Music</td>\n",
       "                        <td id=\"T_f6fa4430_4638_11e9_9fa4_a479cec1d1adrow0_col4\" class=\"data row0 col4\" >4.55%</td>\n",
       "                        <td id=\"T_f6fa4430_4638_11e9_9fa4_a479cec1d1adrow0_col5\" class=\"data row0 col5\" >0.06%</td>\n",
       "                        <td id=\"T_f6fa4430_4638_11e9_9fa4_a479cec1d1adrow0_col6\" class=\"data row0 col6\" >0.65%</td>\n",
       "                        <td id=\"T_f6fa4430_4638_11e9_9fa4_a479cec1d1adrow0_col7\" class=\"data row0 col7\" >2019-03-07 04:07:07</td>\n",
       "            </tr>\n",
       "            <tr>\n",
       "                        <th id=\"T_f6fa4430_4638_11e9_9fa4_a479cec1d1adlevel0_row1\" class=\"row_heading level0 row1\" >2</th>\n",
       "                        <td id=\"T_f6fa4430_4638_11e9_9fa4_a479cec1d1adrow1_col0\" class=\"data row1 col0\" ><img src=\"https://i.ytimg.com/vi/IptefJ9C4PY/default.jpg\"/></td>\n",
       "                        <td id=\"T_f6fa4430_4638_11e9_9fa4_a479cec1d1adrow1_col1\" class=\"data row1 col1\" >【MV Full】Beginner / BNK48</td>\n",
       "                        <td id=\"T_f6fa4430_4638_11e9_9fa4_a479cec1d1adrow1_col2\" class=\"data row1 col2\" >3,351,249</td>\n",
       "                        <td id=\"T_f6fa4430_4638_11e9_9fa4_a479cec1d1adrow1_col3\" class=\"data row1 col3\" >Music</td>\n",
       "                        <td id=\"T_f6fa4430_4638_11e9_9fa4_a479cec1d1adrow1_col4\" class=\"data row1 col4\" >4.24%</td>\n",
       "                        <td id=\"T_f6fa4430_4638_11e9_9fa4_a479cec1d1adrow1_col5\" class=\"data row1 col5\" >0.19%</td>\n",
       "                        <td id=\"T_f6fa4430_4638_11e9_9fa4_a479cec1d1adrow1_col6\" class=\"data row1 col6\" >0.80%</td>\n",
       "                        <td id=\"T_f6fa4430_4638_11e9_9fa4_a479cec1d1adrow1_col7\" class=\"data row1 col7\" >2019-03-02 15:00:03</td>\n",
       "            </tr>\n",
       "            <tr>\n",
       "                        <th id=\"T_f6fa4430_4638_11e9_9fa4_a479cec1d1adlevel0_row2\" class=\"row_heading level0 row2\" >3</th>\n",
       "                        <td id=\"T_f6fa4430_4638_11e9_9fa4_a479cec1d1adrow2_col0\" class=\"data row2 col0\" ><img src=\"https://i.ytimg.com/vi/w0veGNs05es/default.jpg\"/></td>\n",
       "                        <td id=\"T_f6fa4430_4638_11e9_9fa4_a479cec1d1adrow2_col1\" class=\"data row2 col1\" >BNK48 THANK YOU & THE BEGINNER  2 MARCH 2019</td>\n",
       "                        <td id=\"T_f6fa4430_4638_11e9_9fa4_a479cec1d1adrow2_col2\" class=\"data row2 col2\" >541,524</td>\n",
       "                        <td id=\"T_f6fa4430_4638_11e9_9fa4_a479cec1d1adrow2_col3\" class=\"data row2 col3\" >Entertainment</td>\n",
       "                        <td id=\"T_f6fa4430_4638_11e9_9fa4_a479cec1d1adrow2_col4\" class=\"data row2 col4\" >3.57%</td>\n",
       "                        <td id=\"T_f6fa4430_4638_11e9_9fa4_a479cec1d1adrow2_col5\" class=\"data row2 col5\" >0.05%</td>\n",
       "                        <td id=\"T_f6fa4430_4638_11e9_9fa4_a479cec1d1adrow2_col6\" class=\"data row2 col6\" >0.11%</td>\n",
       "                        <td id=\"T_f6fa4430_4638_11e9_9fa4_a479cec1d1adrow2_col7\" class=\"data row2 col7\" >2019-03-02 14:01:05</td>\n",
       "            </tr>\n",
       "            <tr>\n",
       "                        <th id=\"T_f6fa4430_4638_11e9_9fa4_a479cec1d1adlevel0_row3\" class=\"row_heading level0 row3\" >4</th>\n",
       "                        <td id=\"T_f6fa4430_4638_11e9_9fa4_a479cec1d1adrow3_col0\" class=\"data row3 col0\" ><img src=\"https://i.ytimg.com/vi/EWn49RGIowA/default.jpg\"/></td>\n",
       "                        <td id=\"T_f6fa4430_4638_11e9_9fa4_a479cec1d1adrow3_col1\" class=\"data row3 col1\" >「BNK48 Lucky Bag 2019」Lucky Draw / BNK48</td>\n",
       "                        <td id=\"T_f6fa4430_4638_11e9_9fa4_a479cec1d1adrow3_col2\" class=\"data row3 col2\" >91,214</td>\n",
       "                        <td id=\"T_f6fa4430_4638_11e9_9fa4_a479cec1d1adrow3_col3\" class=\"data row3 col3\" >Music</td>\n",
       "                        <td id=\"T_f6fa4430_4638_11e9_9fa4_a479cec1d1adrow3_col4\" class=\"data row3 col4\" >4.11%</td>\n",
       "                        <td id=\"T_f6fa4430_4638_11e9_9fa4_a479cec1d1adrow3_col5\" class=\"data row3 col5\" >0.04%</td>\n",
       "                        <td id=\"T_f6fa4430_4638_11e9_9fa4_a479cec1d1adrow3_col6\" class=\"data row3 col6\" >0.44%</td>\n",
       "                        <td id=\"T_f6fa4430_4638_11e9_9fa4_a479cec1d1adrow3_col7\" class=\"data row3 col7\" >2019-02-26 10:00:02</td>\n",
       "            </tr>\n",
       "            <tr>\n",
       "                        <th id=\"T_f6fa4430_4638_11e9_9fa4_a479cec1d1adlevel0_row4\" class=\"row_heading level0 row4\" >5</th>\n",
       "                        <td id=\"T_f6fa4430_4638_11e9_9fa4_a479cec1d1adrow4_col0\" class=\"data row4 col0\" ><img src=\"https://i.ytimg.com/vi/nrUwnhKERLw/default.jpg\"/></td>\n",
       "                        <td id=\"T_f6fa4430_4638_11e9_9fa4_a479cec1d1adrow4_col1\" class=\"data row4 col1\" >【MV Teaser】Kimi no Koto ga Suki Dakara ก็เพราะว่าชอบเธอ / BNK48</td>\n",
       "                        <td id=\"T_f6fa4430_4638_11e9_9fa4_a479cec1d1adrow4_col2\" class=\"data row4 col2\" >315,883</td>\n",
       "                        <td id=\"T_f6fa4430_4638_11e9_9fa4_a479cec1d1adrow4_col3\" class=\"data row4 col3\" >Music</td>\n",
       "                        <td id=\"T_f6fa4430_4638_11e9_9fa4_a479cec1d1adrow4_col4\" class=\"data row4 col4\" >5.24%</td>\n",
       "                        <td id=\"T_f6fa4430_4638_11e9_9fa4_a479cec1d1adrow4_col5\" class=\"data row4 col5\" >0.05%</td>\n",
       "                        <td id=\"T_f6fa4430_4638_11e9_9fa4_a479cec1d1adrow4_col6\" class=\"data row4 col6\" >0.55%</td>\n",
       "                        <td id=\"T_f6fa4430_4638_11e9_9fa4_a479cec1d1adrow4_col7\" class=\"data row4 col7\" >2019-02-25 15:00:05</td>\n",
       "            </tr>\n",
       "    </tbody></table>"
      ],
      "text/plain": [
       "<IPython.core.display.HTML object>"
      ]
     },
     "metadata": {},
     "output_type": "display_data"
    }
   ],
   "source": [
    "# Most recent\n",
    "data = df.sort_values('Published Date', ascending=False).head(5)\n",
    "data.index = np.arange(1, data.shape[0]+1)\n",
    "\n",
    "# Render table in html\n",
    "display(HTML(\n",
    "    data.style\n",
    "        .format({'View': '{:,}','Image':'<img src=\"{}\"/>',\n",
    "                '% Liked': '{:.2%}', '% Disliked': '{:.2%}', \n",
    "                '% Commented': '{:.2%}'})\n",
    "        .set_table_styles(styles)\n",
    "        .render()\n",
    "))"
   ]
  },
  {
   "cell_type": "markdown",
   "metadata": {
    "colab_type": "text",
    "id": "hYNrFpRKQgvi"
   },
   "source": [
    "<a id=\"video_stats\"></a>\n",
    "### Video Statistics"
   ]
  },
  {
   "cell_type": "code",
   "execution_count": 21,
   "metadata": {
    "colab": {
     "base_uri": "https://localhost:8080/",
     "height": 297
    },
    "colab_type": "code",
    "id": "HxOJv92HQmXh",
    "outputId": "a2766e97-0010-4665-a64b-b461476abc7a"
   },
   "outputs": [
    {
     "data": {
      "text/html": [
       "<div>\n",
       "<style scoped>\n",
       "    .dataframe tbody tr th:only-of-type {\n",
       "        vertical-align: middle;\n",
       "    }\n",
       "\n",
       "    .dataframe tbody tr th {\n",
       "        vertical-align: top;\n",
       "    }\n",
       "\n",
       "    .dataframe thead th {\n",
       "        text-align: right;\n",
       "    }\n",
       "</style>\n",
       "<table border=\"1\" class=\"dataframe\">\n",
       "  <thead>\n",
       "    <tr style=\"text-align: right;\">\n",
       "      <th></th>\n",
       "      <th>duration</th>\n",
       "      <th>view</th>\n",
       "      <th>like</th>\n",
       "      <th>like_pct</th>\n",
       "      <th>dislike</th>\n",
       "      <th>dislike_pct</th>\n",
       "      <th>comment</th>\n",
       "      <th>comment_pct</th>\n",
       "      <th>age</th>\n",
       "    </tr>\n",
       "  </thead>\n",
       "  <tbody>\n",
       "    <tr>\n",
       "      <th>count</th>\n",
       "      <td>351.000000</td>\n",
       "      <td>3.510000e+02</td>\n",
       "      <td>351.000000</td>\n",
       "      <td>351.000000</td>\n",
       "      <td>351.000000</td>\n",
       "      <td>351.000000</td>\n",
       "      <td>351.000000</td>\n",
       "      <td>351.000000</td>\n",
       "      <td>351.000000</td>\n",
       "    </tr>\n",
       "    <tr>\n",
       "      <th>mean</th>\n",
       "      <td>9.583618</td>\n",
       "      <td>9.947833e+05</td>\n",
       "      <td>9911.116809</td>\n",
       "      <td>0.020942</td>\n",
       "      <td>443.931624</td>\n",
       "      <td>0.000426</td>\n",
       "      <td>1396.475783</td>\n",
       "      <td>0.001950</td>\n",
       "      <td>430.005698</td>\n",
       "    </tr>\n",
       "    <tr>\n",
       "      <th>std</th>\n",
       "      <td>18.859113</td>\n",
       "      <td>9.064272e+06</td>\n",
       "      <td>45817.132313</td>\n",
       "      <td>0.014975</td>\n",
       "      <td>3922.850762</td>\n",
       "      <td>0.000394</td>\n",
       "      <td>8128.944944</td>\n",
       "      <td>0.001835</td>\n",
       "      <td>228.877072</td>\n",
       "    </tr>\n",
       "    <tr>\n",
       "      <th>min</th>\n",
       "      <td>0.266667</td>\n",
       "      <td>9.812000e+03</td>\n",
       "      <td>171.000000</td>\n",
       "      <td>0.003907</td>\n",
       "      <td>7.000000</td>\n",
       "      <td>0.000071</td>\n",
       "      <td>8.000000</td>\n",
       "      <td>0.000198</td>\n",
       "      <td>7.000000</td>\n",
       "    </tr>\n",
       "    <tr>\n",
       "      <th>25%</th>\n",
       "      <td>1.750000</td>\n",
       "      <td>6.848400e+04</td>\n",
       "      <td>1447.500000</td>\n",
       "      <td>0.007747</td>\n",
       "      <td>25.000000</td>\n",
       "      <td>0.000196</td>\n",
       "      <td>103.000000</td>\n",
       "      <td>0.000576</td>\n",
       "      <td>191.000000</td>\n",
       "    </tr>\n",
       "    <tr>\n",
       "      <th>50%</th>\n",
       "      <td>6.583333</td>\n",
       "      <td>1.942730e+05</td>\n",
       "      <td>2628.000000</td>\n",
       "      <td>0.015731</td>\n",
       "      <td>53.000000</td>\n",
       "      <td>0.000284</td>\n",
       "      <td>192.000000</td>\n",
       "      <td>0.001223</td>\n",
       "      <td>443.000000</td>\n",
       "    </tr>\n",
       "    <tr>\n",
       "      <th>75%</th>\n",
       "      <td>11.175000</td>\n",
       "      <td>4.371985e+05</td>\n",
       "      <td>5983.500000</td>\n",
       "      <td>0.034632</td>\n",
       "      <td>115.000000</td>\n",
       "      <td>0.000540</td>\n",
       "      <td>512.500000</td>\n",
       "      <td>0.002898</td>\n",
       "      <td>682.000000</td>\n",
       "    </tr>\n",
       "    <tr>\n",
       "      <th>max</th>\n",
       "      <td>184.816667</td>\n",
       "      <td>1.670973e+08</td>\n",
       "      <td>719662.000000</td>\n",
       "      <td>0.058190</td>\n",
       "      <td>70105.000000</td>\n",
       "      <td>0.004281</td>\n",
       "      <td>128602.000000</td>\n",
       "      <td>0.009978</td>\n",
       "      <td>1081.000000</td>\n",
       "    </tr>\n",
       "  </tbody>\n",
       "</table>\n",
       "</div>"
      ],
      "text/plain": [
       "         duration          view           like    like_pct       dislike  \\\n",
       "count  351.000000  3.510000e+02  351.000000     351.000000  351.000000     \n",
       "mean   9.583618    9.947833e+05  9911.116809    0.020942    443.931624     \n",
       "std    18.859113   9.064272e+06  45817.132313   0.014975    3922.850762    \n",
       "min    0.266667    9.812000e+03  171.000000     0.003907    7.000000       \n",
       "25%    1.750000    6.848400e+04  1447.500000    0.007747    25.000000      \n",
       "50%    6.583333    1.942730e+05  2628.000000    0.015731    53.000000      \n",
       "75%    11.175000   4.371985e+05  5983.500000    0.034632    115.000000     \n",
       "max    184.816667  1.670973e+08  719662.000000  0.058190    70105.000000   \n",
       "\n",
       "       dislike_pct        comment  comment_pct          age  \n",
       "count  351.000000   351.000000     351.000000   351.000000   \n",
       "mean   0.000426     1396.475783    0.001950     430.005698   \n",
       "std    0.000394     8128.944944    0.001835     228.877072   \n",
       "min    0.000071     8.000000       0.000198     7.000000     \n",
       "25%    0.000196     103.000000     0.000576     191.000000   \n",
       "50%    0.000284     192.000000     0.001223     443.000000   \n",
       "75%    0.000540     512.500000     0.002898     682.000000   \n",
       "max    0.004281     128602.000000  0.009978     1081.000000  "
      ]
     },
     "execution_count": 21,
     "metadata": {},
     "output_type": "execute_result"
    }
   ],
   "source": [
    "videos.describe()"
   ]
  },
  {
   "cell_type": "markdown",
   "metadata": {
    "colab_type": "text",
    "id": "_he8HSfUQ4CQ"
   },
   "source": [
    "<a id=\"distribution\"></a>\n",
    "### Distributions"
   ]
  },
  {
   "cell_type": "code",
   "execution_count": 22,
   "metadata": {
    "colab": {
     "base_uri": "https://localhost:8080/",
     "height": 725
    },
    "colab_type": "code",
    "id": "YKv6cAFGQ7l1",
    "outputId": "ad4865a0-ebeb-4edd-bb38-556c5eeb7728"
   },
   "outputs": [
    {
     "data": {
      "image/png": "[encoded data removed]",
      "text/plain": [
       "<Figure size 864x720 with 6 Axes>"
      ]
     },
     "metadata": {},
     "output_type": "display_data"
    }
   ],
   "source": [
    "sns.set_style('whitegrid')\n",
    "\n",
    "e10_labels = ['1','10','100','1K','10K','100K','1M','10M','100M','1B','10B']\n",
    "\n",
    "# Subplots\n",
    "f, axes = plt.subplots(3,2, figsize=(12,10))\n",
    "kws=dict(edgecolor='white', linewidth=1)\n",
    "\n",
    "# View histogram\n",
    "ax = sns.distplot(np.log10(videos['view']+1), axlabel='View (log10)', \n",
    "                  kde=False, ax=axes[0,0], color='deepskyblue', hist_kws=kws)\n",
    "ax.set_title('View Distribution')\n",
    "ax.set_xticks(np.arange(5,9))\n",
    "ax.set_xticklabels(e10_labels[5:9])\n",
    "\n",
    "# Comment histogram\n",
    "ax = sns.distplot(np.log10(videos['comment']+1), axlabel='Comment (log10)', \n",
    "                  kde=False, ax=axes[0,1], color='orange', hist_kws=kws)\n",
    "ax.set_title('Comment Distribution')\n",
    "ax.set_xticks(np.arange(1,7))\n",
    "ax.set_xticklabels(e10_labels[1:7])\n",
    "\n",
    "# Like histogram\n",
    "ax = sns.distplot(np.log10(videos['like']+1), axlabel='Like (log10)', \n",
    "                  kde=False, ax=axes[1,0], color='green', hist_kws=kws)\n",
    "ax.set_title('Like Distribution')\n",
    "ax.set_xticks(np.arange(3,8))\n",
    "ax.set_xticklabels(e10_labels[3:8])\n",
    "\n",
    "# Dislike histogram\n",
    "ax = sns.distplot(np.log10(videos['dislike']+1), axlabel='Dislike (log10)', \n",
    "                  kde=False, ax=axes[1,1], color='red', hist_kws=kws)\n",
    "ax.set_title('Dislike Distribution')\n",
    "ax.set_xticks(np.arange(2,7))\n",
    "ax.set_xticklabels(e10_labels[2:7])\n",
    "\n",
    "# Duration histogram\n",
    "ax = sns.distplot(videos['duration'], axlabel='Duration (minute)', \n",
    "                  kde=False, ax=axes[2,0], color='purple', hist_kws=kws)\n",
    "ax.set_title('Video Duration Distribution')\n",
    "\n",
    "# Age histogram\n",
    "ax = sns.distplot(videos['age'], axlabel='Age (day)', \n",
    "                  kde=False, ax=axes[2,1], color='c', hist_kws=kws)\n",
    "ax.set_title('Video Aging Distribution')\n",
    "\n",
    "plt.tight_layout();"
   ]
  },
  {
   "cell_type": "code",
   "execution_count": 23,
   "metadata": {
    "colab": {
     "base_uri": "https://localhost:8080/",
     "height": 335
    },
    "colab_type": "code",
    "id": "DQfTcMcrScXZ",
    "outputId": "3bd1ba91-58c6-4169-fc2c-7fcaae3fa0a6"
   },
   "outputs": [
    {
     "data": {
      "image/png": "[encoded data removed]",
      "text/plain": [
       "<Figure size 360x360 with 1 Axes>"
      ]
     },
     "metadata": {},
     "output_type": "display_data"
    }
   ],
   "source": [
    "plt.figure(figsize=(5,5))\n",
    "sns.boxplot(data=videos[['like_pct','dislike_pct','comment_pct']]*100)\n",
    "plt.title('Interaction rate per view')\n",
    "plt.yscale('log');"
   ]
  },
  {
   "cell_type": "code",
   "execution_count": null,
   "metadata": {
    "colab": {},
    "colab_type": "code",
    "id": "0BswhGlD0WmE"
   },
   "outputs": [],
   "source": []
  }
 ],
 "metadata": {
  "colab": {
   "name": "Youtube Channel Analysis.ipynb",
   "provenance": [],
   "toc_visible": true,
   "version": "0.3.2"
  },
  "kernelspec": {
   "display_name": "Python 3",
   "language": "python",
   "name": "python3"
  },
  "language_info": {
   "codemirror_mode": {
    "name": "ipython",
    "version": 3
   },
   "file_extension": ".py",
   "mimetype": "text/x-python",
   "name": "python",
   "nbconvert_exporter": "python",
   "pygments_lexer": "ipython3",
   "version": "3.7.2"
  }
 },
 "nbformat": 4,
 "nbformat_minor": 2
}
